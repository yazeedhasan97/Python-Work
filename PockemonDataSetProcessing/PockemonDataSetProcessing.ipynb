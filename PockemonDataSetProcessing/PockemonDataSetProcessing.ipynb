{
 "cells": [
  {
   "cell_type": "markdown",
   "metadata": {},
   "source": [
    "Files are the basic IO for any programming language or programming field and the most used resource for data.\n",
    "\n",
    "In this task, and using the available Pokemon data set I will perform the following."
   ]
  },
  {
   "cell_type": "code",
   "execution_count": 1,
   "metadata": {},
   "outputs": [],
   "source": [
    "import csv\n",
    "from pprint import pprint\n",
    "import statistics as sts"
   ]
  },
  {
   "cell_type": "markdown",
   "metadata": {},
   "source": [
    "1 - Count the number of legendary Pokemons and print all the details about them."
   ]
  },
  {
   "cell_type": "code",
   "execution_count": 2,
   "metadata": {},
   "outputs": [
    {
     "name": "stdout",
     "output_type": "stream",
     "text": [
      "['#', 'Name', 'Type 1', 'Type 2', 'Total', 'HP', 'Attack', 'Defense', 'Sp. Atk', 'Sp. Def', 'Speed', 'Stage', 'Legendary'] Len: 13\n",
      "\n",
      "odict_values(['144', 'Articuno', 'Ice', 'Flying', '580', '90', '85', '100', '95', '125', '85', '1', 'TRUE'])\n",
      "odict_values(['145', 'Zapdos', 'Electric', 'Flying', '580', '90', '90', '85', '125', '90', '100', '1', 'TRUE'])\n",
      "odict_values(['146', 'Moltres', 'Fire', 'Flying', '580', '90', '100', '90', '125', '85', '90', '1', 'TRUE'])\n",
      "odict_values(['150', 'Mewtwo', 'Psychic', '', '680', '106', '110', '90', '154', '90', '130', '1', 'TRUE'])\n",
      "\n",
      "Total number of Legendary Pokemons: 4\n"
     ]
    }
   ],
   "source": [
    "with open('Pokemon.csv') as file:\n",
    "    csv_reader = csv.DictReader(file)\n",
    "    print(csv_reader.fieldnames, \"Len:\", len(csv_reader.fieldnames), end='\\n\\n')\n",
    "    \n",
    "    lega_count = 0\n",
    "    for i in csv_reader:\n",
    "        if i['Legendary'] == 'TRUE':\n",
    "            lega_count += 1\n",
    "            print(i.values())\n",
    "    print('\\nTotal number of Legendary Pokemons:', lega_count)"
   ]
  },
  {
   "cell_type": "markdown",
   "metadata": {},
   "source": [
    "2 - Count all the unique Pokemon types in the data set."
   ]
  },
  {
   "cell_type": "code",
   "execution_count": 3,
   "metadata": {},
   "outputs": [
    {
     "name": "stdout",
     "output_type": "stream",
     "text": [
      "Total number of unique Types is: 18\n",
      "{'', 'Psychic', 'Fire', 'Bug', 'Rock', 'Ghost', 'Water', 'Normal', 'Fairy', 'Dragon', 'Ice', 'Flying', 'Ground', 'Poison', 'Fighting', 'Electric', 'Grass', 'Steel'}\n"
     ]
    }
   ],
   "source": [
    "with open('Pokemon.csv') as file:\n",
    "    csv_reader = csv.DictReader(file)\n",
    "    \n",
    "    unique_types = set()\n",
    "    for i in csv_reader:\n",
    "        unique_types.add(i['Type 1'])\n",
    "        unique_types.add(i['Type 2'])\n",
    "     \n",
    "    print('Total number of unique Types is:', len(unique_types))\n",
    "    print(unique_types)\n",
    "    \n",
    "    "
   ]
  },
  {
   "cell_type": "markdown",
   "metadata": {},
   "source": [
    "3 - Count the number Pokemons who got a single types.\n",
    "\n"
   ]
  },
  {
   "cell_type": "code",
   "execution_count": 4,
   "metadata": {},
   "outputs": [
    {
     "name": "stdout",
     "output_type": "stream",
     "text": [
      "Total number Pokemons who got a single type: 84\n"
     ]
    }
   ],
   "source": [
    "single_type_count = 0\n",
    "with open('Pokemon.csv') as file:\n",
    "    csv_reader = csv.DictReader(file)\n",
    "    for i in csv_reader:\n",
    "        if (i['Type 1'] != '' and i['Type 2'] == '') or (i['Type 2'] != '' and i['Type 1'] == ''):\n",
    "            single_type_count += 1\n",
    "    \n",
    "    print('Total number Pokemons who got a single type:', single_type_count)"
   ]
  },
  {
   "cell_type": "markdown",
   "metadata": {},
   "source": [
    "4 - Count the number Pokemons who got two types."
   ]
  },
  {
   "cell_type": "code",
   "execution_count": 5,
   "metadata": {},
   "outputs": [
    {
     "name": "stdout",
     "output_type": "stream",
     "text": [
      "Total number Pokemons who got a single type: 67\n"
     ]
    }
   ],
   "source": [
    "print('Total number Pokemons who got a single type:', csv_reader.line_num - 1  - single_type_count )"
   ]
  },
  {
   "cell_type": "markdown",
   "metadata": {},
   "source": [
    "5 - Print the most frequent Pokemon type in the data set."
   ]
  },
  {
   "cell_type": "code",
   "execution_count": 6,
   "metadata": {},
   "outputs": [
    {
     "name": "stdout",
     "output_type": "stream",
     "text": [
      "Total number of types and thier frequances:\n",
      "{'Bug': 11,\n",
      " 'Dragon': 2,\n",
      " 'Electric': 8,\n",
      " 'Fairy': 4,\n",
      " 'Fighting': 7,\n",
      " 'Fire': 11,\n",
      " 'Flying': 18,\n",
      " 'Ghost': 2,\n",
      " 'Grass': 13,\n",
      " 'Ground': 13,\n",
      " 'Ice': 4,\n",
      " 'Normal': 21,\n",
      " 'Poison': 32,\n",
      " 'Psychic': 13,\n",
      " 'Rock': 10,\n",
      " 'Steel': 1,\n",
      " 'Water': 31}\n",
      "\n",
      "The most frequant type is: Poison\n"
     ]
    }
   ],
   "source": [
    "type_freq_dict = {}\n",
    "\n",
    "def max_value(x):\n",
    "    return type_freq_dict[x]\n",
    "\n",
    "\n",
    "with open('Pokemon.csv') as file:\n",
    "    csv_reader = csv.DictReader(file)\n",
    "    for i in csv_reader:\n",
    "        if i['Type 1'] not in type_freq_dict:\n",
    "            type_freq_dict[i['Type 1']] = 0\n",
    "        else:\n",
    "            type_freq_dict[i['Type 1']] += 1\n",
    "            \n",
    "        if i['Type 2'] not in type_freq_dict:\n",
    "            type_freq_dict[i['Type 2']] = 0\n",
    "        else:\n",
    "            type_freq_dict[i['Type 2']] += 1\n",
    "    del type_freq_dict['']\n",
    "    print('Total number of types and thier frequances:')\n",
    "    pprint(type_freq_dict)\n",
    "    print()\n",
    "    print('The most frequant type is:', max(type_freq_dict.keys(), key=max_value ))\n",
    "    "
   ]
  },
  {
   "cell_type": "markdown",
   "metadata": {},
   "source": [
    "6 - Find the average HP of all flying Pokemons."
   ]
  },
  {
   "cell_type": "code",
   "execution_count": 7,
   "metadata": {},
   "outputs": [
    {
     "name": "stdout",
     "output_type": "stream",
     "text": [
      "The average HP of all flying Pokemons: 68.26315789473684\n"
     ]
    }
   ],
   "source": [
    "flying_pok = []\n",
    "\n",
    "with open('Pokemon.csv') as file:\n",
    "    csv_reader = csv.DictReader(file)\n",
    "    for i in csv_reader:\n",
    "        if i['Type 2'] == 'Flying' or i['Type 1'] == 'Flying':\n",
    "            flying_pok.append(int(i['HP']))\n",
    "\n",
    "    print('The average HP of all flying Pokemons:', sts.mean(flying_pok))"
   ]
  },
  {
   "cell_type": "markdown",
   "metadata": {},
   "source": [
    "7 - Find the Variance and Standard Deviation of the Total column in the data set."
   ]
  },
  {
   "cell_type": "code",
   "execution_count": 8,
   "metadata": {},
   "outputs": [
    {
     "name": "stdout",
     "output_type": "stream",
     "text": [
      "The Variance: 9948.833642384106\n",
      "The Standard Deviation: 99.74384012250634\n"
     ]
    }
   ],
   "source": [
    "with open('Pokemon.csv') as file:\n",
    "    csv_reader = csv.DictReader(file)\n",
    "    total_col = list(map(int, [i['Total'] for i in csv_reader])) # :p    \n",
    "    print('The Variance:', sts.variance(total_col))\n",
    "    print('The Standard Deviation:', sts.stdev(total_col))"
   ]
  },
  {
   "cell_type": "markdown",
   "metadata": {},
   "source": [
    "8 - Find the first 5 Pokemons with the biggest attack power.\n",
    "\n",
    "    Attack power is calculated as the (attack speed * attack power) * 1 if the Pokemon has a single type, and * 2 if the Pokemon has a two types.\n",
    "    Also if the Pokemon is legendary we add 75 to the total power calculated.\n",
    "    \n",
    "9 - Find the Pokemons with Balance in their attack power and defense power. \n",
    "\n",
    "    Total defense power is calculated the same as the attack but using the defense columns instead.\n",
    "    We say a pokemon is balanced if the difference between the total attack and different powers are at most 25."
   ]
  },
  {
   "cell_type": "code",
   "execution_count": 16,
   "metadata": {},
   "outputs": [
    {
     "name": "stdout",
     "output_type": "stream",
     "text": [
      "Bulbasaur Is Balanced.\n",
      "Ekans Is Balanced.\n",
      "Poliwhirl Is Balanced.\n",
      "Slowpoke Is Balanced.\n",
      "Ditto Is Balanced.\n",
      "Snorlax Is Balanced.\n",
      "Mew Is Balanced.\n",
      "----------------------------------------------------------------------------------------------------\n",
      "[('Dragonite', [26800.0, 91]),\n",
      " ('Exeggutor', [23750.0, 95]),\n",
      " ('Victreebel', [21000.0, 80]),\n",
      " ('Charizard', [18312.0, 78]),\n",
      " ('Vileplume', [17600.0, 75])]\n"
     ]
    }
   ],
   "source": [
    "intresting_fields = {}\n",
    "\n",
    "leg_def = 0\n",
    "leg_hp = 0\n",
    "\n",
    "with open('Pokemon.csv') as file:\n",
    "    csv_reader = csv.DictReader(file)\n",
    "    for i in csv_reader:\n",
    "        power = 0\n",
    "        if i['Type 2'] != '':\n",
    "            att = float(i['Sp. Atk']) * float(i['Attack']) * 2\n",
    "            deff = float(i['Sp. Def']) * float(i['Defense']) * 2\n",
    "        else:\n",
    "            att = float(i['Sp. Atk']) * float(i['Attack']) * 1\n",
    "            deff = float(i['Sp. Def']) * float(i['Defense']) * 1\n",
    "\n",
    "        if att >= deff - 25 and att <= deff + 25:\n",
    "            print(f\"{i['Name']} Is Balanced.\")\n",
    "                  \n",
    "        if i['Legendary'] == 'TRUE':\n",
    "            att += 75\n",
    "            deff += 75\n",
    "            leg_def += deff\n",
    "            leg_hp += int(i['HP'])\n",
    "            continue\n",
    "\n",
    "        intresting_fields[i['Name']] = [att, int(i['HP'])]\n",
    "\n",
    "\n",
    "\n",
    "                  \n",
    "print('-'*100)\n",
    "def last_item(lis):\n",
    "    return lis[1][0]\n",
    "sort_pok = list(intresting_fields.items())\n",
    "sort_pok.sort(key = last_item, reverse=True)\n",
    "pprint(sort_pok[0:5])"
   ]
  },
  {
   "cell_type": "markdown",
   "metadata": {},
   "source": [
    "10 - Find a team containing the minimum number of Pokemons required to defeat a Pokemon team consist only from the legendary Pokemons.\n",
    "\n",
    "    For the attackers you calculate the total attack power of the Pokemons team using the equation:\n",
    "        Attackers total att power / Defenders total HP = result1\n",
    "    \n",
    "    For the defenders you calculate the total attack power of the Pokemons team using the equation:\n",
    "        Defenders total deff power / Attackers total HP = result2\n",
    "    \n",
    "    \n",
    "    The final result calculated by subtract the att result from the deff result:\n",
    "        result2 - result1 = Final\n",
    "\n",
    "Note: Consider the legendary Pokemons team as the defenders always"
   ]
  },
  {
   "cell_type": "code",
   "execution_count": 17,
   "metadata": {},
   "outputs": [
    {
     "name": "stdout",
     "output_type": "stream",
     "text": [
      "26800.0 91\n",
      "50550.0 186\n",
      "71550.0 266\n",
      "89862.0 344\n",
      "Winner Team that can defeat the legendary team is: ['Dragonite', 'Exeggutor', 'Victreebel', 'Charizard']\n"
     ]
    }
   ],
   "source": [
    "intresting_fields = dict(sort_pok)\n",
    "att_pow = 0\n",
    "att_hp = 0\n",
    "att_team = []\n",
    "for name, (att, hp) in intresting_fields.items():\n",
    "    att_pow += att\n",
    "    att_hp += hp\n",
    "    att_team.append(name)\n",
    "    print(att_pow, att_hp)\n",
    "    \n",
    "    res1 = att_pow / leg_hp\n",
    "    res2 = leg_def / att_hp\n",
    "    \n",
    "    if res1 - res2 < 0:\n",
    "        continue\n",
    "    else:\n",
    "        break\n",
    "print('Winner Team that can defeat the legendary team is:',att_team)"
   ]
  }
 ],
 "metadata": {
  "kernelspec": {
   "display_name": "Python 3",
   "language": "python",
   "name": "python3"
  },
  "language_info": {
   "codemirror_mode": {
    "name": "ipython",
    "version": 3
   },
   "file_extension": ".py",
   "mimetype": "text/x-python",
   "name": "python",
   "nbconvert_exporter": "python",
   "pygments_lexer": "ipython3",
   "version": "3.7.4"
  }
 },
 "nbformat": 4,
 "nbformat_minor": 2
}
