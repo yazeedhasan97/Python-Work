{
 "cells": [
  {
   "cell_type": "code",
   "execution_count": 1,
   "id": "6c505ac1-30c3-4c77-b4e5-c3bde12fca61",
   "metadata": {},
   "outputs": [
    {
     "name": "stdout",
     "output_type": "stream",
     "text": [
      "2.9.1\n",
      "INFO:tensorflow:Mixed precision compatibility check (mixed_float16): OK\n",
      "Your GPU will likely run quickly with dtype policy mixed_float16 as it has compute capability of at least 7.0. Your GPU: NVIDIA GeForce RTX 2070 SUPER, compute capability 7.5\n"
     ]
    }
   ],
   "source": [
    "import tensorflow as tf\n",
    "import tensorflow_datasets as tfds\n",
    "\n",
    "import numpy as np\n",
    "import pandas as pd\n",
    "\n",
    "import matplotlib.pyplot as plt\n",
    "import matplotlib.image as mpimg\n",
    "\n",
    "import random\n",
    "from sklearn.metrics import accuracy_score\n",
    "\n",
    "import requests, zipfile, io\n",
    "import os, glob\n",
    "import shutil\n",
    "\n",
    "print(tf.__version__)\n",
    "tf.keras.mixed_precision.set_global_policy('mixed_float16')"
   ]
  },
  {
   "cell_type": "code",
   "execution_count": 2,
   "id": "47252937-a58a-4815-9317-40701f4193c4",
   "metadata": {},
   "outputs": [
    {
     "name": "stdout",
     "output_type": "stream",
     "text": [
      "tfds.core.DatasetInfo(\n",
      "    name='imdb_reviews',\n",
      "    full_name='imdb_reviews/plain_text/1.0.0',\n",
      "    description=\"\"\"\n",
      "    Large Movie Review Dataset.\n",
      "    This is a dataset for binary sentiment classification containing substantially more data than previous benchmark datasets. We provide a set of 25,000 highly polar movie reviews for training, and 25,000 for testing. There is additional unlabeled data for use as well.\n",
      "    \"\"\",\n",
      "    config_description=\"\"\"\n",
      "    Plain text\n",
      "    \"\"\",\n",
      "    homepage='http://ai.stanford.edu/~amaas/data/sentiment/',\n",
      "    data_path='~\\\\tensorflow_datasets\\\\imdb_reviews\\\\plain_text\\\\1.0.0',\n",
      "    file_format=tfrecord,\n",
      "    download_size=80.23 MiB,\n",
      "    dataset_size=129.83 MiB,\n",
      "    features=FeaturesDict({\n",
      "        'label': ClassLabel(shape=(), dtype=tf.int64, num_classes=2),\n",
      "        'text': Text(shape=(), dtype=tf.string),\n",
      "    }),\n",
      "    supervised_keys=('text', 'label'),\n",
      "    disable_shuffling=False,\n",
      "    splits={\n",
      "        'test': <SplitInfo num_examples=25000, num_shards=1>,\n",
      "        'train': <SplitInfo num_examples=25000, num_shards=1>,\n",
      "        'unsupervised': <SplitInfo num_examples=50000, num_shards=1>,\n",
      "    },\n",
      "    citation=\"\"\"@InProceedings{maas-EtAl:2011:ACL-HLT2011,\n",
      "      author    = {Maas, Andrew L.  and  Daly, Raymond E.  and  Pham, Peter T.  and  Huang, Dan  and  Ng, Andrew Y.  and  Potts, Christopher},\n",
      "      title     = {Learning Word Vectors for Sentiment Analysis},\n",
      "      booktitle = {Proceedings of the 49th Annual Meeting of the Association for Computational Linguistics: Human Language Technologies},\n",
      "      month     = {June},\n",
      "      year      = {2011},\n",
      "      address   = {Portland, Oregon, USA},\n",
      "      publisher = {Association for Computational Linguistics},\n",
      "      pages     = {142--150},\n",
      "      url       = {http://www.aclweb.org/anthology/P11-1015}\n",
      "    }\"\"\",\n",
      ")\n",
      "{'train': <PrefetchDataset element_spec=(TensorSpec(shape=(), dtype=tf.string, name=None), TensorSpec(shape=(), dtype=tf.int64, name=None))>, 'test': <PrefetchDataset element_spec=(TensorSpec(shape=(), dtype=tf.string, name=None), TensorSpec(shape=(), dtype=tf.int64, name=None))>, 'unsupervised': <PrefetchDataset element_spec=(TensorSpec(shape=(), dtype=tf.string, name=None), TensorSpec(shape=(), dtype=tf.int64, name=None))>}\n"
     ]
    }
   ],
   "source": [
    "imdb, info = tfds.load(\"imdb_reviews\", with_info=True, as_supervised=True)\n",
    "print(info)\n",
    "print(imdb)"
   ]
  },
  {
   "cell_type": "code",
   "execution_count": 3,
   "id": "de35f994-ac80-4739-938d-3ce2bcd31837",
   "metadata": {},
   "outputs": [
    {
     "data": {
      "text/plain": [
       "dict_keys(['train', 'test', 'unsupervised'])"
      ]
     },
     "execution_count": 3,
     "metadata": {},
     "output_type": "execute_result"
    }
   ],
   "source": [
    "# dir (imdb)\n",
    "imdb.keys()"
   ]
  },
  {
   "cell_type": "code",
   "execution_count": 4,
   "id": "191faed4-4409-4efe-a794-cb3521c717be",
   "metadata": {},
   "outputs": [
    {
     "name": "stdout",
     "output_type": "stream",
     "text": [
      "tf.Tensor(b\"This was an absolutely terrible movie. Don't be lured in by Christopher Walken or Michael Ironside. Both are great actors, but this must simply be their worst role in history. Even their great acting could not redeem this movie's ridiculous storyline. This movie is an early nineties US propaganda piece. The most pathetic scenes were those when the Columbian rebels were making their cases for revolutions. Maria Conchita Alonso appeared phony, and her pseudo-love affair with Walken was nothing but a pathetic emotional plug in a movie that was devoid of any real meaning. I am disappointed that there are movies like this, ruining actor's like Christopher Walken's good name. I could barely sit through it.\", shape=(), dtype=string) \n",
      "\n",
      "tf.Tensor(b'I have been known to fall asleep during films, but this is usually due to a combination of things including, really tired, being warm and comfortable on the sette and having just eaten a lot. However on this occasion I fell asleep because the film was rubbish. The plot development was constant. Constantly slow and boring. Things seemed to happen, but with no explanation of what was causing them or why. I admit, I may have missed part of the film, but i watched the majority of it and everything just seemed to happen of its own accord without any real concern for anything else. I cant recommend this film at all.', shape=(), dtype=string) \n",
      "\n"
     ]
    }
   ],
   "source": [
    "for example in imdb['train'].take(2):\n",
    "    print(example[0], '\\n')"
   ]
  },
  {
   "cell_type": "code",
   "execution_count": 5,
   "id": "bd8b759b-1887-4087-8807-1ebdc534d803",
   "metadata": {},
   "outputs": [
    {
     "name": "stdout",
     "output_type": "stream",
     "text": [
      "25000 25000\n"
     ]
    }
   ],
   "source": [
    "train_data, test_data = imdb['train'], imdb['test']\n",
    "\n",
    "# Initialize sentences and labels lists\n",
    "training_sentences = []\n",
    "training_labels = []\n",
    "\n",
    "testing_sentences = []\n",
    "testing_labels = []\n",
    "\n",
    "# Loop over all training examples and save the sentences and labels\n",
    "for s,l in train_data:\n",
    "    training_sentences.append(s.numpy().decode('utf8'))\n",
    "    training_labels.append(l.numpy())\n",
    "\n",
    "# Loop over all test examples and save the sentences and labels\n",
    "for s,l in test_data:\n",
    "    testing_sentences.append(s.numpy().decode('utf8'))\n",
    "    testing_labels.append(l.numpy())\n",
    "\n",
    "# Convert labels lists to numpy array\n",
    "training_labels_final = np.array(training_labels)\n",
    "testing_labels_final = np.array(testing_labels)\n",
    "print(len(training_labels_final), len(testing_labels_final))"
   ]
  },
  {
   "cell_type": "code",
   "execution_count": 6,
   "id": "d106c46a-6baa-42f1-9903-433e607bffdf",
   "metadata": {},
   "outputs": [],
   "source": [
    "vocab_size = 10000\n",
    "max_length = 120\n",
    "embedding_dim = 16\n",
    "trunc_type='post'\n",
    "oov_tok = \"<OOV>\"\n",
    "SHUFFLE_SIZE=len(training_labels_final) // 2\n",
    "BATCH_SIZE = 32\n",
    "EPOCHS = 50 \n",
    "PATIENCE = 5\n",
    "MONITOR = 'val_acc'"
   ]
  },
  {
   "cell_type": "code",
   "execution_count": 7,
   "id": "ab78cbc9-fb2d-4dc3-8484-fc90725bd556",
   "metadata": {},
   "outputs": [
    {
     "name": "stdout",
     "output_type": "stream",
     "text": [
      "<TensorSliceDataset element_spec=TensorSpec(shape=(120,), dtype=tf.int32, name=None)> <TensorSliceDataset element_spec=TensorSpec(shape=(), dtype=tf.int64, name=None)>\n",
      "<PrefetchDataset element_spec=(TensorSpec(shape=(None, 120), dtype=tf.int32, name=None), TensorSpec(shape=(None,), dtype=tf.int64, name=None))> \n",
      "\n",
      "\n",
      "<TensorSliceDataset element_spec=TensorSpec(shape=(120,), dtype=tf.int32, name=None)> <TensorSliceDataset element_spec=TensorSpec(shape=(), dtype=tf.int64, name=None)>\n",
      "<PrefetchDataset element_spec=(TensorSpec(shape=(None, 120), dtype=tf.int32, name=None), TensorSpec(shape=(None,), dtype=tf.int64, name=None))> \n",
      "\n",
      "\n"
     ]
    }
   ],
   "source": [
    "tokenizer = tf.keras.preprocessing.text.Tokenizer(num_words = vocab_size, oov_token=oov_tok)\n",
    "\n",
    "# Generate the word index dictionary for the training sentences\n",
    "tokenizer.fit_on_texts(training_sentences)\n",
    "word_index = tokenizer.word_index\n",
    "\n",
    "# Generate and pad the training sequences\n",
    "sequences = tokenizer.texts_to_sequences(training_sentences)\n",
    "padded = tf.keras.preprocessing.sequence.pad_sequences(sequences,maxlen=max_length, truncating=trunc_type)\n",
    "\n",
    "# Generate and pad the test sequences\n",
    "testing_sequences = tokenizer.texts_to_sequences(testing_sentences)\n",
    "testing_padded = tf.keras.preprocessing.sequence.pad_sequences(testing_sequences,maxlen=max_length, truncating=trunc_type)\n",
    "\n",
    "\n",
    "xtrain = tf.data.Dataset.from_tensor_slices(padded)\n",
    "ytrain = tf.data.Dataset.from_tensor_slices(training_labels_final)\n",
    "print(xtrain, ytrain)\n",
    "\n",
    "train_dataset = tf.data.Dataset.zip((xtrain, ytrain)).shuffle(SHUFFLE_SIZE).batch(BATCH_SIZE).prefetch(tf.data.AUTOTUNE)\n",
    "print(train_dataset, '\\n\\n')\n",
    "\n",
    "xtest = tf.data.Dataset.from_tensor_slices(testing_padded)\n",
    "ytest = tf.data.Dataset.from_tensor_slices(testing_labels_final)\n",
    "print(xtest, ytest)\n",
    "\n",
    "test_dataset = tf.data.Dataset.zip((xtest, ytest)).shuffle(SHUFFLE_SIZE).batch(BATCH_SIZE).prefetch(tf.data.AUTOTUNE)\n",
    "print(test_dataset, '\\n\\n')"
   ]
  },
  {
   "cell_type": "code",
   "execution_count": 8,
   "id": "dc744744-8142-487a-95aa-5b0ba7526dbd",
   "metadata": {},
   "outputs": [
    {
     "name": "stdout",
     "output_type": "stream",
     "text": [
      "Model: \"sequential\"\n",
      "_________________________________________________________________\n",
      " Layer (type)                Output Shape              Param #   \n",
      "=================================================================\n",
      " embedding (Embedding)       (None, 120, 16)           160000    \n",
      "                                                                 \n",
      " flatten (Flatten)           (None, 1920)              0         \n",
      "                                                                 \n",
      " dense (Dense)               (None, 6)                 11526     \n",
      "                                                                 \n",
      " dense_1 (Dense)             (None, 1)                 7         \n",
      "                                                                 \n",
      "=================================================================\n",
      "Total params: 171,533\n",
      "Trainable params: 171,533\n",
      "Non-trainable params: 0\n",
      "_________________________________________________________________\n",
      "None\n",
      "Epoch 1/50\n",
      "782/782 [==============================] - 8s 9ms/step - loss: 0.4987 - acc: 0.7408 - val_loss: 0.3818 - val_acc: 0.8267 - lr: 0.0010\n",
      "Epoch 2/50\n",
      "782/782 [==============================] - 8s 10ms/step - loss: 0.2678 - acc: 0.8925 - val_loss: 0.3944 - val_acc: 0.8248 - lr: 0.0010\n",
      "Epoch 3/50\n",
      "782/782 [==============================] - 7s 9ms/step - loss: 0.1443 - acc: 0.9539 - val_loss: 0.4563 - val_acc: 0.8168 - lr: 0.0010\n",
      "Epoch 4/50\n",
      "782/782 [==============================] - 8s 10ms/step - loss: 0.0529 - acc: 0.9910 - val_loss: 0.5608 - val_acc: 0.8054 - lr: 0.0010\n",
      "Epoch 5/50\n",
      "782/782 [==============================] - 8s 10ms/step - loss: 0.0168 - acc: 0.9984 - val_loss: 0.6578 - val_acc: 0.8041 - lr: 0.0010\n",
      "Epoch 6/50\n",
      "782/782 [==============================] - 7s 10ms/step - loss: 0.0056 - acc: 0.9997 - val_loss: 0.7179 - val_acc: 0.8065 - lr: 0.0010\n",
      "Epoch 7/50\n",
      "782/782 [==============================] - 8s 10ms/step - loss: 0.0023 - acc: 1.0000 - val_loss: 0.7319 - val_acc: 0.8054 - lr: 1.0000e-04\n",
      "Epoch 8/50\n",
      "782/782 [==============================] - 8s 10ms/step - loss: 0.0021 - acc: 1.0000 - val_loss: 0.7395 - val_acc: 0.8061 - lr: 1.0000e-04\n",
      "Epoch 9/50\n",
      "782/782 [==============================] - 8s 10ms/step - loss: 0.0018 - acc: 1.0000 - val_loss: 0.7523 - val_acc: 0.8065 - lr: 1.0000e-04\n",
      "Epoch 10/50\n",
      "782/782 [==============================] - 8s 10ms/step - loss: 0.0016 - acc: 1.0000 - val_loss: 0.7680 - val_acc: 0.8070 - lr: 1.0000e-04\n",
      "Epoch 11/50\n",
      "782/782 [==============================] - 8s 10ms/step - loss: 0.0013 - acc: 1.0000 - val_loss: 0.7870 - val_acc: 0.8073 - lr: 1.0000e-04\n"
     ]
    }
   ],
   "source": [
    "MODEL_NAME = './models/imdb_review_embidding_flattened_full_verse.h5'\n",
    "\n",
    "model = tf.keras.Sequential([\n",
    "    tf.keras.layers.Embedding(vocab_size, embedding_dim, input_length=max_length),\n",
    "    tf.keras.layers.Flatten(),\n",
    "    tf.keras.layers.Dense(6, activation='relu'),\n",
    "    tf.keras.layers.Dense(1, activation='sigmoid')\n",
    "])\n",
    "\n",
    "# Setup the training parameters\n",
    "model.compile(\n",
    "    loss=tf.keras.losses.BinaryCrossentropy(), \n",
    "    optimizer=tf.keras.optimizers.Nadam(1e-3),\n",
    "    metrics=['acc']\n",
    ")\n",
    "\n",
    "# Print the model summary\n",
    "print(model.summary())\n",
    "\n",
    "callbacks = [tf.keras.callbacks.ReduceLROnPlateau(monitor=MONITOR, factor=0.1, patience=PATIENCE, min_lr=1e-5)]\n",
    "callbacks += [tf.keras.callbacks.ModelCheckpoint(MODEL_NAME, monitor=MONITOR, save_best_only=True)]\n",
    "callbacks += [tf.keras.callbacks.EarlyStopping(monitor=MONITOR, patience=PATIENCE*2, restore_best_weights=True)]\n",
    "\n",
    "history = model.fit(\n",
    "    train_dataset,\n",
    "    epochs=EPOCHS,\n",
    "    batch_size=BATCH_SIZE,\n",
    "    validation_data=test_dataset,\n",
    "    callbacks=callbacks\n",
    ")"
   ]
  },
  {
   "cell_type": "code",
   "execution_count": 9,
   "id": "a30b1582-3d00-4621-b033-7b3b7daff729",
   "metadata": {},
   "outputs": [
    {
     "data": {
      "image/png": "[encoded data removed]",
      "text/plain": [
       "<Figure size 432x288 with 1 Axes>"
      ]
     },
     "metadata": {
      "needs_background": "light"
     },
     "output_type": "display_data"
    },
    {
     "data": {
      "image/png": "[encoded data removed]",
      "text/plain": [
       "<Figure size 432x288 with 1 Axes>"
      ]
     },
     "metadata": {
      "needs_background": "light"
     },
     "output_type": "display_data"
    }
   ],
   "source": [
    "hist = pd.DataFrame(history.history)\n",
    "hist['epoch'] = history.epoch\n",
    "\n",
    "plt.plot(history.history['loss'])\n",
    "plt.plot(history.history['val_loss'])\n",
    "plt.title('model loss')\n",
    "plt.ylabel('loss')\n",
    "plt.xlabel('epoch')\n",
    "plt.legend(['train', 'test'], loc='upper left')\n",
    "plt.show()\n",
    "\n",
    "plt.plot(history.history['acc'])\n",
    "plt.plot(history.history['val_acc'])\n",
    "plt.title('model acc')\n",
    "plt.ylabel('loss')\n",
    "plt.xlabel('epoch')\n",
    "plt.legend(['train', 'test'], loc='upper left')\n",
    "plt.show()"
   ]
  },
  {
   "cell_type": "code",
   "execution_count": 10,
   "id": "80f67b05-df2c-4835-8344-8fd532acde6e",
   "metadata": {},
   "outputs": [
    {
     "name": "stdout",
     "output_type": "stream",
     "text": [
      "Model: \"sequential_1\"\n",
      "_________________________________________________________________\n",
      " Layer (type)                Output Shape              Param #   \n",
      "=================================================================\n",
      " embedding_1 (Embedding)     (None, 120, 16)           160000    \n",
      "                                                                 \n",
      " global_average_pooling1d (G  (None, 16)               0         \n",
      " lobalAveragePooling1D)                                          \n",
      "                                                                 \n",
      " dense_2 (Dense)             (None, 6)                 102       \n",
      "                                                                 \n",
      " dense_3 (Dense)             (None, 1)                 7         \n",
      "                                                                 \n",
      "=================================================================\n",
      "Total params: 160,109\n",
      "Trainable params: 160,109\n",
      "Non-trainable params: 0\n",
      "_________________________________________________________________\n",
      "None\n",
      "Epoch 1/50\n",
      "782/782 [==============================] - 9s 10ms/step - loss: 0.5628 - acc: 0.7373 - val_loss: 0.4358 - val_acc: 0.8100 - lr: 0.0010\n",
      "Epoch 2/50\n",
      "782/782 [==============================] - 8s 10ms/step - loss: 0.3627 - acc: 0.8494 - val_loss: 0.3756 - val_acc: 0.8343 - lr: 0.0010\n",
      "Epoch 3/50\n",
      "782/782 [==============================] - 8s 10ms/step - loss: 0.3019 - acc: 0.8766 - val_loss: 0.3668 - val_acc: 0.8375 - lr: 0.0010\n",
      "Epoch 4/50\n",
      "782/782 [==============================] - 8s 10ms/step - loss: 0.2679 - acc: 0.8947 - val_loss: 0.3695 - val_acc: 0.8374 - lr: 0.0010\n",
      "Epoch 5/50\n",
      "782/782 [==============================] - 6s 8ms/step - loss: 0.2440 - acc: 0.9044 - val_loss: 0.3772 - val_acc: 0.8359 - lr: 0.0010\n",
      "Epoch 6/50\n",
      "782/782 [==============================] - 7s 9ms/step - loss: 0.2244 - acc: 0.9143 - val_loss: 0.3974 - val_acc: 0.8303 - lr: 0.0010\n",
      "Epoch 7/50\n",
      "782/782 [==============================] - 7s 10ms/step - loss: 0.2087 - acc: 0.9220 - val_loss: 0.4050 - val_acc: 0.8301 - lr: 0.0010\n",
      "Epoch 8/50\n",
      "782/782 [==============================] - 8s 10ms/step - loss: 0.1953 - acc: 0.9294 - val_loss: 0.4254 - val_acc: 0.8272 - lr: 0.0010\n",
      "Epoch 9/50\n",
      "782/782 [==============================] - 8s 10ms/step - loss: 0.1720 - acc: 0.9414 - val_loss: 0.4295 - val_acc: 0.8258 - lr: 1.0000e-04\n",
      "Epoch 10/50\n",
      "782/782 [==============================] - 8s 10ms/step - loss: 0.1703 - acc: 0.9426 - val_loss: 0.4298 - val_acc: 0.8266 - lr: 1.0000e-04\n",
      "Epoch 11/50\n",
      "782/782 [==============================] - 7s 9ms/step - loss: 0.1689 - acc: 0.9429 - val_loss: 0.4325 - val_acc: 0.8268 - lr: 1.0000e-04\n",
      "Epoch 12/50\n",
      "782/782 [==============================] - 8s 10ms/step - loss: 0.1675 - acc: 0.9436 - val_loss: 0.4337 - val_acc: 0.8273 - lr: 1.0000e-04\n",
      "Epoch 13/50\n",
      "782/782 [==============================] - 8s 10ms/step - loss: 0.1661 - acc: 0.9441 - val_loss: 0.4368 - val_acc: 0.8264 - lr: 1.0000e-04\n"
     ]
    }
   ],
   "source": [
    "MODEL_NAME = './models/imdb_review_embidding_global_pooling_full_verse.h5'\n",
    "\n",
    "model = tf.keras.Sequential([\n",
    "    tf.keras.layers.Embedding(vocab_size, embedding_dim, input_length=max_length),\n",
    "    tf.keras.layers.GlobalAveragePooling1D(),\n",
    "    tf.keras.layers.Dense(6, activation='relu'),\n",
    "    tf.keras.layers.Dense(1, activation='sigmoid')\n",
    "])\n",
    "\n",
    "# Setup the training parameters\n",
    "model.compile(\n",
    "    loss=tf.keras.losses.BinaryCrossentropy(), \n",
    "    optimizer=tf.keras.optimizers.Nadam(1e-3),\n",
    "    metrics=['acc']\n",
    ")\n",
    "\n",
    "# Print the model summary\n",
    "print(model.summary())\n",
    "\n",
    "callbacks = [tf.keras.callbacks.ReduceLROnPlateau(monitor=MONITOR, factor=0.1, patience=PATIENCE, min_lr=1e-5)]\n",
    "callbacks += [tf.keras.callbacks.ModelCheckpoint(MODEL_NAME, monitor=MONITOR, save_best_only=True)]\n",
    "callbacks += [tf.keras.callbacks.EarlyStopping(monitor=MONITOR, patience=PATIENCE*2, restore_best_weights=True)]\n",
    "\n",
    "history = model.fit(\n",
    "    train_dataset,\n",
    "    epochs=EPOCHS,\n",
    "    batch_size=BATCH_SIZE,\n",
    "    validation_data=test_dataset,\n",
    "    callbacks=callbacks\n",
    ")"
   ]
  },
  {
   "cell_type": "code",
   "execution_count": 11,
   "id": "2c44833b-28b2-492e-bdf9-7e26b3441175",
   "metadata": {},
   "outputs": [
    {
     "data": {
      "image/png": "[encoded data removed]",
      "text/plain": [
       "<Figure size 432x288 with 1 Axes>"
      ]
     },
     "metadata": {
      "needs_background": "light"
     },
     "output_type": "display_data"
    },
    {
     "data": {
      "image/png": "[encoded data removed]",
      "text/plain": [
       "<Figure size 432x288 with 1 Axes>"
      ]
     },
     "metadata": {
      "needs_background": "light"
     },
     "output_type": "display_data"
    }
   ],
   "source": [
    "hist = pd.DataFrame(history.history)\n",
    "hist['epoch'] = history.epoch\n",
    "\n",
    "plt.plot(history.history['loss'])\n",
    "plt.plot(history.history['val_loss'])\n",
    "plt.title('model loss')\n",
    "plt.ylabel('loss')\n",
    "plt.xlabel('epoch')\n",
    "plt.legend(['train', 'test'], loc='upper left')\n",
    "plt.show()\n",
    "\n",
    "plt.plot(history.history['acc'])\n",
    "plt.plot(history.history['val_acc'])\n",
    "plt.title('model acc')\n",
    "plt.ylabel('loss')\n",
    "plt.xlabel('epoch')\n",
    "plt.legend(['train', 'test'], loc='upper left')\n",
    "plt.show()"
   ]
  },
  {
   "cell_type": "code",
   "execution_count": null,
   "id": "df735578-f863-4b07-8e5c-10c873c18901",
   "metadata": {},
   "outputs": [],
   "source": []
  }
 ],
 "metadata": {
  "kernelspec": {
   "display_name": "Python 3 (ipykernel)",
   "language": "python",
   "name": "python3"
  },
  "language_info": {
   "codemirror_mode": {
    "name": "ipython",
    "version": 3
   },
   "file_extension": ".py",
   "mimetype": "text/x-python",
   "name": "python",
   "nbconvert_exporter": "python",
   "pygments_lexer": "ipython3",
   "version": "3.10.5"
  }
 },
 "nbformat": 4,
 "nbformat_minor": 5
}
