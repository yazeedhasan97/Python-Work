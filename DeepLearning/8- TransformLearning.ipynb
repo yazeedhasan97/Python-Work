{
 "cells": [
  {
   "cell_type": "code",
   "execution_count": 1,
   "id": "29e40029-799a-4a05-996f-d9fc904ac34b",
   "metadata": {},
   "outputs": [
    {
     "name": "stdout",
     "output_type": "stream",
     "text": [
      "2.9.1\n",
      "INFO:tensorflow:Mixed precision compatibility check (mixed_float16): OK\n",
      "Your GPU will likely run quickly with dtype policy mixed_float16 as it has compute capability of at least 7.0. Your GPU: NVIDIA GeForce RTX 2070 SUPER, compute capability 7.5\n"
     ]
    }
   ],
   "source": [
    "import tensorflow as tf\n",
    "import numpy as np\n",
    "import pandas as pd\n",
    "import matplotlib.pyplot as plt\n",
    "import matplotlib.image as mpimg\n",
    "\n",
    "from sklearn.metrics import accuracy_score\n",
    "import requests, zipfile, io\n",
    "import os, glob\n",
    "import random\n",
    "import shutil\n",
    "\n",
    "\n",
    "print(tf.__version__)\n",
    "tf.keras.mixed_precision.set_global_policy('mixed_float16')"
   ]
  },
  {
   "cell_type": "code",
   "execution_count": 2,
   "id": "bf20b72b-9318-4075-81df-1cd9132e36fa",
   "metadata": {},
   "outputs": [],
   "source": [
    "url='https://storage.googleapis.com/mledu-datasets/inception_v3_weights_tf_dim_ordering_tf_kernels_notop.h5'\n",
    "with requests.Session() as session:\n",
    "    r = session.get(url, stream=True)\n",
    "    r.raise_for_status()\n",
    "    with open('./models/inception_v3.h5', 'wb') as h5:\n",
    "        for chunk in r.iter_content(chunk_size=io.DEFAULT_BUFFER_SIZE):\n",
    "            h5.write(chunk)"
   ]
  },
  {
   "cell_type": "code",
   "execution_count": 3,
   "id": "e9abe1d8-3747-4baf-bc7a-56ff52abd5dd",
   "metadata": {},
   "outputs": [],
   "source": [
    "local_weights_file = './models/inception_v3.h5'\n",
    "INPUT_SHAPE = (150, 150)\n",
    "\n",
    "\n",
    "pretraind_model = tf.keras.applications.inception_v3.InceptionV3(\n",
    "    input_shape = (150, 150, 3), \n",
    "    include_top = False, \n",
    "    weights = None\n",
    ")\n",
    "\n",
    "pretraind_model.load_weights(local_weights_file)\n",
    "\n",
    "for layer in pretraind_model.layers:\n",
    "    layer.trainable = False\n",
    "    \n",
    "# pretraind_model.summary()"
   ]
  },
  {
   "cell_type": "code",
   "execution_count": 4,
   "id": "f67f80ed-14cb-4fca-93f6-8197cbd917f2",
   "metadata": {},
   "outputs": [],
   "source": [
    "last_layer = pretraind_model.get_layer('mixed7')\n",
    "last_output = last_layer.output\n",
    "\n",
    "x = tf.keras.layers.Flatten()(last_output)\n",
    "x = tf.keras.layers.Dense(1024, activation='relu')(x)\n",
    "x = tf.keras.layers.Dropout(0.2)(x)                  \n",
    "x = tf.keras.layers.Dense(1, activation='sigmoid')(x)    \n",
    "\n",
    "model = tf.keras.Model(\n",
    "    inputs=pretraind_model.input,\n",
    "    outputs=x,\n",
    ")\n",
    "\n",
    "\n",
    "model.compile(\n",
    "    loss = tf.keras.losses.BinaryCrossentropy(),\n",
    "    optimizer = tf.keras.optimizers.Nadam(1e-3),\n",
    "    # optimizer = tf.keras.optimizers.RMSprop(),\n",
    "    metrics = ['acc']\n",
    ")\n",
    "# model.summary()\n"
   ]
  },
  {
   "cell_type": "code",
   "execution_count": 8,
   "id": "0aa45857-430d-46f7-8199-b652ef4130e8",
   "metadata": {},
   "outputs": [
    {
     "name": "stdout",
     "output_type": "stream",
     "text": [
      "Found 2000 images belonging to 2 classes.\n",
      "Found 1000 images belonging to 2 classes.\n"
     ]
    }
   ],
   "source": [
    "MODEL_NAME = './models/transferd_inception_cats_vs_dogs_full_verse.h5'\n",
    "MONITOR = 'val_acc'\n",
    "BATCH_SIZE = 16\n",
    "EPOCHS = 50 \n",
    "PATIENCE = 5\n",
    "\n",
    "data_dir = './data/cats_vs_dogs/'\n",
    "train_dir = os.path.join(data_dir, 'cats_and_dogs_filtered', 'train')\n",
    "val_dir = os.path.join(data_dir, 'cats_and_dogs_filtered', 'validation')\n",
    "\n",
    "train_generator = tf.keras.preprocessing.image.ImageDataGenerator(\n",
    "    rescale=1./255,\n",
    "    rotation_range=20,\n",
    "    width_shift_range=0.1,\n",
    "    height_shift_range=0.1,\n",
    "    shear_range=0.1,\n",
    "    zoom_range=0.2,\n",
    "    horizontal_flip = True,\n",
    ").flow_from_directory(\n",
    "    train_dir,  \n",
    "    target_size=INPUT_SHAPE, \n",
    "    batch_size=BATCH_SIZE,\n",
    "    class_mode='binary'\n",
    ")\n",
    "\n",
    "val_generator = tf.keras.preprocessing.image.ImageDataGenerator(\n",
    "    rescale=1./255\n",
    ").flow_from_directory(\n",
    "    val_dir,  \n",
    "    target_size=INPUT_SHAPE, \n",
    "    batch_size=BATCH_SIZE,\n",
    "    class_mode='binary'\n",
    ")"
   ]
  },
  {
   "cell_type": "code",
   "execution_count": 9,
   "id": "85010314-f04a-47e1-b026-df52e2152700",
   "metadata": {},
   "outputs": [
    {
     "name": "stdout",
     "output_type": "stream",
     "text": [
      "Epoch 1/50\n",
      "100/100 [==============================] - 31s 226ms/step - loss: 0.6998 - acc: 0.8712 - val_loss: 0.1420 - val_acc: 0.9538 - lr: 0.0010\n",
      "Epoch 2/50\n",
      "100/100 [==============================] - 16s 153ms/step - loss: 0.1713 - acc: 0.9388 - val_loss: 0.1060 - val_acc: 0.9663 - lr: 0.0010\n",
      "Epoch 3/50\n",
      "100/100 [==============================] - 8s 81ms/step - loss: 0.1294 - acc: 0.9500 - val_loss: 0.1981 - val_acc: 0.9312 - lr: 0.0010\n",
      "Epoch 4/50\n",
      "100/100 [==============================] - 13s 126ms/step - loss: 0.1499 - acc: 0.9563 - val_loss: 0.0862 - val_acc: 0.9688 - lr: 0.0010\n",
      "Epoch 5/50\n",
      "100/100 [==============================] - 8s 73ms/step - loss: 0.1191 - acc: 0.9550 - val_loss: 0.1209 - val_acc: 0.9600 - lr: 0.0010\n",
      "Epoch 6/50\n",
      "100/100 [==============================] - 7s 69ms/step - loss: 0.0948 - acc: 0.9675 - val_loss: 0.1682 - val_acc: 0.9413 - lr: 0.0010\n",
      "Epoch 7/50\n",
      "100/100 [==============================] - 7s 72ms/step - loss: 0.0729 - acc: 0.9725 - val_loss: 0.1064 - val_acc: 0.9625 - lr: 0.0010\n",
      "Epoch 8/50\n",
      "100/100 [==============================] - 7s 72ms/step - loss: 0.0822 - acc: 0.9688 - val_loss: 0.1385 - val_acc: 0.9538 - lr: 0.0010\n",
      "Epoch 9/50\n",
      "100/100 [==============================] - 7s 70ms/step - loss: 0.0745 - acc: 0.9737 - val_loss: 0.1002 - val_acc: 0.9625 - lr: 0.0010\n",
      "Epoch 10/50\n",
      "100/100 [==============================] - 7s 69ms/step - loss: 0.0515 - acc: 0.9831 - val_loss: 0.0905 - val_acc: 0.9675 - lr: 1.0000e-04\n",
      "Epoch 11/50\n",
      "100/100 [==============================] - 7s 69ms/step - loss: 0.0330 - acc: 0.9869 - val_loss: 0.0892 - val_acc: 0.9688 - lr: 1.0000e-04\n"
     ]
    }
   ],
   "source": [
    "callbacks = [tf.keras.callbacks.ReduceLROnPlateau(monitor=MONITOR, factor=0.1, patience=PATIENCE, min_lr=1e-5)]\n",
    "callbacks += [tf.keras.callbacks.ModelCheckpoint(MODEL_NAME, monitor=MONITOR, save_best_only=True)]\n",
    "callbacks += [tf.keras.callbacks.EarlyStopping(monitor=MONITOR, patience=PATIENCE+2, restore_best_weights=True)]\n",
    "\n",
    "history = model.fit(\n",
    "    train_generator,\n",
    "    # steps_per_epoch=8,  \n",
    "    epochs=EPOCHS,\n",
    "    steps_per_epoch = 100,\n",
    "    validation_steps = 50,\n",
    "    # batch_size=BATCH_SIZE,\n",
    "    validation_data=val_generator,\n",
    "    callbacks=callbacks\n",
    ")"
   ]
  },
  {
   "cell_type": "code",
   "execution_count": 10,
   "id": "14713ac6-0364-47a2-bfb9-6c9894975639",
   "metadata": {},
   "outputs": [
    {
     "data": {
      "image/png": "[encoded data removed]",
      "text/plain": [
       "<Figure size 432x288 with 1 Axes>"
      ]
     },
     "metadata": {
      "needs_background": "light"
     },
     "output_type": "display_data"
    },
    {
     "data": {
      "image/png": "[encoded data removed]",
      "text/plain": [
       "<Figure size 432x288 with 1 Axes>"
      ]
     },
     "metadata": {
      "needs_background": "light"
     },
     "output_type": "display_data"
    }
   ],
   "source": [
    "hist = pd.DataFrame(history.history)\n",
    "hist['epoch'] = history.epoch\n",
    "\n",
    "plt.plot(history.history['loss'])\n",
    "plt.plot(history.history['val_loss'])\n",
    "plt.title('model loss')\n",
    "plt.ylabel('loss')\n",
    "plt.xlabel('epoch')\n",
    "plt.legend(['train', 'test'], loc='upper left')\n",
    "plt.show()\n",
    "\n",
    "plt.plot(history.history['acc'])\n",
    "plt.plot(history.history['val_acc'])\n",
    "plt.title('model acc')\n",
    "plt.ylabel('loss')\n",
    "plt.xlabel('epoch')\n",
    "plt.legend(['train', 'test'], loc='upper left')\n",
    "plt.show()"
   ]
  },
  {
   "cell_type": "code",
   "execution_count": null,
   "id": "3ded1a11-6441-48db-8c22-8b3cb3aa8e0b",
   "metadata": {},
   "outputs": [],
   "source": []
  }
 ],
 "metadata": {
  "kernelspec": {
   "display_name": "Python 3 (ipykernel)",
   "language": "python",
   "name": "python3"
  },
  "language_info": {
   "codemirror_mode": {
    "name": "ipython",
    "version": 3
   },
   "file_extension": ".py",
   "mimetype": "text/x-python",
   "name": "python",
   "nbconvert_exporter": "python",
   "pygments_lexer": "ipython3",
   "version": "3.8.10"
  }
 },
 "nbformat": 4,
 "nbformat_minor": 5
}
