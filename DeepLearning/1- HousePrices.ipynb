{
 "cells": [
  {
   "cell_type": "code",
   "execution_count": 1,
   "id": "9e3590cc-cc9e-45dc-84ef-7b59e2c01ce0",
   "metadata": {},
   "outputs": [],
   "source": [
    "# !mkdir models"
   ]
  },
  {
   "cell_type": "code",
   "execution_count": 2,
   "id": "e1217bdf-978e-431a-a3a2-e387ad2b376c",
   "metadata": {},
   "outputs": [
    {
     "name": "stdout",
     "output_type": "stream",
     "text": [
      "2.9.1\n",
      "INFO:tensorflow:Mixed precision compatibility check (mixed_float16): OK\n",
      "Your GPU will likely run quickly with dtype policy mixed_float16 as it has compute capability of at least 7.0. Your GPU: NVIDIA GeForce RTX 2070 SUPER, compute capability 7.5\n"
     ]
    }
   ],
   "source": [
    "import tensorflow as tf\n",
    "import numpy as np\n",
    "import pandas as pd\n",
    "import matplotlib.pyplot as plt\n",
    "\n",
    "print(tf.__version__)\n",
    "tf.keras.mixed_precision.set_global_policy('mixed_float16')"
   ]
  },
  {
   "cell_type": "code",
   "execution_count": 3,
   "id": "cc03fd59-d05b-434f-90ed-2eef142d52ba",
   "metadata": {},
   "outputs": [
    {
     "data": {
      "text/plain": [
       "(404, 404, 102, 102)"
      ]
     },
     "execution_count": 3,
     "metadata": {},
     "output_type": "execute_result"
    }
   ],
   "source": [
    "(train_features, train_labels), (test_features, test_labels) = tf.keras.datasets.boston_housing.load_data()\n",
    "len(train_features), len(train_labels), len(test_features), len(test_labels)"
   ]
  },
  {
   "cell_type": "code",
   "execution_count": 4,
   "id": "51ef6799-7295-40df-8ddd-7ad9edc11a43",
   "metadata": {},
   "outputs": [
    {
     "data": {
      "text/plain": [
       "(13,\n",
       " array([  1.23247,   0.     ,   8.14   ,   0.     ,   0.538  ,   6.142  ,\n",
       "         91.7    ,   3.9769 ,   4.     , 307.     ,  21.     , 396.9    ,\n",
       "         18.72   ]))"
      ]
     },
     "execution_count": 4,
     "metadata": {},
     "output_type": "execute_result"
    }
   ],
   "source": [
    "len(train_features[0]), train_features[0]"
   ]
  },
  {
   "cell_type": "code",
   "execution_count": 5,
   "id": "82681824-4675-42bf-b3f6-85f1ea047b92",
   "metadata": {},
   "outputs": [],
   "source": [
    "model = tf.keras.Sequential([\n",
    "    tf.keras.layers.Dense(64, activation='relu', input_shape=[len(train_features[0])]),\n",
    "    tf.keras.layers.BatchNormalization(),\n",
    "    tf.keras.layers.Dense(32, activation='relu',),\n",
    "    tf.keras.layers.BatchNormalization(),\n",
    "    tf.keras.layers.Dense(16, activation='relu',),\n",
    "    tf.keras.layers.Dropout(0.2),\n",
    "    tf.keras.layers.Dense(1),\n",
    "])\n",
    "\n",
    "model.compile(\n",
    "    optimizer=tf.keras.optimizers.Nadam(learning_rate=6e-4), \n",
    "    # optimizer=tf.keras.optimizers.Adam(), \n",
    "    loss='mse', \n",
    "    metrics=['mae', 'mse']\n",
    ")"
   ]
  },
  {
   "cell_type": "code",
   "execution_count": 6,
   "id": "f3816c1b-dafb-4bf8-a719-aef41a798ed0",
   "metadata": {},
   "outputs": [
    {
     "name": "stdout",
     "output_type": "stream",
     "text": [
      "Epoch 1/300\n",
      "121/121 [==============================] - 3s 13ms/step - loss: 601.4525 - mae: 22.5566 - mse: 601.4595 - val_loss: 460.0427 - val_mae: 20.0296 - val_mse: 460.0760 - lr: 6.0000e-04\n",
      "Epoch 2/300\n",
      "121/121 [==============================] - 2s 13ms/step - loss: 510.9680 - mae: 20.3449 - mse: 510.9346 - val_loss: 373.9590 - val_mae: 17.1303 - val_mse: 373.9604 - lr: 6.0000e-04\n",
      "Epoch 3/300\n",
      "121/121 [==============================] - 2s 13ms/step - loss: 420.3084 - mae: 17.7683 - mse: 420.2584 - val_loss: 285.5671 - val_mae: 15.3423 - val_mse: 285.5583 - lr: 6.0000e-04\n",
      "Epoch 4/300\n",
      "121/121 [==============================] - 2s 16ms/step - loss: 317.6575 - mae: 14.7757 - mse: 317.6352 - val_loss: 210.6082 - val_mae: 13.3933 - val_mse: 210.6084 - lr: 6.0000e-04\n",
      "Epoch 5/300\n",
      "121/121 [==============================] - 2s 18ms/step - loss: 238.6904 - mae: 12.6149 - mse: 238.6809 - val_loss: 146.1938 - val_mae: 10.6253 - val_mse: 146.1990 - lr: 6.0000e-04\n",
      "Epoch 6/300\n",
      "121/121 [==============================] - 2s 15ms/step - loss: 181.5430 - mae: 10.5414 - mse: 181.5547 - val_loss: 113.9132 - val_mae: 8.6202 - val_mse: 113.9096 - lr: 6.0000e-04\n",
      "Epoch 7/300\n",
      "121/121 [==============================] - 2s 13ms/step - loss: 168.5946 - mae: 10.1488 - mse: 168.5944 - val_loss: 102.1040 - val_mae: 7.6800 - val_mse: 102.0754 - lr: 6.0000e-04\n",
      "Epoch 8/300\n",
      "121/121 [==============================] - 2s 12ms/step - loss: 178.5038 - mae: 10.3407 - mse: 178.4998 - val_loss: 104.3801 - val_mae: 7.6732 - val_mse: 104.3818 - lr: 6.0000e-04\n",
      "Epoch 9/300\n",
      "121/121 [==============================] - 2s 15ms/step - loss: 138.9154 - mae: 9.1135 - mse: 138.9047 - val_loss: 79.3904 - val_mae: 6.7147 - val_mse: 79.3866 - lr: 6.0000e-04\n",
      "Epoch 10/300\n",
      "121/121 [==============================] - 2s 18ms/step - loss: 154.6278 - mae: 9.3165 - mse: 154.6439 - val_loss: 67.4808 - val_mae: 6.0876 - val_mse: 67.4815 - lr: 6.0000e-04\n",
      "Epoch 11/300\n",
      "121/121 [==============================] - 2s 17ms/step - loss: 132.5347 - mae: 8.8241 - mse: 132.5381 - val_loss: 70.1555 - val_mae: 6.4801 - val_mse: 70.1390 - lr: 6.0000e-04\n",
      "Epoch 12/300\n",
      "121/121 [==============================] - 2s 17ms/step - loss: 139.5009 - mae: 9.3007 - mse: 139.5231 - val_loss: 62.8028 - val_mae: 6.2184 - val_mse: 62.7956 - lr: 6.0000e-04\n",
      "Epoch 13/300\n",
      "121/121 [==============================] - 2s 18ms/step - loss: 129.1152 - mae: 8.5647 - mse: 129.1087 - val_loss: 52.1067 - val_mae: 5.5230 - val_mse: 52.0851 - lr: 6.0000e-04\n",
      "Epoch 14/300\n",
      "121/121 [==============================] - 2s 17ms/step - loss: 129.5302 - mae: 8.2952 - mse: 129.5216 - val_loss: 56.6187 - val_mae: 5.6585 - val_mse: 56.6147 - lr: 6.0000e-04\n",
      "Epoch 15/300\n",
      "121/121 [==============================] - 2s 17ms/step - loss: 120.7828 - mae: 8.1662 - mse: 120.7790 - val_loss: 54.6764 - val_mae: 6.1138 - val_mse: 54.6783 - lr: 6.0000e-04\n",
      "Epoch 16/300\n",
      "121/121 [==============================] - 2s 17ms/step - loss: 106.7318 - mae: 7.5288 - mse: 106.7376 - val_loss: 56.4646 - val_mae: 6.1335 - val_mse: 56.4604 - lr: 6.0000e-04\n",
      "Epoch 17/300\n",
      "121/121 [==============================] - 2s 17ms/step - loss: 103.0486 - mae: 7.7505 - mse: 103.0496 - val_loss: 54.6063 - val_mae: 6.0088 - val_mse: 54.5991 - lr: 6.0000e-04\n",
      "Epoch 18/300\n",
      "121/121 [==============================] - 2s 18ms/step - loss: 94.4485 - mae: 7.0908 - mse: 94.4568 - val_loss: 51.8213 - val_mae: 5.5302 - val_mse: 51.8345 - lr: 6.0000e-04\n",
      "Epoch 19/300\n",
      "121/121 [==============================] - 2s 17ms/step - loss: 97.5508 - mae: 7.4219 - mse: 97.5500 - val_loss: 60.0841 - val_mae: 6.7264 - val_mse: 60.0866 - lr: 6.0000e-04\n",
      "Epoch 20/300\n",
      "121/121 [==============================] - 2s 16ms/step - loss: 111.4816 - mae: 7.9490 - mse: 111.4834 - val_loss: 53.2643 - val_mae: 6.0261 - val_mse: 53.2662 - lr: 6.0000e-04\n",
      "Epoch 21/300\n",
      "121/121 [==============================] - 2s 16ms/step - loss: 93.6817 - mae: 7.4279 - mse: 93.6872 - val_loss: 55.1825 - val_mae: 6.1806 - val_mse: 55.1891 - lr: 6.0000e-04\n",
      "Epoch 22/300\n",
      "121/121 [==============================] - 2s 17ms/step - loss: 91.7349 - mae: 7.2138 - mse: 91.7285 - val_loss: 35.4005 - val_mae: 4.9585 - val_mse: 35.3959 - lr: 6.0000e-04\n",
      "Epoch 23/300\n",
      "121/121 [==============================] - 2s 16ms/step - loss: 98.2254 - mae: 7.4771 - mse: 98.2210 - val_loss: 36.4654 - val_mae: 4.6662 - val_mse: 36.4704 - lr: 6.0000e-04\n",
      "Epoch 24/300\n",
      "121/121 [==============================] - 2s 17ms/step - loss: 85.7587 - mae: 6.9288 - mse: 85.7520 - val_loss: 26.5114 - val_mae: 4.1566 - val_mse: 26.5149 - lr: 6.0000e-04\n",
      "Epoch 25/300\n",
      "121/121 [==============================] - 2s 16ms/step - loss: 94.2980 - mae: 7.4329 - mse: 94.2958 - val_loss: 34.1646 - val_mae: 4.7138 - val_mse: 34.1635 - lr: 6.0000e-04\n",
      "Epoch 26/300\n",
      "121/121 [==============================] - 2s 18ms/step - loss: 102.5556 - mae: 7.3170 - mse: 102.5497 - val_loss: 43.1533 - val_mae: 5.2793 - val_mse: 43.1364 - lr: 6.0000e-04\n",
      "Epoch 27/300\n",
      "121/121 [==============================] - 2s 18ms/step - loss: 89.1692 - mae: 6.9586 - mse: 89.1732 - val_loss: 26.2984 - val_mae: 4.3373 - val_mse: 26.3043 - lr: 6.0000e-04\n",
      "Epoch 28/300\n",
      "121/121 [==============================] - 2s 17ms/step - loss: 112.7782 - mae: 7.6907 - mse: 112.7864 - val_loss: 38.8640 - val_mae: 5.2624 - val_mse: 38.8655 - lr: 6.0000e-04\n",
      "Epoch 29/300\n",
      "121/121 [==============================] - 2s 17ms/step - loss: 93.0428 - mae: 7.1320 - mse: 93.0437 - val_loss: 31.8170 - val_mae: 4.7820 - val_mse: 31.8171 - lr: 6.0000e-04\n",
      "Epoch 30/300\n",
      "121/121 [==============================] - 2s 17ms/step - loss: 90.8919 - mae: 6.8580 - mse: 90.8864 - val_loss: 38.9781 - val_mae: 5.0924 - val_mse: 38.9739 - lr: 6.0000e-04\n",
      "Epoch 31/300\n",
      "121/121 [==============================] - 2s 17ms/step - loss: 70.4566 - mae: 6.3563 - mse: 70.4566 - val_loss: 42.7968 - val_mae: 5.3106 - val_mse: 42.8057 - lr: 6.0000e-04\n",
      "Epoch 32/300\n",
      "121/121 [==============================] - 2s 17ms/step - loss: 75.7748 - mae: 6.5672 - mse: 75.7737 - val_loss: 31.9996 - val_mae: 4.4411 - val_mse: 31.9967 - lr: 6.0000e-04\n",
      "Epoch 33/300\n",
      "121/121 [==============================] - 2s 18ms/step - loss: 84.3001 - mae: 6.7639 - mse: 84.3037 - val_loss: 19.2154 - val_mae: 3.5755 - val_mse: 19.2136 - lr: 6.0000e-04\n",
      "Epoch 34/300\n",
      "121/121 [==============================] - 2s 17ms/step - loss: 79.0575 - mae: 6.8271 - mse: 79.0539 - val_loss: 25.0376 - val_mae: 4.2117 - val_mse: 25.0386 - lr: 6.0000e-04\n",
      "Epoch 35/300\n",
      "121/121 [==============================] - 2s 17ms/step - loss: 74.7749 - mae: 6.5457 - mse: 74.7706 - val_loss: 25.2049 - val_mae: 3.9884 - val_mse: 25.2012 - lr: 6.0000e-04\n",
      "Epoch 36/300\n",
      "121/121 [==============================] - 2s 17ms/step - loss: 80.1872 - mae: 6.6067 - mse: 80.1877 - val_loss: 26.4580 - val_mae: 4.2218 - val_mse: 26.4601 - lr: 6.0000e-04\n",
      "Epoch 37/300\n",
      "121/121 [==============================] - 2s 17ms/step - loss: 81.9635 - mae: 6.8803 - mse: 81.9603 - val_loss: 24.2108 - val_mae: 4.1694 - val_mse: 24.2105 - lr: 6.0000e-04\n",
      "Epoch 38/300\n",
      "121/121 [==============================] - 2s 17ms/step - loss: 78.3893 - mae: 6.7104 - mse: 78.3867 - val_loss: 22.9489 - val_mae: 4.0454 - val_mse: 22.9433 - lr: 6.0000e-04\n",
      "Epoch 39/300\n",
      "121/121 [==============================] - 2s 17ms/step - loss: 80.8490 - mae: 6.8079 - mse: 80.8470 - val_loss: 23.2067 - val_mae: 4.0000 - val_mse: 23.2051 - lr: 6.0000e-04\n",
      "Epoch 40/300\n",
      "121/121 [==============================] - 2s 17ms/step - loss: 77.2247 - mae: 6.5316 - mse: 77.2274 - val_loss: 30.9901 - val_mae: 4.6261 - val_mse: 30.9895 - lr: 6.0000e-04\n",
      "Epoch 41/300\n",
      "121/121 [==============================] - 2s 18ms/step - loss: 76.1586 - mae: 6.6431 - mse: 76.1617 - val_loss: 15.5645 - val_mae: 3.1867 - val_mse: 15.5660 - lr: 6.0000e-04\n",
      "Epoch 42/300\n",
      "121/121 [==============================] - 2s 16ms/step - loss: 75.7700 - mae: 6.6054 - mse: 75.7722 - val_loss: 18.4471 - val_mae: 3.5600 - val_mse: 18.4469 - lr: 6.0000e-04\n",
      "Epoch 43/300\n",
      "121/121 [==============================] - 2s 16ms/step - loss: 76.7450 - mae: 6.4037 - mse: 76.7453 - val_loss: 20.1270 - val_mae: 3.6772 - val_mse: 20.1253 - lr: 6.0000e-04\n",
      "Epoch 44/300\n",
      "121/121 [==============================] - 2s 17ms/step - loss: 78.0409 - mae: 6.4932 - mse: 78.0423 - val_loss: 15.4775 - val_mae: 3.1064 - val_mse: 15.4772 - lr: 6.0000e-04\n",
      "Epoch 45/300\n",
      "121/121 [==============================] - 2s 17ms/step - loss: 72.9380 - mae: 6.3091 - mse: 72.9338 - val_loss: 24.2811 - val_mae: 3.9909 - val_mse: 24.2820 - lr: 6.0000e-04\n",
      "Epoch 46/300\n",
      "121/121 [==============================] - 2s 16ms/step - loss: 81.4906 - mae: 6.6040 - mse: 81.4882 - val_loss: 21.3999 - val_mae: 3.8206 - val_mse: 21.3986 - lr: 6.0000e-04\n",
      "Epoch 47/300\n",
      "121/121 [==============================] - 2s 17ms/step - loss: 75.6206 - mae: 6.3327 - mse: 75.6166 - val_loss: 17.5320 - val_mae: 3.2715 - val_mse: 17.5313 - lr: 6.0000e-04\n",
      "Epoch 48/300\n",
      "121/121 [==============================] - 2s 17ms/step - loss: 73.2400 - mae: 6.2313 - mse: 73.2454 - val_loss: 20.8903 - val_mae: 3.7388 - val_mse: 20.8896 - lr: 6.0000e-04\n",
      "Epoch 49/300\n",
      "121/121 [==============================] - 2s 17ms/step - loss: 65.8711 - mae: 6.0148 - mse: 65.8660 - val_loss: 21.2231 - val_mae: 3.6317 - val_mse: 21.2236 - lr: 6.0000e-04\n",
      "Epoch 50/300\n",
      "121/121 [==============================] - 2s 15ms/step - loss: 76.4827 - mae: 6.4450 - mse: 76.4811 - val_loss: 31.6895 - val_mae: 4.6785 - val_mse: 31.6900 - lr: 6.0000e-04\n",
      "Epoch 51/300\n",
      "121/121 [==============================] - 2s 14ms/step - loss: 80.3801 - mae: 6.6429 - mse: 80.3802 - val_loss: 40.0209 - val_mae: 5.2591 - val_mse: 40.0300 - lr: 6.0000e-04\n",
      "Epoch 52/300\n",
      "121/121 [==============================] - 1s 12ms/step - loss: 65.0570 - mae: 6.0449 - mse: 65.0564 - val_loss: 35.6624 - val_mae: 4.9799 - val_mse: 35.6591 - lr: 6.0000e-04\n",
      "Epoch 53/300\n",
      "121/121 [==============================] - 2s 12ms/step - loss: 67.1940 - mae: 6.3531 - mse: 67.1954 - val_loss: 83.4703 - val_mae: 7.6401 - val_mse: 83.4754 - lr: 6.0000e-04\n",
      "Epoch 54/300\n",
      "121/121 [==============================] - 2s 15ms/step - loss: 78.1908 - mae: 6.4827 - mse: 78.1907 - val_loss: 31.9065 - val_mae: 4.6186 - val_mse: 31.9100 - lr: 6.0000e-04\n",
      "Epoch 55/300\n",
      "121/121 [==============================] - 2s 17ms/step - loss: 70.5608 - mae: 6.1365 - mse: 70.5592 - val_loss: 56.9024 - val_mae: 6.0552 - val_mse: 56.8791 - lr: 6.0000e-04\n",
      "Epoch 56/300\n",
      "121/121 [==============================] - 2s 17ms/step - loss: 64.4484 - mae: 5.9615 - mse: 64.4479 - val_loss: 35.7965 - val_mae: 3.8089 - val_mse: 35.8154 - lr: 6.0000e-04\n",
      "Epoch 57/300\n",
      "121/121 [==============================] - 2s 17ms/step - loss: 77.2959 - mae: 6.1292 - mse: 77.2932 - val_loss: 75.9480 - val_mae: 4.7367 - val_mse: 76.0251 - lr: 6.0000e-04\n",
      "Epoch 58/300\n",
      "121/121 [==============================] - 2s 17ms/step - loss: 65.2492 - mae: 6.2524 - mse: 65.2484 - val_loss: 95.9592 - val_mae: 5.0191 - val_mse: 95.9816 - lr: 6.0000e-04\n",
      "Epoch 59/300\n",
      "121/121 [==============================] - 2s 16ms/step - loss: 68.8453 - mae: 6.2926 - mse: 68.8541 - val_loss: 88.0324 - val_mae: 5.0078 - val_mse: 87.9955 - lr: 6.0000e-04\n",
      "Epoch 60/300\n",
      "121/121 [==============================] - 1s 12ms/step - loss: 70.2788 - mae: 6.2924 - mse: 70.2736 - val_loss: 148.8427 - val_mae: 5.3169 - val_mse: 148.8887 - lr: 6.0000e-04\n",
      "Epoch 61/300\n",
      "121/121 [==============================] - 1s 12ms/step - loss: 63.1677 - mae: 5.9091 - mse: 63.1635 - val_loss: 117.2197 - val_mae: 5.5940 - val_mse: 117.2354 - lr: 6.0000e-04\n",
      "Epoch 62/300\n",
      "121/121 [==============================] - 2s 14ms/step - loss: 68.8109 - mae: 6.1923 - mse: 68.8122 - val_loss: 27.0118 - val_mae: 3.7837 - val_mse: 27.0273 - lr: 6.0000e-04\n",
      "Epoch 63/300\n",
      "121/121 [==============================] - 2s 17ms/step - loss: 68.7642 - mae: 6.2724 - mse: 68.7691 - val_loss: 19.8830 - val_mae: 3.6818 - val_mse: 19.8861 - lr: 6.0000e-04\n",
      "Epoch 64/300\n",
      "121/121 [==============================] - 2s 17ms/step - loss: 61.2886 - mae: 6.1202 - mse: 61.2893 - val_loss: 44.7156 - val_mae: 5.5370 - val_mse: 44.7180 - lr: 6.0000e-04\n",
      "Epoch 65/300\n",
      "121/121 [==============================] - 2s 17ms/step - loss: 70.8440 - mae: 6.1253 - mse: 70.8485 - val_loss: 28.2684 - val_mae: 4.3013 - val_mse: 28.2684 - lr: 6.0000e-05\n",
      "Epoch 66/300\n",
      "121/121 [==============================] - 2s 15ms/step - loss: 74.5236 - mae: 6.3976 - mse: 74.5212 - val_loss: 23.9672 - val_mae: 3.9342 - val_mse: 23.9662 - lr: 6.0000e-05\n",
      "Epoch 67/300\n",
      "121/121 [==============================] - 2s 16ms/step - loss: 64.0184 - mae: 5.8586 - mse: 64.0187 - val_loss: 20.3711 - val_mae: 3.6156 - val_mse: 20.3733 - lr: 6.0000e-05\n",
      "Epoch 68/300\n",
      "121/121 [==============================] - 1s 12ms/step - loss: 65.8362 - mae: 5.9085 - mse: 65.8375 - val_loss: 17.4609 - val_mae: 3.3982 - val_mse: 17.4596 - lr: 6.0000e-05\n",
      "Epoch 69/300\n",
      "121/121 [==============================] - 1s 12ms/step - loss: 85.1518 - mae: 6.8489 - mse: 85.1491 - val_loss: 17.1312 - val_mae: 3.3622 - val_mse: 17.1360 - lr: 6.0000e-05\n"
     ]
    }
   ],
   "source": [
    "MODEL_NAME = './models/boston_housing_full_verse.h5'\n",
    "MONITOR = 'val_loss'\n",
    "BATCH_SIZE = 3\n",
    "EPOCHS = 300\n",
    "\n",
    "callbacks = [tf.keras.callbacks.ReduceLROnPlateau(monitor=MONITOR, factor=0.1, patience=20, min_lr=1e-5)]\n",
    "callbacks += [tf.keras.callbacks.ModelCheckpoint(MODEL_NAME, monitor=MONITOR, save_best_only=True)]\n",
    "callbacks += [tf.keras.callbacks.EarlyStopping(monitor=MONITOR, patience=25, restore_best_weights=True)]\n",
    "\n",
    "history = model.fit(\n",
    "    train_features,\n",
    "    train_labels,\n",
    "    validation_split=0.1,\n",
    "    epochs=EPOCHS,\n",
    "    batch_size=BATCH_SIZE,\n",
    "    callbacks=callbacks,\n",
    ")\n",
    "\n",
    "hist = pd.DataFrame(history.history)\n",
    "hist['epoch'] = history.epoch"
   ]
  },
  {
   "cell_type": "code",
   "execution_count": 7,
   "id": "e5fff37f-26ca-4b7e-9ca9-6163073ea9b3",
   "metadata": {},
   "outputs": [
    {
     "data": {
      "image/png": "[encoded data removed]",
      "text/plain": [
       "<Figure size 432x288 with 1 Axes>"
      ]
     },
     "metadata": {
      "needs_background": "light"
     },
     "output_type": "display_data"
    }
   ],
   "source": [
    "plt.plot(history.history['loss'])\n",
    "plt.plot(history.history['val_loss'])\n",
    "plt.title('model loss')\n",
    "plt.ylabel('loss')\n",
    "plt.xlabel('epoch')\n",
    "plt.legend(['train', 'test'], loc='upper left')\n",
    "plt.show()"
   ]
  },
  {
   "cell_type": "code",
   "execution_count": 8,
   "id": "32eb3079-4364-45da-a9d4-2079b7c9df12",
   "metadata": {},
   "outputs": [
    {
     "name": "stdout",
     "output_type": "stream",
     "text": [
      "34/34 [==============================] - 0s 2ms/step - loss: 33.3232 - mae: 4.3437 - mse: 33.3252\n"
     ]
    },
    {
     "data": {
      "text/plain": [
       "[33.3232421875, 4.343673229217529, 33.3251838684082]"
      ]
     },
     "execution_count": 8,
     "metadata": {},
     "output_type": "execute_result"
    }
   ],
   "source": [
    "model = tf.keras.models.load_model(MODEL_NAME)\n",
    "results = model.evaluate(test_features, test_labels, batch_size=BATCH_SIZE)\n",
    "results"
   ]
  },
  {
   "cell_type": "code",
   "execution_count": 9,
   "id": "f095b402-8d30-46a5-a9df-4e176ff56a5f",
   "metadata": {},
   "outputs": [
    {
     "name": "stdout",
     "output_type": "stream",
     "text": [
      "4/4 [==============================] - 0s 2ms/step\n"
     ]
    },
    {
     "data": {
      "text/plain": [
       "33.3302552466299"
      ]
     },
     "execution_count": 9,
     "metadata": {},
     "output_type": "execute_result"
    }
   ],
   "source": [
    "ypred = model.predict(test_features)\n",
    "\n",
    "from sklearn.metrics import mean_squared_error\n",
    "\n",
    "mean_squared_error(test_labels, ypred)"
   ]
  }
 ],
 "metadata": {
  "kernelspec": {
   "display_name": "Python 3 (ipykernel)",
   "language": "python",
   "name": "python3"
  },
  "language_info": {
   "codemirror_mode": {
    "name": "ipython",
    "version": 3
   },
   "file_extension": ".py",
   "mimetype": "text/x-python",
   "name": "python",
   "nbconvert_exporter": "python",
   "pygments_lexer": "ipython3",
   "version": "3.8.10"
  }
 },
 "nbformat": 4,
 "nbformat_minor": 5
}
