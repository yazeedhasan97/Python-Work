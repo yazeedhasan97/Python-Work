{
 "cells": [
  {
   "cell_type": "code",
   "execution_count": 2,
   "id": "11b08529-2264-4c44-a5e3-a58093b52870",
   "metadata": {},
   "outputs": [
    {
     "name": "stdout",
     "output_type": "stream",
     "text": [
      "2.9.1\n",
      "INFO:tensorflow:Mixed precision compatibility check (mixed_float16): OK\n",
      "Your GPU will likely run quickly with dtype policy mixed_float16 as it has compute capability of at least 7.0. Your GPU: NVIDIA GeForce RTX 2070 SUPER, compute capability 7.5\n"
     ]
    }
   ],
   "source": [
    "import tensorflow as tf\n",
    "import numpy as np\n",
    "import pandas as pd\n",
    "import matplotlib.pyplot as plt\n",
    "import matplotlib.image as mpimg\n",
    "\n",
    "from sklearn.metrics import accuracy_score\n",
    "import requests, zipfile, io\n",
    "import os, glob\n",
    "import random\n",
    "import shutil\n",
    "\n",
    "\n",
    "print(tf.__version__)\n",
    "tf.keras.mixed_precision.set_global_policy('mixed_float16')"
   ]
  },
  {
   "cell_type": "code",
   "execution_count": 7,
   "id": "57d1b8fd-ec10-40f4-b0ef-92db45032f12",
   "metadata": {},
   "outputs": [
    {
     "name": "stdout",
     "output_type": "stream",
     "text": [
      "{'i': 1, 'love': 2, 'my': 3, 'dog': 4, 'cat': 5}\n"
     ]
    }
   ],
   "source": [
    "# Define input sentences\n",
    "sentences = [\n",
    "    'i love my dog',\n",
    "    'I, love my cat'\n",
    "    ]\n",
    "\n",
    "# Initialize the Tokenizer class\n",
    "tokenizer = tf.keras.preprocessing.text.Tokenizer(num_words = 100)\n",
    "\n",
    "# Generate indices for each word in the corpus\n",
    "tokenizer.fit_on_texts(sentences)\n",
    "\n",
    "# Get the indices and print it\n",
    "word_index = tokenizer.word_index\n",
    "print(word_index)"
   ]
  },
  {
   "cell_type": "code",
   "execution_count": 6,
   "id": "2b09ccda-15de-4029-9e1a-1842f8d58170",
   "metadata": {},
   "outputs": [
    {
     "name": "stdout",
     "output_type": "stream",
     "text": [
      "{'love': 1, 'my': 2, 'i': 3, 'dog': 4, 'cat': 5, 'you': 6}\n"
     ]
    }
   ],
   "source": [
    "# Define input sentences\n",
    "sentences = [\n",
    "    'i love my dog',\n",
    "    'I, love my cat',\n",
    "    'You love my dog!'\n",
    "]\n",
    "\n",
    "# Initialize the Tokenizer class\n",
    "tokenizer = tf.keras.preprocessing.text.Tokenizer(num_words = 4)\n",
    "\n",
    "# Generate indices for each word in the corpus\n",
    "tokenizer.fit_on_texts(sentences)\n",
    "\n",
    "# Get the indices and print it\n",
    "word_index = tokenizer.word_index\n",
    "print(word_index)"
   ]
  },
  {
   "cell_type": "code",
   "execution_count": 9,
   "id": "8c9ded71-3fae-4b5f-a8ab-2396fa016b01",
   "metadata": {},
   "outputs": [
    {
     "name": "stdout",
     "output_type": "stream",
     "text": [
      "\n",
      "Word Index = \n",
      " {'<OOV>': 1, 'my': 2, 'dog': 3, 'love': 4, 'i': 5, 'you': 6, 'loves': 7, 'manatee': 8, 'cat': 9, 'do': 10, 'think': 11, 'is': 12, 'amazing': 13}\n",
      "\n",
      "Sequences = \n",
      " [[5, 4, 2, 3], [2, 3, 7, 2, 8], [5, 4, 2, 9], [6, 4, 2, 3], [10, 6, 11, 2, 3, 12, 13]]\n",
      "\n",
      "Padded Sequences:\n",
      " [[ 0  5  4  2  3]\n",
      " [ 2  3  7  2  8]\n",
      " [ 0  5  4  2  9]\n",
      " [ 0  6  4  2  3]\n",
      " [11  2  3 12 13]]\n"
     ]
    }
   ],
   "source": [
    "sentences = [\n",
    "    'I love my dog',\n",
    "    'my dog loves my manatee',\n",
    "    'I love my cat',\n",
    "    'You love my dog!',\n",
    "    'Do you think my dog is amazing?',\n",
    "]\n",
    "\n",
    "# Initialize the Tokenizer class\n",
    "tokenizer = tf.keras.preprocessing.text.Tokenizer(num_words = 100, oov_token=\"<OOV>\")\n",
    "\n",
    "# Tokenize the input sentences\n",
    "tokenizer.fit_on_texts(sentences)\n",
    "\n",
    "# Get the word index dictionary\n",
    "word_index = tokenizer.word_index\n",
    "\n",
    "# Generate list of token sequences\n",
    "sequences = tokenizer.texts_to_sequences(sentences)\n",
    "\n",
    "padded = tf.keras.preprocessing.sequence.pad_sequences(sequences, maxlen=5)\n",
    "\n",
    "\n",
    "# Print the result\n",
    "print(\"\\nWord Index = \\n\" , word_index)\n",
    "print(\"\\nSequences = \\n\" , sequences)\n",
    "print(\"\\nPadded Sequences:\\n\", padded)"
   ]
  },
  {
   "cell_type": "code",
   "execution_count": 11,
   "id": "1ba38680-c9ce-49c3-a45c-68ec41ee4757",
   "metadata": {},
   "outputs": [
    {
     "name": "stdout",
     "output_type": "stream",
     "text": [
      "\n",
      "Word Index =  {'<OOV>': 1, 'my': 2, 'dog': 3, 'love': 4, 'i': 5, 'you': 6, 'loves': 7, 'manatee': 8, 'cat': 9, 'do': 10, 'think': 11, 'is': 12, 'amazing': 13}\n",
      "\n",
      "Test Sequence =  [[5, 1, 4, 2, 3], [2, 3, 7, 2, 8]]\n",
      "\n",
      "Padded Test Sequence: \n",
      "[[0 0 0 0 0 5 1 4 2 3]\n",
      " [0 0 0 0 0 2 3 7 2 8]]\n"
     ]
    }
   ],
   "source": [
    "# Try with words that the tokenizer wasn't fit to\n",
    "test_data = [\n",
    "    'i really love my dog',\n",
    "    'my dog loves my manatee'\n",
    "]\n",
    "\n",
    "# Generate the sequences\n",
    "test_seq = tokenizer.texts_to_sequences(test_data)\n",
    "\n",
    "# Print the word index dictionary\n",
    "print(\"\\nWord Index = \" , word_index)\n",
    "\n",
    "# Print the sequences with OOV\n",
    "print(\"\\nTest Sequence = \", test_seq)\n",
    "\n",
    "# Print the padded result\n",
    "padded = tf.keras.preprocessing.sequence.pad_sequences(test_seq, maxlen=10)\n",
    "print(\"\\nPadded Test Sequence: \")\n",
    "print(padded)"
   ]
  },
  {
   "cell_type": "code",
   "execution_count": null,
   "id": "919a5e76-9e5a-45ed-9184-0dd40ac5d9e7",
   "metadata": {},
   "outputs": [],
   "source": []
  }
 ],
 "metadata": {
  "kernelspec": {
   "display_name": "Python 3 (ipykernel)",
   "language": "python",
   "name": "python3"
  },
  "language_info": {
   "codemirror_mode": {
    "name": "ipython",
    "version": 3
   },
   "file_extension": ".py",
   "mimetype": "text/x-python",
   "name": "python",
   "nbconvert_exporter": "python",
   "pygments_lexer": "ipython3",
   "version": "3.10.5"
  }
 },
 "nbformat": 4,
 "nbformat_minor": 5
}
