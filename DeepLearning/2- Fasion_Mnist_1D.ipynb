{
 "cells": [
  {
   "cell_type": "code",
   "execution_count": 1,
   "id": "1a6efd09-c271-43a0-bf35-ebeec83c960f",
   "metadata": {},
   "outputs": [
    {
     "name": "stdout",
     "output_type": "stream",
     "text": [
      "2.9.1\n",
      "INFO:tensorflow:Mixed precision compatibility check (mixed_float16): OK\n",
      "Your GPU will likely run quickly with dtype policy mixed_float16 as it has compute capability of at least 7.0. Your GPU: NVIDIA GeForce RTX 2070 SUPER, compute capability 7.5\n"
     ]
    }
   ],
   "source": [
    "import tensorflow as tf\n",
    "import numpy as np\n",
    "import pandas as pd\n",
    "import matplotlib.pyplot as plt\n",
    "from sklearn.metrics import accuracy_score\n",
    "\n",
    "print(tf.__version__)\n",
    "tf.keras.mixed_precision.set_global_policy('mixed_float16')"
   ]
  },
  {
   "cell_type": "code",
   "execution_count": 2,
   "id": "393d2ee3-be9a-4f28-a421-bed8e94597eb",
   "metadata": {},
   "outputs": [
    {
     "data": {
      "text/plain": [
       "(60000, 60000, 10000, 10000)"
      ]
     },
     "execution_count": 2,
     "metadata": {},
     "output_type": "execute_result"
    }
   ],
   "source": [
    "(train_features, train_labels), (test_features, test_labels) = tf.keras.datasets.fashion_mnist.load_data()\n",
    "len(train_features), len(train_labels), len(test_features), len(test_labels)"
   ]
  },
  {
   "cell_type": "code",
   "execution_count": 3,
   "id": "08f2733e-1614-4385-a704-0992c1f93e9b",
   "metadata": {},
   "outputs": [
    {
     "data": {
      "text/plain": [
       "<matplotlib.image.AxesImage at 0x1abee393d90>"
      ]
     },
     "execution_count": 3,
     "metadata": {},
     "output_type": "execute_result"
    },
    {
     "data": {
      "image/png": "[encoded data removed]",
      "text/plain": [
       "<Figure size 432x288 with 1 Axes>"
      ]
     },
     "metadata": {
      "needs_background": "light"
     },
     "output_type": "display_data"
    }
   ],
   "source": [
    "plt.imshow(train_features[0])"
   ]
  },
  {
   "cell_type": "code",
   "execution_count": 4,
   "id": "fa6fa6c1-da7f-45fc-9527-441c2119f140",
   "metadata": {},
   "outputs": [
    {
     "data": {
      "text/plain": [
       "<matplotlib.image.AxesImage at 0x1abf50ec4f0>"
      ]
     },
     "execution_count": 4,
     "metadata": {},
     "output_type": "execute_result"
    },
    {
     "data": {
      "image/png": "[encoded data removed]",
      "text/plain": [
       "<Figure size 432x288 with 1 Axes>"
      ]
     },
     "metadata": {
      "needs_background": "light"
     },
     "output_type": "display_data"
    }
   ],
   "source": [
    "train_features = train_features / 255.0\n",
    "test_features = test_features / 255.0\n",
    "\n",
    "plt.imshow(train_features[0])"
   ]
  },
  {
   "cell_type": "code",
   "execution_count": 5,
   "id": "d07b8c6c-f563-4fc0-aa95-4748a34cd324",
   "metadata": {},
   "outputs": [],
   "source": [
    "model = tf.keras.Sequential([\n",
    "    tf.keras.layers.Flatten(),\n",
    "    tf.keras.layers.Dense(128, activation='relu'),\n",
    "    tf.keras.layers.BatchNormalization(),\n",
    "    tf.keras.layers.Dense(64, activation='relu'),\n",
    "    tf.keras.layers.BatchNormalization(),\n",
    "    tf.keras.layers.Dense(32, activation='relu'),\n",
    "    tf.keras.layers.Dropout(0.2),\n",
    "    tf.keras.layers.Dense(10, activation='softmax'),\n",
    "])\n",
    "\n",
    "model.compile(\n",
    "    loss=tf.keras.losses.SparseCategoricalCrossentropy(),\n",
    "    optimizer=tf.keras.optimizers.Nadam(learning_rate=1e-3),\n",
    "    metrics=['acc'],\n",
    ")"
   ]
  },
  {
   "cell_type": "code",
   "execution_count": 6,
   "id": "b0a8f8c6-649d-497d-a218-eae3a8545b6a",
   "metadata": {},
   "outputs": [
    {
     "name": "stdout",
     "output_type": "stream",
     "text": [
      "Epoch 1/70\n",
      "1500/1500 [==============================] - 23s 14ms/step - loss: 0.5836 - acc: 0.7990 - val_loss: 0.4216 - val_acc: 0.8481 - lr: 0.0010\n",
      "Epoch 2/70\n",
      "1500/1500 [==============================] - 23s 15ms/step - loss: 0.4464 - acc: 0.8422 - val_loss: 0.4221 - val_acc: 0.8433 - lr: 0.0010\n",
      "Epoch 3/70\n",
      "1500/1500 [==============================] - 19s 13ms/step - loss: 0.4083 - acc: 0.8554 - val_loss: 0.4074 - val_acc: 0.8477 - lr: 0.0010\n",
      "Epoch 4/70\n",
      "1500/1500 [==============================] - 21s 14ms/step - loss: 0.3851 - acc: 0.8627 - val_loss: 0.3707 - val_acc: 0.8666 - lr: 0.0010\n",
      "Epoch 5/70\n",
      "1500/1500 [==============================] - 23s 15ms/step - loss: 0.3722 - acc: 0.8658 - val_loss: 0.3829 - val_acc: 0.8645 - lr: 0.0010\n",
      "Epoch 6/70\n",
      "1500/1500 [==============================] - 23s 15ms/step - loss: 0.3596 - acc: 0.8704 - val_loss: 0.3744 - val_acc: 0.8639 - lr: 0.0010\n",
      "Epoch 7/70\n",
      "1500/1500 [==============================] - 23s 15ms/step - loss: 0.3472 - acc: 0.8742 - val_loss: 0.3335 - val_acc: 0.8806 - lr: 0.0010\n",
      "Epoch 8/70\n",
      "1500/1500 [==============================] - 23s 15ms/step - loss: 0.3408 - acc: 0.8774 - val_loss: 0.3425 - val_acc: 0.8754 - lr: 0.0010\n",
      "Epoch 9/70\n",
      "1500/1500 [==============================] - 23s 15ms/step - loss: 0.3321 - acc: 0.8794 - val_loss: 0.3435 - val_acc: 0.8744 - lr: 0.0010\n",
      "Epoch 10/70\n",
      "1500/1500 [==============================] - 23s 15ms/step - loss: 0.3221 - acc: 0.8841 - val_loss: 0.3440 - val_acc: 0.8744 - lr: 0.0010\n",
      "Epoch 11/70\n",
      "1500/1500 [==============================] - 23s 15ms/step - loss: 0.2917 - acc: 0.8951 - val_loss: 0.3126 - val_acc: 0.8869 - lr: 1.0000e-04\n",
      "Epoch 12/70\n",
      "1500/1500 [==============================] - 23s 15ms/step - loss: 0.2776 - acc: 0.8996 - val_loss: 0.3117 - val_acc: 0.8873 - lr: 1.0000e-04\n",
      "Epoch 13/70\n",
      "1500/1500 [==============================] - 23s 15ms/step - loss: 0.2749 - acc: 0.9002 - val_loss: 0.3148 - val_acc: 0.8878 - lr: 1.0000e-04\n",
      "Epoch 14/70\n",
      "1500/1500 [==============================] - 23s 15ms/step - loss: 0.2690 - acc: 0.9027 - val_loss: 0.3110 - val_acc: 0.8886 - lr: 1.0000e-04\n",
      "Epoch 15/70\n",
      "1500/1500 [==============================] - 23s 15ms/step - loss: 0.2666 - acc: 0.9024 - val_loss: 0.3123 - val_acc: 0.8879 - lr: 1.0000e-04\n",
      "Epoch 16/70\n",
      "1500/1500 [==============================] - 23s 15ms/step - loss: 0.2627 - acc: 0.9031 - val_loss: 0.3111 - val_acc: 0.8902 - lr: 1.0000e-04\n",
      "Epoch 17/70\n",
      "1500/1500 [==============================] - 24s 16ms/step - loss: 0.2623 - acc: 0.9034 - val_loss: 0.3136 - val_acc: 0.8891 - lr: 1.0000e-04\n",
      "Epoch 18/70\n",
      "1500/1500 [==============================] - 23s 15ms/step - loss: 0.2588 - acc: 0.9053 - val_loss: 0.3101 - val_acc: 0.8907 - lr: 1.0000e-05\n",
      "Epoch 19/70\n",
      "1500/1500 [==============================] - 23s 15ms/step - loss: 0.2556 - acc: 0.9063 - val_loss: 0.3100 - val_acc: 0.8897 - lr: 1.0000e-05\n",
      "Epoch 20/70\n",
      "1500/1500 [==============================] - 23s 15ms/step - loss: 0.2557 - acc: 0.9068 - val_loss: 0.3095 - val_acc: 0.8904 - lr: 1.0000e-05\n",
      "Epoch 21/70\n",
      "1500/1500 [==============================] - 23s 15ms/step - loss: 0.2538 - acc: 0.9059 - val_loss: 0.3101 - val_acc: 0.8904 - lr: 1.0000e-05\n",
      "Epoch 22/70\n",
      "1500/1500 [==============================] - 23s 15ms/step - loss: 0.2538 - acc: 0.9066 - val_loss: 0.3118 - val_acc: 0.8898 - lr: 1.0000e-05\n",
      "Epoch 23/70\n",
      "1500/1500 [==============================] - 23s 15ms/step - loss: 0.2527 - acc: 0.9081 - val_loss: 0.3104 - val_acc: 0.8897 - lr: 1.0000e-05\n",
      "Epoch 24/70\n",
      "1500/1500 [==============================] - 23s 15ms/step - loss: 0.2561 - acc: 0.9067 - val_loss: 0.3104 - val_acc: 0.8903 - lr: 1.0000e-05\n",
      "Epoch 25/70\n",
      "1500/1500 [==============================] - 23s 15ms/step - loss: 0.2544 - acc: 0.9061 - val_loss: 0.3109 - val_acc: 0.8903 - lr: 1.0000e-05\n"
     ]
    }
   ],
   "source": [
    "MODEL_NAME = './models/fmnist_1d_full_verse.h5'\n",
    "MONITOR = 'val_loss'\n",
    "BATCH_SIZE = 32\n",
    "EPOCHS = 70\n",
    "\n",
    "callbacks = [tf.keras.callbacks.ReduceLROnPlateau(monitor=MONITOR, factor=0.1, patience=3, min_lr=1e-5)]\n",
    "callbacks += [tf.keras.callbacks.ModelCheckpoint(MODEL_NAME, monitor=MONITOR, save_best_only=True)]\n",
    "callbacks += [tf.keras.callbacks.EarlyStopping(monitor=MONITOR, patience=5, restore_best_weights=True)]\n",
    "\n",
    "history = model.fit(\n",
    "    train_features,\n",
    "    train_labels,\n",
    "    validation_split=0.2,\n",
    "    epochs=EPOCHS,\n",
    "    batch_size=BATCH_SIZE,\n",
    "    callbacks=callbacks,\n",
    ")\n",
    "\n",
    "hist = pd.DataFrame(history.history)\n",
    "hist['epoch'] = history.epoch"
   ]
  },
  {
   "cell_type": "code",
   "execution_count": 7,
   "id": "de2e7e32-bc70-457f-b1a6-4093e6d7df05",
   "metadata": {},
   "outputs": [
    {
     "data": {
      "image/png": "[encoded data removed]",
      "text/plain": [
       "<Figure size 432x288 with 1 Axes>"
      ]
     },
     "metadata": {
      "needs_background": "light"
     },
     "output_type": "display_data"
    },
    {
     "data": {
      "image/png": "[encoded data removed]",
      "text/plain": [
       "<Figure size 432x288 with 1 Axes>"
      ]
     },
     "metadata": {
      "needs_background": "light"
     },
     "output_type": "display_data"
    }
   ],
   "source": [
    "plt.plot(history.history['loss'])\n",
    "plt.plot(history.history['acc'])\n",
    "plt.title('model loss')\n",
    "plt.ylabel('loss')\n",
    "plt.xlabel('epoch')\n",
    "plt.legend(['train', 'test'], loc='upper left')\n",
    "plt.show()\n",
    "\n",
    "\n",
    "plt.plot(history.history['val_acc'])\n",
    "plt.plot(history.history['val_loss'])\n",
    "plt.title('model acc')\n",
    "plt.ylabel('loss')\n",
    "plt.xlabel('epoch')\n",
    "plt.legend(['train', 'test'], loc='upper left')\n",
    "plt.show()\n",
    "\n",
    "plt.plot(history.history['acc'])\n",
    "plt.plot(history.history['val_acc'])\n",
    "plt.title('model acc')\n",
    "plt.ylabel('loss')\n",
    "plt.xlabel('epoch')\n",
    "plt.legend(['train', 'test'], loc='upper left')\n",
    "plt.show()"
   ]
  },
  {
   "cell_type": "code",
   "execution_count": 8,
   "id": "5eba3791-d75e-4cb9-b60a-eedb9f9adb0d",
   "metadata": {},
   "outputs": [
    {
     "name": "stdout",
     "output_type": "stream",
     "text": [
      "313/313 [==============================] - 1s 3ms/step - loss: 0.3408 - acc: 0.8814\n"
     ]
    },
    {
     "data": {
      "text/plain": [
       "[0.3407980501651764, 0.8813897967338562]"
      ]
     },
     "execution_count": 8,
     "metadata": {},
     "output_type": "execute_result"
    }
   ],
   "source": [
    "model = tf.keras.models.load_model(MODEL_NAME)\n",
    "results = model.evaluate(test_features, test_labels, batch_size=BATCH_SIZE)\n",
    "print(results)\n",
    "\n",
    "ypred = np.argmax(model.predict(test_features), axis=1)\n",
    "print(accuracy_score(test_labels, ypred))"
   ]
  },
  {
   "cell_type": "code",
   "execution_count": 15,
   "id": "b3cf4870-ae62-4d3d-8f32-62cc18cf8246",
   "metadata": {},
   "outputs": [
    {
     "name": "stdout",
     "output_type": "stream",
     "text": [
      "313/313 [==============================] - 1s 2ms/step\n"
     ]
    },
    {
     "data": {
      "text/plain": [
       "0.8828"
      ]
     },
     "execution_count": 15,
     "metadata": {},
     "output_type": "execute_result"
    }
   ],
   "source": []
  },
  {
   "cell_type": "code",
   "execution_count": null,
   "id": "429a258a-bde0-4a27-8132-c2390425e885",
   "metadata": {},
   "outputs": [],
   "source": []
  }
 ],
 "metadata": {
  "kernelspec": {
   "display_name": "Python 3 (ipykernel)",
   "language": "python",
   "name": "python3"
  },
  "language_info": {
   "codemirror_mode": {
    "name": "ipython",
    "version": 3
   },
   "file_extension": ".py",
   "mimetype": "text/x-python",
   "name": "python",
   "nbconvert_exporter": "python",
   "pygments_lexer": "ipython3",
   "version": "3.10.5"
  }
 },
 "nbformat": 4,
 "nbformat_minor": 5
}
