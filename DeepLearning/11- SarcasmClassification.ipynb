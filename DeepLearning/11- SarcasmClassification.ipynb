{
 "cells": [
  {
   "cell_type": "code",
   "execution_count": 1,
   "id": "95468744-2491-483e-a370-b19f019e2992",
   "metadata": {},
   "outputs": [
    {
     "name": "stdout",
     "output_type": "stream",
     "text": [
      "2.9.1\n",
      "INFO:tensorflow:Mixed precision compatibility check (mixed_float16): OK\n",
      "Your GPU will likely run quickly with dtype policy mixed_float16 as it has compute capability of at least 7.0. Your GPU: NVIDIA GeForce RTX 2070 SUPER, compute capability 7.5\n"
     ]
    }
   ],
   "source": [
    "import tensorflow as tf\n",
    "import tensorflow_datasets as tfds\n",
    "\n",
    "import numpy as np\n",
    "import pandas as pd\n",
    "\n",
    "import matplotlib.pyplot as plt\n",
    "import matplotlib.image as mpimg\n",
    "\n",
    "import random\n",
    "from sklearn.metrics import accuracy_score\n",
    "\n",
    "import requests, zipfile, io, json\n",
    "import os, glob\n",
    "import shutil\n",
    "\n",
    "print(tf.__version__)\n",
    "tf.keras.mixed_precision.set_global_policy('mixed_float16')"
   ]
  },
  {
   "cell_type": "code",
   "execution_count": 2,
   "id": "4161133f-2f87-4059-9fe5-9f2d153826cc",
   "metadata": {},
   "outputs": [
    {
     "name": "stdout",
     "output_type": "stream",
     "text": [
      "[{'article_link': 'https://www.huffingtonpost.com/entry/versace-black-code_us_5861fbefe4b0de3a08f600d5', 'headline': \"former versace store clerk sues over secret 'black code' for minority shoppers\", 'is_sarcastic': 0}, {'article_link': 'https://www.huffingtonpost.com/entry/roseanne-revival-review_us_5ab3a497e4b054d118e04365', 'headline': \"the 'roseanne' revival catches up to our thorny political mood, for better and worse\", 'is_sarcastic': 0}, {'article_link': 'https://local.theonion.com/mom-starting-to-fear-son-s-web-series-closest-thing-she-1819576697', 'headline': \"mom starting to fear son's web series closest thing she will have to grandchild\", 'is_sarcastic': 1}]\n",
      "['.ipynb_checkpoints', 'sarcasm.json']\n"
     ]
    }
   ],
   "source": [
    "data_dir = './data/sarcasm/'\n",
    "if not os.path.exists(data_dir):\n",
    "    os.makedirs(data_dir)\n",
    "\n",
    "url='https://storage.googleapis.com/tensorflow-1-public/course3/sarcasm.json'\n",
    "with requests.get(url) as data:\n",
    "    data.raise_for_status()\n",
    "    print(data.json()[:3])\n",
    "    \n",
    "    with open(os.path.join(data_dir, 'sarcasm.json'), 'wt') as file:\n",
    "        json.dump(data.json(), file)\n",
    "\n",
    "            \n",
    "print(os.listdir(data_dir))"
   ]
  },
  {
   "cell_type": "code",
   "execution_count": 3,
   "id": "01e60ae0-f9f0-4c8b-9707-fa522018212c",
   "metadata": {},
   "outputs": [
    {
     "name": "stdout",
     "output_type": "stream",
     "text": [
      "26709 26709\n"
     ]
    }
   ],
   "source": [
    "with open(os.path.join(data_dir, 'sarcasm.json'), 'r') as f:\n",
    "    datastore = json.load(f)\n",
    "\n",
    "# Initialize the lists\n",
    "sentences = []\n",
    "labels = []\n",
    "\n",
    "# Collect sentences and labels into the lists\n",
    "for item in datastore:\n",
    "    sentences.append(item['headline'])\n",
    "    labels.append(item['is_sarcastic'])\n",
    "\n",
    "print(len(sentences), len(labels))"
   ]
  },
  {
   "cell_type": "code",
   "execution_count": 4,
   "id": "c504683b-4a81-4fe2-92b3-71c0a788ab47",
   "metadata": {},
   "outputs": [
    {
     "data": {
      "text/plain": [
       "(22703, 22703, 4006, 4006)"
      ]
     },
     "execution_count": 4,
     "metadata": {},
     "output_type": "execute_result"
    }
   ],
   "source": [
    "TRAINING_SIZE = int(len(sentences) * 0.15)\n",
    "\n",
    "training_sentences = sentences[TRAINING_SIZE:]\n",
    "training_labels = labels[TRAINING_SIZE:]\n",
    "testing_sentences = sentences[:TRAINING_SIZE]\n",
    "testing_labels = labels[:TRAINING_SIZE]\n",
    "\n",
    "len(training_sentences), len(training_labels), len(testing_sentences), len(testing_labels),"
   ]
  },
  {
   "cell_type": "code",
   "execution_count": 13,
   "id": "e88bde21-7e73-40a7-93fb-fd232aa67364",
   "metadata": {},
   "outputs": [],
   "source": [
    "vocab_size = 5000\n",
    "max_length = 16\n",
    "embedding_dim = 24\n",
    "trunc_type='post'\n",
    "padding_type='post'\n",
    "oov_tok = \"<OOV>\"\n",
    "SHUFFLE_SIZE=len(training_sentences) // 2\n",
    "BATCH_SIZE = 32\n",
    "EPOCHS = 50 \n",
    "PATIENCE = 5\n",
    "MONITOR = 'val_acc'"
   ]
  },
  {
   "cell_type": "code",
   "execution_count": 14,
   "id": "3490b6f0-17ea-4c73-8f53-8982f1fc00b2",
   "metadata": {},
   "outputs": [
    {
     "name": "stdout",
     "output_type": "stream",
     "text": [
      "<TensorSliceDataset element_spec=TensorSpec(shape=(16,), dtype=tf.int32, name=None)> <TensorSliceDataset element_spec=TensorSpec(shape=(), dtype=tf.int32, name=None)>\n",
      "<PrefetchDataset element_spec=(TensorSpec(shape=(None, 16), dtype=tf.int32, name=None), TensorSpec(shape=(None,), dtype=tf.int32, name=None))> \n",
      "\n",
      "\n",
      "<TensorSliceDataset element_spec=TensorSpec(shape=(16,), dtype=tf.int32, name=None)> <TensorSliceDataset element_spec=TensorSpec(shape=(), dtype=tf.int32, name=None)>\n",
      "<PrefetchDataset element_spec=(TensorSpec(shape=(None, 16), dtype=tf.int32, name=None), TensorSpec(shape=(None,), dtype=tf.int32, name=None))> \n",
      "\n",
      "\n"
     ]
    }
   ],
   "source": [
    "tokenizer = tf.keras.preprocessing.text.Tokenizer(num_words=vocab_size, oov_token=oov_tok)\n",
    "\n",
    "# Generate the word index dictionary\n",
    "tokenizer.fit_on_texts(training_sentences)\n",
    "word_index = tokenizer.word_index\n",
    "\n",
    "# Generate and pad the training sequences\n",
    "training_sequences = tokenizer.texts_to_sequences(training_sentences)\n",
    "training_padded = tf.keras.preprocessing.sequence.pad_sequences(training_sequences, maxlen=max_length, padding=padding_type, truncating=trunc_type)\n",
    "\n",
    "# Generate and pad the testing sequences\n",
    "testing_sequences = tokenizer.texts_to_sequences(testing_sentences)\n",
    "testing_padded = tf.keras.preprocessing.sequence.pad_sequences(testing_sequences, maxlen=max_length, padding=padding_type, truncating=trunc_type)\n",
    "\n",
    "# Convert the labels lists into numpy arrays\n",
    "training_labels = np.array(training_labels)\n",
    "testing_labels = np.array(testing_labels)\n",
    "\n",
    "xtrain = tf.data.Dataset.from_tensor_slices(training_padded)\n",
    "ytrain = tf.data.Dataset.from_tensor_slices(training_labels)\n",
    "print(xtrain, ytrain)\n",
    "\n",
    "train_dataset = tf.data.Dataset.zip((xtrain, ytrain)).shuffle(SHUFFLE_SIZE).batch(BATCH_SIZE).prefetch(tf.data.AUTOTUNE)\n",
    "print(train_dataset, '\\n\\n')\n",
    "\n",
    "xtest = tf.data.Dataset.from_tensor_slices(testing_padded)\n",
    "ytest = tf.data.Dataset.from_tensor_slices(testing_labels)\n",
    "print(xtest, ytest)\n",
    "\n",
    "test_dataset = tf.data.Dataset.zip((xtest, ytest)).shuffle(SHUFFLE_SIZE).batch(BATCH_SIZE).prefetch(tf.data.AUTOTUNE)\n",
    "print(test_dataset, '\\n\\n')"
   ]
  },
  {
   "cell_type": "code",
   "execution_count": 15,
   "id": "7a9abe48-35e0-475d-8dd1-f7b449f53daa",
   "metadata": {},
   "outputs": [
    {
     "name": "stdout",
     "output_type": "stream",
     "text": [
      "shape of sample_array = (1, 3, 2)\n",
      "sample array: [[[10  2]\n",
      "  [ 1  3]\n",
      "  [ 1  1]]]\n",
      "output shape of gap1d_layer: (1, 2)\n",
      "output array of gap1d_layer: [[4 2]]\n"
     ]
    }
   ],
   "source": [
    "# Initialize a GlobalAveragePooling1D (GAP1D) layer\n",
    "gap1d_layer = tf.keras.layers.GlobalAveragePooling1D()\n",
    "\n",
    "# Define sample array\n",
    "sample_array = np.array([\n",
    "    [\n",
    "        [10,2],\n",
    "        [1,3],\n",
    "        [1,1]\n",
    "    ]\n",
    "])\n",
    "\n",
    "# Print shape and contents of sample array\n",
    "print(f'shape of sample_array = {sample_array.shape}')\n",
    "print(f'sample array: {sample_array}')\n",
    "\n",
    "# Pass the sample array to the GAP1D layer\n",
    "output = gap1d_layer(sample_array)\n",
    "\n",
    "# Print shape and contents of the GAP1D output array\n",
    "print(f'output shape of gap1d_layer: {output.shape}')\n",
    "print(f'output array of gap1d_layer: {output.numpy()}')"
   ]
  },
  {
   "cell_type": "code",
   "execution_count": 16,
   "id": "f8ff2552-9fbc-4f43-a757-4f9d2820d682",
   "metadata": {},
   "outputs": [
    {
     "name": "stdout",
     "output_type": "stream",
     "text": [
      "Model: \"sequential_2\"\n",
      "_________________________________________________________________\n",
      " Layer (type)                Output Shape              Param #   \n",
      "=================================================================\n",
      " embedding_2 (Embedding)     (None, 16, 24)            120000    \n",
      "                                                                 \n",
      " flatten_1 (Flatten)         (None, 384)               0         \n",
      "                                                                 \n",
      " dense_4 (Dense)             (None, 24)                9240      \n",
      "                                                                 \n",
      " dense_5 (Dense)             (None, 1)                 25        \n",
      "                                                                 \n",
      "=================================================================\n",
      "Total params: 129,265\n",
      "Trainable params: 129,265\n",
      "Non-trainable params: 0\n",
      "_________________________________________________________________\n",
      "None\n",
      "Epoch 1/50\n",
      "710/710 [==============================] - 7s 9ms/step - loss: 0.4180 - acc: 0.7973 - val_loss: 0.3244 - val_acc: 0.8540 - lr: 0.0010\n",
      "Epoch 2/50\n",
      "710/710 [==============================] - 6s 8ms/step - loss: 0.2306 - acc: 0.9065 - val_loss: 0.3149 - val_acc: 0.8652 - lr: 0.0010\n",
      "Epoch 3/50\n",
      "710/710 [==============================] - 6s 8ms/step - loss: 0.1508 - acc: 0.9438 - val_loss: 0.3517 - val_acc: 0.8610 - lr: 0.0010\n",
      "Epoch 4/50\n",
      "710/710 [==============================] - 6s 8ms/step - loss: 0.0909 - acc: 0.9701 - val_loss: 0.4096 - val_acc: 0.8485 - lr: 0.0010\n",
      "Epoch 5/50\n",
      "710/710 [==============================] - 6s 8ms/step - loss: 0.0498 - acc: 0.9861 - val_loss: 0.4853 - val_acc: 0.8477 - lr: 0.0010\n",
      "Epoch 6/50\n",
      "710/710 [==============================] - 6s 8ms/step - loss: 0.0277 - acc: 0.9933 - val_loss: 0.5544 - val_acc: 0.8525 - lr: 0.0010\n",
      "Epoch 7/50\n",
      "710/710 [==============================] - 6s 8ms/step - loss: 0.0156 - acc: 0.9969 - val_loss: 0.6227 - val_acc: 0.8465 - lr: 0.0010\n",
      "Epoch 8/50\n",
      "710/710 [==============================] - 6s 8ms/step - loss: 0.0081 - acc: 0.9986 - val_loss: 0.6331 - val_acc: 0.8462 - lr: 1.0000e-04\n",
      "Epoch 9/50\n",
      "710/710 [==============================] - 6s 8ms/step - loss: 0.0073 - acc: 0.9987 - val_loss: 0.6396 - val_acc: 0.8455 - lr: 1.0000e-04\n",
      "Epoch 10/50\n",
      "710/710 [==============================] - 6s 8ms/step - loss: 0.0068 - acc: 0.9987 - val_loss: 0.6495 - val_acc: 0.8467 - lr: 1.0000e-04\n",
      "Epoch 11/50\n",
      "710/710 [==============================] - 6s 8ms/step - loss: 0.0064 - acc: 0.9988 - val_loss: 0.6586 - val_acc: 0.8482 - lr: 1.0000e-04\n",
      "Epoch 12/50\n",
      "710/710 [==============================] - 6s 8ms/step - loss: 0.0059 - acc: 0.9989 - val_loss: 0.6748 - val_acc: 0.8452 - lr: 1.0000e-04\n"
     ]
    }
   ],
   "source": [
    "MODEL_NAME = './models/SarcasmClassification_embidding_flattened_full_verse.h5'\n",
    "\n",
    "model = tf.keras.Sequential([\n",
    "    tf.keras.layers.Embedding(vocab_size, embedding_dim, input_length=max_length),\n",
    "    tf.keras.layers.Flatten(),\n",
    "    tf.keras.layers.Dense(24, activation='relu'),\n",
    "    tf.keras.layers.Dense(1, activation='sigmoid')\n",
    "])\n",
    "\n",
    "# Setup the training parameters\n",
    "model.compile(\n",
    "    loss=tf.keras.losses.BinaryCrossentropy(), \n",
    "    optimizer=tf.keras.optimizers.Nadam(1e-3),\n",
    "    metrics=['acc']\n",
    ")\n",
    "\n",
    "# Print the model summary\n",
    "print(model.summary())\n",
    "\n",
    "callbacks = [tf.keras.callbacks.ReduceLROnPlateau(monitor=MONITOR, factor=0.1, patience=PATIENCE, min_lr=1e-5)]\n",
    "callbacks += [tf.keras.callbacks.ModelCheckpoint(MODEL_NAME, monitor=MONITOR, save_best_only=True)]\n",
    "callbacks += [tf.keras.callbacks.EarlyStopping(monitor=MONITOR, patience=PATIENCE*2, restore_best_weights=True)]\n",
    "\n",
    "history = model.fit(\n",
    "    train_dataset,\n",
    "    epochs=EPOCHS,\n",
    "    batch_size=BATCH_SIZE,\n",
    "    validation_data=test_dataset,\n",
    "    callbacks=callbacks\n",
    ")"
   ]
  },
  {
   "cell_type": "code",
   "execution_count": 17,
   "id": "0518d3d2-31a0-4268-876e-29d643f9aa52",
   "metadata": {},
   "outputs": [
    {
     "data": {
      "image/png": "[encoded data removed]",
      "text/plain": [
       "<Figure size 432x288 with 1 Axes>"
      ]
     },
     "metadata": {
      "needs_background": "light"
     },
     "output_type": "display_data"
    },
    {
     "data": {
      "image/png": "[encoded data removed]",
      "text/plain": [
       "<Figure size 432x288 with 1 Axes>"
      ]
     },
     "metadata": {
      "needs_background": "light"
     },
     "output_type": "display_data"
    }
   ],
   "source": [
    "hist = pd.DataFrame(history.history)\n",
    "hist['epoch'] = history.epoch\n",
    "\n",
    "plt.plot(history.history['loss'])\n",
    "plt.plot(history.history['val_loss'])\n",
    "plt.title('model loss')\n",
    "plt.ylabel('loss')\n",
    "plt.xlabel('epoch')\n",
    "plt.legend(['train', 'test'], loc='upper left')\n",
    "plt.show()\n",
    "\n",
    "plt.plot(history.history['acc'])\n",
    "plt.plot(history.history['val_acc'])\n",
    "plt.title('model acc')\n",
    "plt.ylabel('loss')\n",
    "plt.xlabel('epoch')\n",
    "plt.legend(['train', 'test'], loc='upper left')\n",
    "plt.show()"
   ]
  },
  {
   "cell_type": "code",
   "execution_count": 18,
   "id": "836a3ae1-ec12-4b01-a39d-8d0e027ed7de",
   "metadata": {},
   "outputs": [
    {
     "name": "stdout",
     "output_type": "stream",
     "text": [
      "Model: \"sequential_3\"\n",
      "_________________________________________________________________\n",
      " Layer (type)                Output Shape              Param #   \n",
      "=================================================================\n",
      " embedding_3 (Embedding)     (None, 16, 24)            120000    \n",
      "                                                                 \n",
      " global_average_pooling1d_3   (None, 24)               0         \n",
      " (GlobalAveragePooling1D)                                        \n",
      "                                                                 \n",
      " dense_6 (Dense)             (None, 24)                600       \n",
      "                                                                 \n",
      " dense_7 (Dense)             (None, 1)                 25        \n",
      "                                                                 \n",
      "=================================================================\n",
      "Total params: 120,625\n",
      "Trainable params: 120,625\n",
      "Non-trainable params: 0\n",
      "_________________________________________________________________\n",
      "None\n",
      "Epoch 1/50\n",
      "710/710 [==============================] - 7s 9ms/step - loss: 0.4863 - acc: 0.7671 - val_loss: 0.3732 - val_acc: 0.8407 - lr: 0.0010\n",
      "Epoch 2/50\n",
      "710/710 [==============================] - 6s 9ms/step - loss: 0.3072 - acc: 0.8703 - val_loss: 0.3413 - val_acc: 0.8477 - lr: 0.0010\n",
      "Epoch 3/50\n",
      "710/710 [==============================] - 6s 9ms/step - loss: 0.2612 - acc: 0.8914 - val_loss: 0.3440 - val_acc: 0.8477 - lr: 0.0010\n",
      "Epoch 4/50\n",
      "710/710 [==============================] - 6s 8ms/step - loss: 0.2370 - acc: 0.9027 - val_loss: 0.3543 - val_acc: 0.8450 - lr: 0.0010\n",
      "Epoch 5/50\n",
      "710/710 [==============================] - 6s 8ms/step - loss: 0.2219 - acc: 0.9114 - val_loss: 0.3677 - val_acc: 0.8462 - lr: 0.0010\n",
      "Epoch 6/50\n",
      "710/710 [==============================] - 6s 8ms/step - loss: 0.2108 - acc: 0.9145 - val_loss: 0.3781 - val_acc: 0.8425 - lr: 0.0010\n",
      "Epoch 7/50\n",
      "710/710 [==============================] - 6s 9ms/step - loss: 0.2023 - acc: 0.9201 - val_loss: 0.3883 - val_acc: 0.8447 - lr: 0.0010\n",
      "Epoch 8/50\n",
      "710/710 [==============================] - 6s 8ms/step - loss: 0.1774 - acc: 0.9342 - val_loss: 0.3917 - val_acc: 0.8432 - lr: 1.0000e-04\n",
      "Epoch 9/50\n",
      "710/710 [==============================] - 6s 8ms/step - loss: 0.1760 - acc: 0.9356 - val_loss: 0.3948 - val_acc: 0.8427 - lr: 1.0000e-04\n",
      "Epoch 10/50\n",
      "710/710 [==============================] - 6s 8ms/step - loss: 0.1748 - acc: 0.9356 - val_loss: 0.3996 - val_acc: 0.8435 - lr: 1.0000e-04\n",
      "Epoch 11/50\n",
      "710/710 [==============================] - 6s 8ms/step - loss: 0.1738 - acc: 0.9364 - val_loss: 0.4010 - val_acc: 0.8417 - lr: 1.0000e-04\n",
      "Epoch 12/50\n",
      "710/710 [==============================] - 6s 8ms/step - loss: 0.1728 - acc: 0.9367 - val_loss: 0.4058 - val_acc: 0.8437 - lr: 1.0000e-04\n"
     ]
    }
   ],
   "source": [
    "MODEL_NAME = './models/SarcasmClassification_embidding_global_pooling_full_verse.h5'\n",
    "\n",
    "model = tf.keras.Sequential([\n",
    "    tf.keras.layers.Embedding(vocab_size, embedding_dim, input_length=max_length),\n",
    "    tf.keras.layers.GlobalAveragePooling1D(),\n",
    "    tf.keras.layers.Dense(24, activation='relu'),\n",
    "    tf.keras.layers.Dense(1, activation='sigmoid')\n",
    "])\n",
    "\n",
    "# Setup the training parameters\n",
    "model.compile(\n",
    "    loss=tf.keras.losses.BinaryCrossentropy(), \n",
    "    optimizer=tf.keras.optimizers.Nadam(1e-3),\n",
    "    metrics=['acc']\n",
    ")\n",
    "\n",
    "# Print the model summary\n",
    "print(model.summary())\n",
    "\n",
    "callbacks = [tf.keras.callbacks.ReduceLROnPlateau(monitor=MONITOR, factor=0.1, patience=PATIENCE, min_lr=1e-5)]\n",
    "callbacks += [tf.keras.callbacks.ModelCheckpoint(MODEL_NAME, monitor=MONITOR, save_best_only=True)]\n",
    "callbacks += [tf.keras.callbacks.EarlyStopping(monitor=MONITOR, patience=PATIENCE*2, restore_best_weights=True)]\n",
    "\n",
    "history = model.fit(\n",
    "    train_dataset,\n",
    "    epochs=EPOCHS,\n",
    "    batch_size=BATCH_SIZE,\n",
    "    validation_data=test_dataset,\n",
    "    callbacks=callbacks\n",
    ")"
   ]
  },
  {
   "cell_type": "code",
   "execution_count": 19,
   "id": "650249e5-5cbd-4ed1-87a9-69bd1b6407a9",
   "metadata": {},
   "outputs": [
    {
     "data": {
      "image/png": "[encoded data removed]",
      "text/plain": [
       "<Figure size 432x288 with 1 Axes>"
      ]
     },
     "metadata": {
      "needs_background": "light"
     },
     "output_type": "display_data"
    },
    {
     "data": {
      "image/png": "[encoded data removed]",
      "text/plain": [
       "<Figure size 432x288 with 1 Axes>"
      ]
     },
     "metadata": {
      "needs_background": "light"
     },
     "output_type": "display_data"
    }
   ],
   "source": [
    "hist = pd.DataFrame(history.history)\n",
    "hist['epoch'] = history.epoch\n",
    "\n",
    "plt.plot(history.history['loss'])\n",
    "plt.plot(history.history['val_loss'])\n",
    "plt.title('model loss')\n",
    "plt.ylabel('loss')\n",
    "plt.xlabel('epoch')\n",
    "plt.legend(['train', 'test'], loc='upper left')\n",
    "plt.show()\n",
    "\n",
    "plt.plot(history.history['acc'])\n",
    "plt.plot(history.history['val_acc'])\n",
    "plt.title('model acc')\n",
    "plt.ylabel('loss')\n",
    "plt.xlabel('epoch')\n",
    "plt.legend(['train', 'test'], loc='upper left')\n",
    "plt.show()"
   ]
  },
  {
   "cell_type": "code",
   "execution_count": null,
   "id": "f8b18ef2-25b7-4da4-b62d-7cec48b1c199",
   "metadata": {},
   "outputs": [],
   "source": []
  }
 ],
 "metadata": {
  "kernelspec": {
   "display_name": "Python 3 (ipykernel)",
   "language": "python",
   "name": "python3"
  },
  "language_info": {
   "codemirror_mode": {
    "name": "ipython",
    "version": 3
   },
   "file_extension": ".py",
   "mimetype": "text/x-python",
   "name": "python",
   "nbconvert_exporter": "python",
   "pygments_lexer": "ipython3",
   "version": "3.8.10"
  }
 },
 "nbformat": 4,
 "nbformat_minor": 5
}
