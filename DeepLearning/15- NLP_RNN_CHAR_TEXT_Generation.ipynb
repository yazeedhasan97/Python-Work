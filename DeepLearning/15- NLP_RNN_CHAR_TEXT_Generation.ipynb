{
 "cells": [
  {
   "cell_type": "code",
   "execution_count": 62,
   "id": "fef8ff61-40b2-4de1-8647-91ae3a7d8b02",
   "metadata": {},
   "outputs": [
    {
     "name": "stdout",
     "output_type": "stream",
     "text": [
      "2.9.1\n"
     ]
    }
   ],
   "source": [
    "import tensorflow as tf\n",
    "import tensorflow_datasets as tfds\n",
    "\n",
    "import numpy as np\n",
    "import pandas as pd\n",
    "\n",
    "import matplotlib.pyplot as plt\n",
    "import matplotlib.image as mpimg\n",
    "\n",
    "import random, time\n",
    "from sklearn.metrics import accuracy_score\n",
    "\n",
    "import requests, zipfile, io\n",
    "import os, glob\n",
    "import shutil\n",
    "\n",
    "print(tf.__version__)\n",
    "tf.keras.mixed_precision.set_global_policy('mixed_float16')"
   ]
  },
  {
   "cell_type": "code",
   "execution_count": 52,
   "id": "d4bf0d56-aa03-4aca-81a1-869af54ca110",
   "metadata": {},
   "outputs": [],
   "source": [
    "seq_length = 100\n",
    "BUFFER_SIZE = 10000\n",
    "embedding_dim = 256\n",
    "rnn_units = 1024\n",
    "BATCH_SIZE = 64\n",
    "EPOCHS = 500\n",
    "PATIENCE = 10\n",
    "MONITOR = 'acc'"
   ]
  },
  {
   "cell_type": "code",
   "execution_count": 35,
   "id": "d0431386-cc09-4379-9370-5c4bf2812a9f",
   "metadata": {},
   "outputs": [
    {
     "name": "stdout",
     "output_type": "stream",
     "text": [
      "['boston_housing.npz', 'fashion-mnist', 'shakespeare.txt']\n",
      "C:\\Users\\yazee\\.keras\\datasets\\shakespeare.txt\n",
      "Length of text: 1115394 characters\n",
      "65 unique characters\n",
      "\n",
      "\n",
      "First Citizen:\n",
      "Before we proceed any further, hear me speak.\n",
      "\n",
      "All:\n",
      "Speak, speak.\n",
      "\n",
      "First Citizen:\n",
      "You are all resolved rather to die than to famish?\n",
      "\n",
      "All:\n",
      "Resolved. resolved.\n",
      "\n",
      "First Citizen:\n",
      "First, you know Caius Marcius is chief enemy to the people.\n",
      "\n"
     ]
    }
   ],
   "source": [
    "# data_dir = './data/shakespeare_char_based/'\n",
    "# if not os.path.exists(data_dir):\n",
    "#     os.makedirs(data_dir)\n",
    "\n",
    "path_to_file = tf.keras.utils.get_file(os.path.join('shakespeare.txt'), 'https://storage.googleapis.com/download.tensorflow.org/data/shakespeare.txt')\n",
    "\n",
    "print(os.listdir('C:\\\\Users\\\\yazee\\\\.keras\\\\datasets\\\\.'))\n",
    "print(path_to_file)\n",
    "\n",
    "# with open(path_to_file) as file:\n",
    "#     text = file.read()\n",
    "    \n",
    "with open(path_to_file, 'rb') as file:\n",
    "    text = file.read().decode(encoding='utf-8')\n",
    "    \n",
    "print(f'Length of text: {len(text)} characters')\n",
    "\n",
    "vocab = sorted(set(text))\n",
    "print(f'{len(vocab)} unique characters\\n\\n')\n",
    "\n",
    "print(text[:250])"
   ]
  },
  {
   "cell_type": "code",
   "execution_count": 36,
   "id": "cf999626-e713-4176-b1b6-f05ed01491de",
   "metadata": {},
   "outputs": [
    {
     "name": "stdout",
     "output_type": "stream",
     "text": [
      "ids = <tf.RaggedTensor [[40, 41, 42, 43, 44, 45, 46], [63, 64, 65]]>\n",
      "chars = <tf.RaggedTensor [[b'a', b'b', b'c', b'd', b'e', b'f', b'g'], [b'x', b'y', b'z']]>\n",
      "[b'abcdefg' b'xyz']\n"
     ]
    }
   ],
   "source": [
    "example_texts = ['abcdefg', 'xyz']\n",
    "chars = tf.strings.unicode_split(example_texts, input_encoding='UTF-8')\n",
    "chars\n",
    "\n",
    "ids_from_chars = tf.keras.layers.StringLookup(vocabulary=list(vocab), mask_token=None)\n",
    "ids = ids_from_chars(chars)\n",
    "print('ids =', ids)\n",
    "\n",
    "\n",
    "chars_from_ids = tf.keras.layers.StringLookup(vocabulary=ids_from_chars.get_vocabulary(), invert=True, mask_token=None)\n",
    "chars = chars_from_ids(ids)\n",
    "print('chars =', chars)\n",
    "\n",
    "# this will reduce them back into a single string\n",
    "print(tf.strings.reduce_join(chars, axis=-1).numpy())"
   ]
  },
  {
   "cell_type": "code",
   "execution_count": 37,
   "id": "c37d68d1-a874-472b-b555-c277559b69a3",
   "metadata": {},
   "outputs": [
    {
     "name": "stdout",
     "output_type": "stream",
     "text": [
      "First Citize"
     ]
    }
   ],
   "source": [
    "def text_from_ids(ids):\n",
    "    return tf.strings.reduce_join(chars_from_ids(ids), axis=-1)\n",
    "\n",
    "all_ids = ids_from_chars(tf.strings.unicode_split(text, 'UTF-8'))\n",
    "\n",
    "ids_dataset = tf.data.Dataset.from_tensor_slices(all_ids)\n",
    "\n",
    "for ids in ids_dataset.take(12):\n",
    "    print(chars_from_ids(ids).numpy().decode('utf-8'), end='')"
   ]
  },
  {
   "cell_type": "code",
   "execution_count": 38,
   "id": "385f8d7e-6047-48cd-99bf-56612393b9fe",
   "metadata": {},
   "outputs": [
    {
     "name": "stdout",
     "output_type": "stream",
     "text": [
      "tf.Tensor(\n",
      "[b'F' b'i' b'r' b's' b't' b' ' b'C' b'i' b't' b'i' b'z' b'e' b'n' b':'\n",
      " b'\\n' b'B' b'e' b'f' b'o' b'r' b'e' b' ' b'w' b'e' b' ' b'p' b'r' b'o'\n",
      " b'c' b'e' b'e' b'd' b' ' b'a' b'n' b'y' b' ' b'f' b'u' b'r' b't' b'h'\n",
      " b'e' b'r' b',' b' ' b'h' b'e' b'a' b'r' b' ' b'm' b'e' b' ' b's' b'p'\n",
      " b'e' b'a' b'k' b'.' b'\\n' b'\\n' b'A' b'l' b'l' b':' b'\\n' b'S' b'p' b'e'\n",
      " b'a' b'k' b',' b' ' b's' b'p' b'e' b'a' b'k' b'.' b'\\n' b'\\n' b'F' b'i'\n",
      " b'r' b's' b't' b' ' b'C' b'i' b't' b'i' b'z' b'e' b'n' b':' b'\\n' b'Y'\n",
      " b'o' b'u' b' '], shape=(101,), dtype=string)\n",
      "\n",
      "\n",
      "b'First Citizen:\\nBefore we proceed any further, hear me speak.\\n\\nAll:\\nSpeak, speak.\\n\\nFirst Citizen:\\nYou 'b'are all resolved rather to die than to famish?\\n\\nAll:\\nResolved. resolved.\\n\\nFirst Citizen:\\nFirst, you k'b\"now Caius Marcius is chief enemy to the people.\\n\\nAll:\\nWe know't, we know't.\\n\\nFirst Citizen:\\nLet us ki\"b\"ll him, and we'll have corn at our own price.\\nIs't a verdict?\\n\\nAll:\\nNo more talking on't; let it be d\"b'one: away, away!\\n\\nSecond Citizen:\\nOne word, good citizens.\\n\\nFirst Citizen:\\nWe are accounted poor citi'"
     ]
    }
   ],
   "source": [
    "sequences = ids_dataset.batch(seq_length+1, drop_remainder=True)\n",
    "\n",
    "for seq in sequences.take(1):\n",
    "    print(chars_from_ids(seq), end='')\n",
    "print('\\n\\n')\n",
    "for seq in sequences.take(5):\n",
    "    print(text_from_ids(seq).numpy(), end='')"
   ]
  },
  {
   "cell_type": "code",
   "execution_count": 39,
   "id": "6f87e80b-5b54-488d-8b59-b66f270859d7",
   "metadata": {},
   "outputs": [
    {
     "data": {
      "text/plain": [
       "(['T', 'e', 'n', 's', 'o', 'r', 'f', 'l', 'o'],\n",
       " ['e', 'n', 's', 'o', 'r', 'f', 'l', 'o', 'w'])"
      ]
     },
     "execution_count": 39,
     "metadata": {},
     "output_type": "execute_result"
    }
   ],
   "source": [
    "def split_input_target(sequence):\n",
    "    input_text = sequence[:-1]\n",
    "    target_text = sequence[1:]\n",
    "    return input_text, target_text\n",
    "\n",
    "split_input_target(list(\"Tensorflow\"))"
   ]
  },
  {
   "cell_type": "code",
   "execution_count": 55,
   "id": "43fa5c3a-2126-4cb1-830f-651d7203ab58",
   "metadata": {},
   "outputs": [
    {
     "name": "stdout",
     "output_type": "stream",
     "text": [
      "Input : b'First Citizen:\\nBefore we proceed any further, hear me speak.\\n\\nAll:\\nSpeak, speak.\\n\\nFirst Citizen:\\nYou'\n",
      "Target: b'irst Citizen:\\nBefore we proceed any further, hear me speak.\\n\\nAll:\\nSpeak, speak.\\n\\nFirst Citizen:\\nYou '\n"
     ]
    },
    {
     "data": {
      "text/plain": [
       "(<PrefetchDataset element_spec=(TensorSpec(shape=(64, 100), dtype=tf.int64, name=None), TensorSpec(shape=(64, 100), dtype=tf.int64, name=None))>,\n",
       " 66)"
      ]
     },
     "execution_count": 55,
     "metadata": {},
     "output_type": "execute_result"
    }
   ],
   "source": [
    "dataset = sequences.map(split_input_target)\n",
    "\n",
    "for input_example, target_example in dataset.take(1):\n",
    "    print(\"Input :\", text_from_ids(input_example).numpy())\n",
    "    print(\"Target:\", text_from_ids(target_example).numpy())\n",
    "    \n",
    "train_dataset = (\n",
    "    dataset\n",
    "    .shuffle(BUFFER_SIZE)\n",
    "    .batch(BATCH_SIZE, drop_remainder=True)\n",
    "    .prefetch(tf.data.experimental.AUTOTUNE)\n",
    ")\n",
    "vocab_size = len(ids_from_chars.get_vocabulary())\n",
    "\n",
    "train_dataset, vocab_size"
   ]
  },
  {
   "cell_type": "code",
   "execution_count": 53,
   "id": "1f44ad4f-4411-4972-b720-a7b08b210907",
   "metadata": {},
   "outputs": [],
   "source": [
    "class MyModel(tf.keras.Model):\n",
    "    def __init__(self, vocab_size, embedding_dim, rnn_units):\n",
    "        super().__init__(self)\n",
    "        self.embedding = tf.keras.layers.Embedding(vocab_size, embedding_dim)\n",
    "        self.gru = tf.keras.layers.GRU(rnn_units, return_sequences=True, return_state=True)\n",
    "        self.dense = tf.keras.layers.Dense(vocab_size)\n",
    "\n",
    "    def call(self, inputs, states=None, return_state=False, training=False):\n",
    "        x = inputs\n",
    "        x = self.embedding(x, training=training)\n",
    "        if states is None:\n",
    "            states = self.gru.get_initial_state(x)\n",
    "        x, states = self.gru(x, initial_state=states, training=training)\n",
    "        x = self.dense(x, training=training)\n",
    "\n",
    "        if return_state:\n",
    "            return x, states\n",
    "        else:\n",
    "            return x\n",
    "        \n",
    "model = MyModel(\n",
    "    vocab_size=vocab_size,\n",
    "    embedding_dim=embedding_dim,\n",
    "    rnn_units=rnn_units\n",
    ")\n",
    "\n",
    "model.compile(\n",
    "    optimizer='adam', \n",
    "    loss=tf.losses.SparseCategoricalCrossentropy(from_logits=True),\n",
    "    metrics=['acc']\n",
    ")\n",
    "# model.summary()"
   ]
  },
  {
   "cell_type": "code",
   "execution_count": 47,
   "id": "62301f25-3a8b-4c29-9736-0779b62f0508",
   "metadata": {},
   "outputs": [],
   "source": [
    "# for input_example_batch, target_example_batch in dataset.take(1):\n",
    "#     example_batch_predictions = model(input_example_batch)\n",
    "#     print(example_batch_predictions.shape, \"# (batch_size, sequence_length, vocab_size)\")\n",
    "\n",
    "# sampled_indices = tf.random.categorical(example_batch_predictions[0], num_samples=1)\n",
    "# sampled_indices = tf.squeeze(sampled_indices, axis=-1).numpy()\n",
    "# print(sampled_indices)\n",
    "\n",
    "# print(\"Input:\\n\", text_from_ids(input_example_batch[0]).numpy())\n",
    "# print()\n",
    "# print(\"Next Char Predictions:\\n\", text_from_ids(sampled_indices).numpy())"
   ]
  },
  {
   "cell_type": "code",
   "execution_count": 59,
   "id": "b2ffcc4a-e8f3-49f1-84dd-001ee25197fd",
   "metadata": {},
   "outputs": [
    {
     "name": "stdout",
     "output_type": "stream",
     "text": [
      "Epoch 1/500\n",
      "170/172 [============================>.] - ETA: 0s - loss: 1.9871 - acc: 0.4194"
     ]
    },
    {
     "name": "stderr",
     "output_type": "stream",
     "text": [
      "WARNING:absl:Found untraced functions such as gru_cell_6_layer_call_fn, gru_cell_6_layer_call_and_return_conditional_losses while saving (showing 2 of 2). These functions will not be directly callable after loading.\n"
     ]
    },
    {
     "name": "stdout",
     "output_type": "stream",
     "text": [
      "INFO:tensorflow:Assets written to: ./models\\NLP_CHAR_PROG\\assets\n"
     ]
    },
    {
     "name": "stderr",
     "output_type": "stream",
     "text": [
      "INFO:tensorflow:Assets written to: ./models\\NLP_CHAR_PROG\\assets\n"
     ]
    },
    {
     "name": "stdout",
     "output_type": "stream",
     "text": [
      "172/172 [==============================] - 6s 33ms/step - loss: 1.9852 - acc: 0.4199 - lr: 0.0010\n",
      "Epoch 2/500\n",
      "171/172 [============================>.] - ETA: 0s - loss: 1.7029 - acc: 0.4943"
     ]
    },
    {
     "name": "stderr",
     "output_type": "stream",
     "text": [
      "WARNING:absl:Found untraced functions such as gru_cell_6_layer_call_fn, gru_cell_6_layer_call_and_return_conditional_losses while saving (showing 2 of 2). These functions will not be directly callable after loading.\n"
     ]
    },
    {
     "name": "stdout",
     "output_type": "stream",
     "text": [
      "INFO:tensorflow:Assets written to: ./models\\NLP_CHAR_PROG\\assets\n"
     ]
    },
    {
     "name": "stderr",
     "output_type": "stream",
     "text": [
      "INFO:tensorflow:Assets written to: ./models\\NLP_CHAR_PROG\\assets\n"
     ]
    },
    {
     "name": "stdout",
     "output_type": "stream",
     "text": [
      "172/172 [==============================] - 6s 33ms/step - loss: 1.7023 - acc: 0.4945 - lr: 0.0010\n",
      "Epoch 3/500\n",
      "170/172 [============================>.] - ETA: 0s - loss: 1.5397 - acc: 0.5377"
     ]
    },
    {
     "name": "stderr",
     "output_type": "stream",
     "text": [
      "WARNING:absl:Found untraced functions such as gru_cell_6_layer_call_fn, gru_cell_6_layer_call_and_return_conditional_losses while saving (showing 2 of 2). These functions will not be directly callable after loading.\n"
     ]
    },
    {
     "name": "stdout",
     "output_type": "stream",
     "text": [
      "INFO:tensorflow:Assets written to: ./models\\NLP_CHAR_PROG\\assets\n"
     ]
    },
    {
     "name": "stderr",
     "output_type": "stream",
     "text": [
      "INFO:tensorflow:Assets written to: ./models\\NLP_CHAR_PROG\\assets\n"
     ]
    },
    {
     "name": "stdout",
     "output_type": "stream",
     "text": [
      "172/172 [==============================] - 6s 33ms/step - loss: 1.5393 - acc: 0.5378 - lr: 0.0010\n",
      "Epoch 4/500\n",
      "171/172 [============================>.] - ETA: 0s - loss: 1.4410 - acc: 0.5628"
     ]
    },
    {
     "name": "stderr",
     "output_type": "stream",
     "text": [
      "WARNING:absl:Found untraced functions such as gru_cell_6_layer_call_fn, gru_cell_6_layer_call_and_return_conditional_losses while saving (showing 2 of 2). These functions will not be directly callable after loading.\n"
     ]
    },
    {
     "name": "stdout",
     "output_type": "stream",
     "text": [
      "INFO:tensorflow:Assets written to: ./models\\NLP_CHAR_PROG\\assets\n"
     ]
    },
    {
     "name": "stderr",
     "output_type": "stream",
     "text": [
      "INFO:tensorflow:Assets written to: ./models\\NLP_CHAR_PROG\\assets\n"
     ]
    },
    {
     "name": "stdout",
     "output_type": "stream",
     "text": [
      "172/172 [==============================] - 6s 33ms/step - loss: 1.4406 - acc: 0.5629 - lr: 0.0010\n",
      "Epoch 5/500\n",
      "172/172 [==============================] - ETA: 0s - loss: 1.3731 - acc: 0.5799"
     ]
    },
    {
     "name": "stderr",
     "output_type": "stream",
     "text": [
      "WARNING:absl:Found untraced functions such as gru_cell_6_layer_call_fn, gru_cell_6_layer_call_and_return_conditional_losses while saving (showing 2 of 2). These functions will not be directly callable after loading.\n"
     ]
    },
    {
     "name": "stdout",
     "output_type": "stream",
     "text": [
      "INFO:tensorflow:Assets written to: ./models\\NLP_CHAR_PROG\\assets\n"
     ]
    },
    {
     "name": "stderr",
     "output_type": "stream",
     "text": [
      "INFO:tensorflow:Assets written to: ./models\\NLP_CHAR_PROG\\assets\n"
     ]
    },
    {
     "name": "stdout",
     "output_type": "stream",
     "text": [
      "172/172 [==============================] - 6s 34ms/step - loss: 1.3731 - acc: 0.5799 - lr: 0.0010\n",
      "Epoch 6/500\n",
      "172/172 [==============================] - ETA: 0s - loss: 1.3210 - acc: 0.5931"
     ]
    },
    {
     "name": "stderr",
     "output_type": "stream",
     "text": [
      "WARNING:absl:Found untraced functions such as gru_cell_6_layer_call_fn, gru_cell_6_layer_call_and_return_conditional_losses while saving (showing 2 of 2). These functions will not be directly callable after loading.\n"
     ]
    },
    {
     "name": "stdout",
     "output_type": "stream",
     "text": [
      "INFO:tensorflow:Assets written to: ./models\\NLP_CHAR_PROG\\assets\n"
     ]
    },
    {
     "name": "stderr",
     "output_type": "stream",
     "text": [
      "INFO:tensorflow:Assets written to: ./models\\NLP_CHAR_PROG\\assets\n"
     ]
    },
    {
     "name": "stdout",
     "output_type": "stream",
     "text": [
      "172/172 [==============================] - 6s 32ms/step - loss: 1.3210 - acc: 0.5931 - lr: 0.0010\n",
      "Epoch 7/500\n",
      "170/172 [============================>.] - ETA: 0s - loss: 1.2769 - acc: 0.6039"
     ]
    },
    {
     "name": "stderr",
     "output_type": "stream",
     "text": [
      "WARNING:absl:Found untraced functions such as gru_cell_6_layer_call_fn, gru_cell_6_layer_call_and_return_conditional_losses while saving (showing 2 of 2). These functions will not be directly callable after loading.\n"
     ]
    },
    {
     "name": "stdout",
     "output_type": "stream",
     "text": [
      "INFO:tensorflow:Assets written to: ./models\\NLP_CHAR_PROG\\assets\n"
     ]
    },
    {
     "name": "stderr",
     "output_type": "stream",
     "text": [
      "INFO:tensorflow:Assets written to: ./models\\NLP_CHAR_PROG\\assets\n"
     ]
    },
    {
     "name": "stdout",
     "output_type": "stream",
     "text": [
      "172/172 [==============================] - 6s 34ms/step - loss: 1.2770 - acc: 0.6039 - lr: 0.0010\n",
      "Epoch 8/500\n",
      "172/172 [==============================] - ETA: 0s - loss: 1.2360 - acc: 0.6143"
     ]
    },
    {
     "name": "stderr",
     "output_type": "stream",
     "text": [
      "WARNING:absl:Found untraced functions such as gru_cell_6_layer_call_fn, gru_cell_6_layer_call_and_return_conditional_losses while saving (showing 2 of 2). These functions will not be directly callable after loading.\n"
     ]
    },
    {
     "name": "stdout",
     "output_type": "stream",
     "text": [
      "INFO:tensorflow:Assets written to: ./models\\NLP_CHAR_PROG\\assets\n"
     ]
    },
    {
     "name": "stderr",
     "output_type": "stream",
     "text": [
      "INFO:tensorflow:Assets written to: ./models\\NLP_CHAR_PROG\\assets\n"
     ]
    },
    {
     "name": "stdout",
     "output_type": "stream",
     "text": [
      "172/172 [==============================] - 6s 32ms/step - loss: 1.2360 - acc: 0.6143 - lr: 0.0010\n",
      "Epoch 9/500\n",
      "170/172 [============================>.] - ETA: 0s - loss: 1.1954 - acc: 0.6256"
     ]
    },
    {
     "name": "stderr",
     "output_type": "stream",
     "text": [
      "WARNING:absl:Found untraced functions such as gru_cell_6_layer_call_fn, gru_cell_6_layer_call_and_return_conditional_losses while saving (showing 2 of 2). These functions will not be directly callable after loading.\n"
     ]
    },
    {
     "name": "stdout",
     "output_type": "stream",
     "text": [
      "INFO:tensorflow:Assets written to: ./models\\NLP_CHAR_PROG\\assets\n"
     ]
    },
    {
     "name": "stderr",
     "output_type": "stream",
     "text": [
      "INFO:tensorflow:Assets written to: ./models\\NLP_CHAR_PROG\\assets\n"
     ]
    },
    {
     "name": "stdout",
     "output_type": "stream",
     "text": [
      "172/172 [==============================] - 6s 33ms/step - loss: 1.1958 - acc: 0.6255 - lr: 0.0010\n",
      "Epoch 10/500\n",
      "172/172 [==============================] - ETA: 0s - loss: 1.1559 - acc: 0.6361"
     ]
    },
    {
     "name": "stderr",
     "output_type": "stream",
     "text": [
      "WARNING:absl:Found untraced functions such as gru_cell_6_layer_call_fn, gru_cell_6_layer_call_and_return_conditional_losses while saving (showing 2 of 2). These functions will not be directly callable after loading.\n"
     ]
    },
    {
     "name": "stdout",
     "output_type": "stream",
     "text": [
      "INFO:tensorflow:Assets written to: ./models\\NLP_CHAR_PROG\\assets\n"
     ]
    },
    {
     "name": "stderr",
     "output_type": "stream",
     "text": [
      "INFO:tensorflow:Assets written to: ./models\\NLP_CHAR_PROG\\assets\n"
     ]
    },
    {
     "name": "stdout",
     "output_type": "stream",
     "text": [
      "172/172 [==============================] - 6s 32ms/step - loss: 1.1559 - acc: 0.6361 - lr: 0.0010\n",
      "Epoch 11/500\n",
      "172/172 [==============================] - ETA: 0s - loss: 1.1148 - acc: 0.6477"
     ]
    },
    {
     "name": "stderr",
     "output_type": "stream",
     "text": [
      "WARNING:absl:Found untraced functions such as gru_cell_6_layer_call_fn, gru_cell_6_layer_call_and_return_conditional_losses while saving (showing 2 of 2). These functions will not be directly callable after loading.\n"
     ]
    },
    {
     "name": "stdout",
     "output_type": "stream",
     "text": [
      "INFO:tensorflow:Assets written to: ./models\\NLP_CHAR_PROG\\assets\n"
     ]
    },
    {
     "name": "stderr",
     "output_type": "stream",
     "text": [
      "INFO:tensorflow:Assets written to: ./models\\NLP_CHAR_PROG\\assets\n"
     ]
    },
    {
     "name": "stdout",
     "output_type": "stream",
     "text": [
      "172/172 [==============================] - 6s 32ms/step - loss: 1.1148 - acc: 0.6477 - lr: 0.0010\n",
      "Epoch 12/500\n",
      "171/172 [============================>.] - ETA: 0s - loss: 1.0720 - acc: 0.6604"
     ]
    },
    {
     "name": "stderr",
     "output_type": "stream",
     "text": [
      "WARNING:absl:Found untraced functions such as gru_cell_6_layer_call_fn, gru_cell_6_layer_call_and_return_conditional_losses while saving (showing 2 of 2). These functions will not be directly callable after loading.\n"
     ]
    },
    {
     "name": "stdout",
     "output_type": "stream",
     "text": [
      "INFO:tensorflow:Assets written to: ./models\\NLP_CHAR_PROG\\assets\n"
     ]
    },
    {
     "name": "stderr",
     "output_type": "stream",
     "text": [
      "INFO:tensorflow:Assets written to: ./models\\NLP_CHAR_PROG\\assets\n"
     ]
    },
    {
     "name": "stdout",
     "output_type": "stream",
     "text": [
      "172/172 [==============================] - 6s 33ms/step - loss: 1.0723 - acc: 0.6603 - lr: 0.0010\n",
      "Epoch 13/500\n",
      "171/172 [============================>.] - ETA: 0s - loss: 1.0257 - acc: 0.6743"
     ]
    },
    {
     "name": "stderr",
     "output_type": "stream",
     "text": [
      "WARNING:absl:Found untraced functions such as gru_cell_6_layer_call_fn, gru_cell_6_layer_call_and_return_conditional_losses while saving (showing 2 of 2). These functions will not be directly callable after loading.\n"
     ]
    },
    {
     "name": "stdout",
     "output_type": "stream",
     "text": [
      "INFO:tensorflow:Assets written to: ./models\\NLP_CHAR_PROG\\assets\n"
     ]
    },
    {
     "name": "stderr",
     "output_type": "stream",
     "text": [
      "INFO:tensorflow:Assets written to: ./models\\NLP_CHAR_PROG\\assets\n"
     ]
    },
    {
     "name": "stdout",
     "output_type": "stream",
     "text": [
      "172/172 [==============================] - 6s 32ms/step - loss: 1.0259 - acc: 0.6742 - lr: 0.0010\n",
      "Epoch 14/500\n",
      "172/172 [==============================] - ETA: 0s - loss: 0.9766 - acc: 0.6895"
     ]
    },
    {
     "name": "stderr",
     "output_type": "stream",
     "text": [
      "WARNING:absl:Found untraced functions such as gru_cell_6_layer_call_fn, gru_cell_6_layer_call_and_return_conditional_losses while saving (showing 2 of 2). These functions will not be directly callable after loading.\n"
     ]
    },
    {
     "name": "stdout",
     "output_type": "stream",
     "text": [
      "INFO:tensorflow:Assets written to: ./models\\NLP_CHAR_PROG\\assets\n"
     ]
    },
    {
     "name": "stderr",
     "output_type": "stream",
     "text": [
      "INFO:tensorflow:Assets written to: ./models\\NLP_CHAR_PROG\\assets\n"
     ]
    },
    {
     "name": "stdout",
     "output_type": "stream",
     "text": [
      "172/172 [==============================] - 6s 33ms/step - loss: 0.9766 - acc: 0.6895 - lr: 0.0010\n",
      "Epoch 15/500\n",
      "170/172 [============================>.] - ETA: 0s - loss: 0.9264 - acc: 0.7055"
     ]
    },
    {
     "name": "stderr",
     "output_type": "stream",
     "text": [
      "WARNING:absl:Found untraced functions such as gru_cell_6_layer_call_fn, gru_cell_6_layer_call_and_return_conditional_losses while saving (showing 2 of 2). These functions will not be directly callable after loading.\n"
     ]
    },
    {
     "name": "stdout",
     "output_type": "stream",
     "text": [
      "INFO:tensorflow:Assets written to: ./models\\NLP_CHAR_PROG\\assets\n"
     ]
    },
    {
     "name": "stderr",
     "output_type": "stream",
     "text": [
      "INFO:tensorflow:Assets written to: ./models\\NLP_CHAR_PROG\\assets\n"
     ]
    },
    {
     "name": "stdout",
     "output_type": "stream",
     "text": [
      "172/172 [==============================] - 6s 32ms/step - loss: 0.9268 - acc: 0.7053 - lr: 0.0010\n",
      "Epoch 16/500\n",
      "172/172 [==============================] - ETA: 0s - loss: 0.8747 - acc: 0.7221"
     ]
    },
    {
     "name": "stderr",
     "output_type": "stream",
     "text": [
      "WARNING:absl:Found untraced functions such as gru_cell_6_layer_call_fn, gru_cell_6_layer_call_and_return_conditional_losses while saving (showing 2 of 2). These functions will not be directly callable after loading.\n"
     ]
    },
    {
     "name": "stdout",
     "output_type": "stream",
     "text": [
      "INFO:tensorflow:Assets written to: ./models\\NLP_CHAR_PROG\\assets\n"
     ]
    },
    {
     "name": "stderr",
     "output_type": "stream",
     "text": [
      "INFO:tensorflow:Assets written to: ./models\\NLP_CHAR_PROG\\assets\n"
     ]
    },
    {
     "name": "stdout",
     "output_type": "stream",
     "text": [
      "172/172 [==============================] - 6s 33ms/step - loss: 0.8747 - acc: 0.7221 - lr: 0.0010\n",
      "Epoch 17/500\n",
      "170/172 [============================>.] - ETA: 0s - loss: 0.8224 - acc: 0.7389"
     ]
    },
    {
     "name": "stderr",
     "output_type": "stream",
     "text": [
      "WARNING:absl:Found untraced functions such as gru_cell_6_layer_call_fn, gru_cell_6_layer_call_and_return_conditional_losses while saving (showing 2 of 2). These functions will not be directly callable after loading.\n"
     ]
    },
    {
     "name": "stdout",
     "output_type": "stream",
     "text": [
      "INFO:tensorflow:Assets written to: ./models\\NLP_CHAR_PROG\\assets\n"
     ]
    },
    {
     "name": "stderr",
     "output_type": "stream",
     "text": [
      "INFO:tensorflow:Assets written to: ./models\\NLP_CHAR_PROG\\assets\n"
     ]
    },
    {
     "name": "stdout",
     "output_type": "stream",
     "text": [
      "172/172 [==============================] - 6s 32ms/step - loss: 0.8229 - acc: 0.7387 - lr: 0.0010\n",
      "Epoch 18/500\n",
      "172/172 [==============================] - ETA: 0s - loss: 0.7716 - acc: 0.7555"
     ]
    },
    {
     "name": "stderr",
     "output_type": "stream",
     "text": [
      "WARNING:absl:Found untraced functions such as gru_cell_6_layer_call_fn, gru_cell_6_layer_call_and_return_conditional_losses while saving (showing 2 of 2). These functions will not be directly callable after loading.\n"
     ]
    },
    {
     "name": "stdout",
     "output_type": "stream",
     "text": [
      "INFO:tensorflow:Assets written to: ./models\\NLP_CHAR_PROG\\assets\n"
     ]
    },
    {
     "name": "stderr",
     "output_type": "stream",
     "text": [
      "INFO:tensorflow:Assets written to: ./models\\NLP_CHAR_PROG\\assets\n"
     ]
    },
    {
     "name": "stdout",
     "output_type": "stream",
     "text": [
      "172/172 [==============================] - 6s 32ms/step - loss: 0.7716 - acc: 0.7555 - lr: 0.0010\n",
      "Epoch 19/500\n",
      "172/172 [==============================] - ETA: 0s - loss: 0.7243 - acc: 0.7705"
     ]
    },
    {
     "name": "stderr",
     "output_type": "stream",
     "text": [
      "WARNING:absl:Found untraced functions such as gru_cell_6_layer_call_fn, gru_cell_6_layer_call_and_return_conditional_losses while saving (showing 2 of 2). These functions will not be directly callable after loading.\n"
     ]
    },
    {
     "name": "stdout",
     "output_type": "stream",
     "text": [
      "INFO:tensorflow:Assets written to: ./models\\NLP_CHAR_PROG\\assets\n"
     ]
    },
    {
     "name": "stderr",
     "output_type": "stream",
     "text": [
      "INFO:tensorflow:Assets written to: ./models\\NLP_CHAR_PROG\\assets\n"
     ]
    },
    {
     "name": "stdout",
     "output_type": "stream",
     "text": [
      "172/172 [==============================] - 6s 33ms/step - loss: 0.7243 - acc: 0.7705 - lr: 0.0010\n",
      "Epoch 20/500\n",
      "170/172 [============================>.] - ETA: 0s - loss: 0.6797 - acc: 0.7855"
     ]
    },
    {
     "name": "stderr",
     "output_type": "stream",
     "text": [
      "WARNING:absl:Found untraced functions such as gru_cell_6_layer_call_fn, gru_cell_6_layer_call_and_return_conditional_losses while saving (showing 2 of 2). These functions will not be directly callable after loading.\n"
     ]
    },
    {
     "name": "stdout",
     "output_type": "stream",
     "text": [
      "INFO:tensorflow:Assets written to: ./models\\NLP_CHAR_PROG\\assets\n"
     ]
    },
    {
     "name": "stderr",
     "output_type": "stream",
     "text": [
      "INFO:tensorflow:Assets written to: ./models\\NLP_CHAR_PROG\\assets\n"
     ]
    },
    {
     "name": "stdout",
     "output_type": "stream",
     "text": [
      "172/172 [==============================] - 6s 32ms/step - loss: 0.6802 - acc: 0.7852 - lr: 0.0010\n",
      "Epoch 21/500\n",
      "171/172 [============================>.] - ETA: 0s - loss: 0.6413 - acc: 0.7976"
     ]
    },
    {
     "name": "stderr",
     "output_type": "stream",
     "text": [
      "WARNING:absl:Found untraced functions such as gru_cell_6_layer_call_fn, gru_cell_6_layer_call_and_return_conditional_losses while saving (showing 2 of 2). These functions will not be directly callable after loading.\n"
     ]
    },
    {
     "name": "stdout",
     "output_type": "stream",
     "text": [
      "INFO:tensorflow:Assets written to: ./models\\NLP_CHAR_PROG\\assets\n"
     ]
    },
    {
     "name": "stderr",
     "output_type": "stream",
     "text": [
      "INFO:tensorflow:Assets written to: ./models\\NLP_CHAR_PROG\\assets\n"
     ]
    },
    {
     "name": "stdout",
     "output_type": "stream",
     "text": [
      "172/172 [==============================] - 6s 34ms/step - loss: 0.6416 - acc: 0.7975 - lr: 0.0010\n",
      "Epoch 22/500\n",
      "172/172 [==============================] - ETA: 0s - loss: 0.6072 - acc: 0.8084"
     ]
    },
    {
     "name": "stderr",
     "output_type": "stream",
     "text": [
      "WARNING:absl:Found untraced functions such as gru_cell_6_layer_call_fn, gru_cell_6_layer_call_and_return_conditional_losses while saving (showing 2 of 2). These functions will not be directly callable after loading.\n"
     ]
    },
    {
     "name": "stdout",
     "output_type": "stream",
     "text": [
      "INFO:tensorflow:Assets written to: ./models\\NLP_CHAR_PROG\\assets\n"
     ]
    },
    {
     "name": "stderr",
     "output_type": "stream",
     "text": [
      "INFO:tensorflow:Assets written to: ./models\\NLP_CHAR_PROG\\assets\n"
     ]
    },
    {
     "name": "stdout",
     "output_type": "stream",
     "text": [
      "172/172 [==============================] - 6s 32ms/step - loss: 0.6072 - acc: 0.8084 - lr: 0.0010\n",
      "Epoch 23/500\n",
      "171/172 [============================>.] - ETA: 0s - loss: 0.5762 - acc: 0.8181"
     ]
    },
    {
     "name": "stderr",
     "output_type": "stream",
     "text": [
      "WARNING:absl:Found untraced functions such as gru_cell_6_layer_call_fn, gru_cell_6_layer_call_and_return_conditional_losses while saving (showing 2 of 2). These functions will not be directly callable after loading.\n"
     ]
    },
    {
     "name": "stdout",
     "output_type": "stream",
     "text": [
      "INFO:tensorflow:Assets written to: ./models\\NLP_CHAR_PROG\\assets\n"
     ]
    },
    {
     "name": "stderr",
     "output_type": "stream",
     "text": [
      "INFO:tensorflow:Assets written to: ./models\\NLP_CHAR_PROG\\assets\n"
     ]
    },
    {
     "name": "stdout",
     "output_type": "stream",
     "text": [
      "172/172 [==============================] - 6s 32ms/step - loss: 0.5765 - acc: 0.8180 - lr: 0.0010\n",
      "Epoch 24/500\n",
      "169/172 [============================>.] - ETA: 0s - loss: 0.5502 - acc: 0.8256"
     ]
    },
    {
     "name": "stderr",
     "output_type": "stream",
     "text": [
      "WARNING:absl:Found untraced functions such as gru_cell_6_layer_call_fn, gru_cell_6_layer_call_and_return_conditional_losses while saving (showing 2 of 2). These functions will not be directly callable after loading.\n"
     ]
    },
    {
     "name": "stdout",
     "output_type": "stream",
     "text": [
      "INFO:tensorflow:Assets written to: ./models\\NLP_CHAR_PROG\\assets\n"
     ]
    },
    {
     "name": "stderr",
     "output_type": "stream",
     "text": [
      "INFO:tensorflow:Assets written to: ./models\\NLP_CHAR_PROG\\assets\n"
     ]
    },
    {
     "name": "stdout",
     "output_type": "stream",
     "text": [
      "172/172 [==============================] - 6s 33ms/step - loss: 0.5511 - acc: 0.8252 - lr: 0.0010\n",
      "Epoch 25/500\n",
      "170/172 [============================>.] - ETA: 0s - loss: 0.5298 - acc: 0.8314"
     ]
    },
    {
     "name": "stderr",
     "output_type": "stream",
     "text": [
      "WARNING:absl:Found untraced functions such as gru_cell_6_layer_call_fn, gru_cell_6_layer_call_and_return_conditional_losses while saving (showing 2 of 2). These functions will not be directly callable after loading.\n"
     ]
    },
    {
     "name": "stdout",
     "output_type": "stream",
     "text": [
      "INFO:tensorflow:Assets written to: ./models\\NLP_CHAR_PROG\\assets\n"
     ]
    },
    {
     "name": "stderr",
     "output_type": "stream",
     "text": [
      "INFO:tensorflow:Assets written to: ./models\\NLP_CHAR_PROG\\assets\n"
     ]
    },
    {
     "name": "stdout",
     "output_type": "stream",
     "text": [
      "172/172 [==============================] - 6s 32ms/step - loss: 0.5306 - acc: 0.8311 - lr: 0.0010\n",
      "Epoch 26/500\n",
      "172/172 [==============================] - ETA: 0s - loss: 0.5141 - acc: 0.8358"
     ]
    },
    {
     "name": "stderr",
     "output_type": "stream",
     "text": [
      "WARNING:absl:Found untraced functions such as gru_cell_6_layer_call_fn, gru_cell_6_layer_call_and_return_conditional_losses while saving (showing 2 of 2). These functions will not be directly callable after loading.\n"
     ]
    },
    {
     "name": "stdout",
     "output_type": "stream",
     "text": [
      "INFO:tensorflow:Assets written to: ./models\\NLP_CHAR_PROG\\assets\n"
     ]
    },
    {
     "name": "stderr",
     "output_type": "stream",
     "text": [
      "INFO:tensorflow:Assets written to: ./models\\NLP_CHAR_PROG\\assets\n"
     ]
    },
    {
     "name": "stdout",
     "output_type": "stream",
     "text": [
      "172/172 [==============================] - 6s 33ms/step - loss: 0.5141 - acc: 0.8358 - lr: 0.0010\n",
      "Epoch 27/500\n",
      "171/172 [============================>.] - ETA: 0s - loss: 0.4958 - acc: 0.8415"
     ]
    },
    {
     "name": "stderr",
     "output_type": "stream",
     "text": [
      "WARNING:absl:Found untraced functions such as gru_cell_6_layer_call_fn, gru_cell_6_layer_call_and_return_conditional_losses while saving (showing 2 of 2). These functions will not be directly callable after loading.\n"
     ]
    },
    {
     "name": "stdout",
     "output_type": "stream",
     "text": [
      "INFO:tensorflow:Assets written to: ./models\\NLP_CHAR_PROG\\assets\n"
     ]
    },
    {
     "name": "stderr",
     "output_type": "stream",
     "text": [
      "INFO:tensorflow:Assets written to: ./models\\NLP_CHAR_PROG\\assets\n"
     ]
    },
    {
     "name": "stdout",
     "output_type": "stream",
     "text": [
      "172/172 [==============================] - 6s 32ms/step - loss: 0.4961 - acc: 0.8414 - lr: 0.0010\n",
      "Epoch 28/500\n",
      "171/172 [============================>.] - ETA: 0s - loss: 0.4820 - acc: 0.8452"
     ]
    },
    {
     "name": "stderr",
     "output_type": "stream",
     "text": [
      "WARNING:absl:Found untraced functions such as gru_cell_6_layer_call_fn, gru_cell_6_layer_call_and_return_conditional_losses while saving (showing 2 of 2). These functions will not be directly callable after loading.\n"
     ]
    },
    {
     "name": "stdout",
     "output_type": "stream",
     "text": [
      "INFO:tensorflow:Assets written to: ./models\\NLP_CHAR_PROG\\assets\n"
     ]
    },
    {
     "name": "stderr",
     "output_type": "stream",
     "text": [
      "INFO:tensorflow:Assets written to: ./models\\NLP_CHAR_PROG\\assets\n"
     ]
    },
    {
     "name": "stdout",
     "output_type": "stream",
     "text": [
      "172/172 [==============================] - 6s 32ms/step - loss: 0.4823 - acc: 0.8450 - lr: 0.0010\n",
      "Epoch 29/500\n",
      "170/172 [============================>.] - ETA: 0s - loss: 0.4741 - acc: 0.8469"
     ]
    },
    {
     "name": "stderr",
     "output_type": "stream",
     "text": [
      "WARNING:absl:Found untraced functions such as gru_cell_6_layer_call_fn, gru_cell_6_layer_call_and_return_conditional_losses while saving (showing 2 of 2). These functions will not be directly callable after loading.\n"
     ]
    },
    {
     "name": "stdout",
     "output_type": "stream",
     "text": [
      "INFO:tensorflow:Assets written to: ./models\\NLP_CHAR_PROG\\assets\n"
     ]
    },
    {
     "name": "stderr",
     "output_type": "stream",
     "text": [
      "INFO:tensorflow:Assets written to: ./models\\NLP_CHAR_PROG\\assets\n"
     ]
    },
    {
     "name": "stdout",
     "output_type": "stream",
     "text": [
      "172/172 [==============================] - 6s 33ms/step - loss: 0.4749 - acc: 0.8466 - lr: 0.0010\n",
      "Epoch 30/500\n",
      "170/172 [============================>.] - ETA: 0s - loss: 0.4664 - acc: 0.8481"
     ]
    },
    {
     "name": "stderr",
     "output_type": "stream",
     "text": [
      "WARNING:absl:Found untraced functions such as gru_cell_6_layer_call_fn, gru_cell_6_layer_call_and_return_conditional_losses while saving (showing 2 of 2). These functions will not be directly callable after loading.\n"
     ]
    },
    {
     "name": "stdout",
     "output_type": "stream",
     "text": [
      "INFO:tensorflow:Assets written to: ./models\\NLP_CHAR_PROG\\assets\n"
     ]
    },
    {
     "name": "stderr",
     "output_type": "stream",
     "text": [
      "INFO:tensorflow:Assets written to: ./models\\NLP_CHAR_PROG\\assets\n"
     ]
    },
    {
     "name": "stdout",
     "output_type": "stream",
     "text": [
      "172/172 [==============================] - 6s 32ms/step - loss: 0.4671 - acc: 0.8479 - lr: 0.0010\n",
      "Epoch 31/500\n",
      "170/172 [============================>.] - ETA: 0s - loss: 0.4563 - acc: 0.8513"
     ]
    },
    {
     "name": "stderr",
     "output_type": "stream",
     "text": [
      "WARNING:absl:Found untraced functions such as gru_cell_6_layer_call_fn, gru_cell_6_layer_call_and_return_conditional_losses while saving (showing 2 of 2). These functions will not be directly callable after loading.\n"
     ]
    },
    {
     "name": "stdout",
     "output_type": "stream",
     "text": [
      "INFO:tensorflow:Assets written to: ./models\\NLP_CHAR_PROG\\assets\n"
     ]
    },
    {
     "name": "stderr",
     "output_type": "stream",
     "text": [
      "INFO:tensorflow:Assets written to: ./models\\NLP_CHAR_PROG\\assets\n"
     ]
    },
    {
     "name": "stdout",
     "output_type": "stream",
     "text": [
      "172/172 [==============================] - 6s 33ms/step - loss: 0.4570 - acc: 0.8510 - lr: 0.0010\n",
      "Epoch 32/500\n",
      "170/172 [============================>.] - ETA: 0s - loss: 0.4495 - acc: 0.8530"
     ]
    },
    {
     "name": "stderr",
     "output_type": "stream",
     "text": [
      "WARNING:absl:Found untraced functions such as gru_cell_6_layer_call_fn, gru_cell_6_layer_call_and_return_conditional_losses while saving (showing 2 of 2). These functions will not be directly callable after loading.\n"
     ]
    },
    {
     "name": "stdout",
     "output_type": "stream",
     "text": [
      "INFO:tensorflow:Assets written to: ./models\\NLP_CHAR_PROG\\assets\n"
     ]
    },
    {
     "name": "stderr",
     "output_type": "stream",
     "text": [
      "INFO:tensorflow:Assets written to: ./models\\NLP_CHAR_PROG\\assets\n"
     ]
    },
    {
     "name": "stdout",
     "output_type": "stream",
     "text": [
      "172/172 [==============================] - 6s 32ms/step - loss: 0.4501 - acc: 0.8528 - lr: 0.0010\n",
      "Epoch 33/500\n",
      "172/172 [==============================] - ETA: 0s - loss: 0.4411 - acc: 0.8556"
     ]
    },
    {
     "name": "stderr",
     "output_type": "stream",
     "text": [
      "WARNING:absl:Found untraced functions such as gru_cell_6_layer_call_fn, gru_cell_6_layer_call_and_return_conditional_losses while saving (showing 2 of 2). These functions will not be directly callable after loading.\n"
     ]
    },
    {
     "name": "stdout",
     "output_type": "stream",
     "text": [
      "INFO:tensorflow:Assets written to: ./models\\NLP_CHAR_PROG\\assets\n"
     ]
    },
    {
     "name": "stderr",
     "output_type": "stream",
     "text": [
      "INFO:tensorflow:Assets written to: ./models\\NLP_CHAR_PROG\\assets\n"
     ]
    },
    {
     "name": "stdout",
     "output_type": "stream",
     "text": [
      "172/172 [==============================] - 6s 32ms/step - loss: 0.4411 - acc: 0.8556 - lr: 0.0010\n",
      "Epoch 34/500\n",
      "172/172 [==============================] - 3s 17ms/step - loss: 0.4397 - acc: 0.8551 - lr: 0.0010\n",
      "Epoch 35/500\n",
      "170/172 [============================>.] - ETA: 0s - loss: 0.4353 - acc: 0.8564"
     ]
    },
    {
     "name": "stderr",
     "output_type": "stream",
     "text": [
      "WARNING:absl:Found untraced functions such as gru_cell_6_layer_call_fn, gru_cell_6_layer_call_and_return_conditional_losses while saving (showing 2 of 2). These functions will not be directly callable after loading.\n"
     ]
    },
    {
     "name": "stdout",
     "output_type": "stream",
     "text": [
      "INFO:tensorflow:Assets written to: ./models\\NLP_CHAR_PROG\\assets\n"
     ]
    },
    {
     "name": "stderr",
     "output_type": "stream",
     "text": [
      "INFO:tensorflow:Assets written to: ./models\\NLP_CHAR_PROG\\assets\n"
     ]
    },
    {
     "name": "stdout",
     "output_type": "stream",
     "text": [
      "172/172 [==============================] - 6s 33ms/step - loss: 0.4360 - acc: 0.8561 - lr: 0.0010\n",
      "Epoch 36/500\n",
      "172/172 [==============================] - ETA: 0s - loss: 0.4338 - acc: 0.8565"
     ]
    },
    {
     "name": "stderr",
     "output_type": "stream",
     "text": [
      "WARNING:absl:Found untraced functions such as gru_cell_6_layer_call_fn, gru_cell_6_layer_call_and_return_conditional_losses while saving (showing 2 of 2). These functions will not be directly callable after loading.\n"
     ]
    },
    {
     "name": "stdout",
     "output_type": "stream",
     "text": [
      "INFO:tensorflow:Assets written to: ./models\\NLP_CHAR_PROG\\assets\n"
     ]
    },
    {
     "name": "stderr",
     "output_type": "stream",
     "text": [
      "INFO:tensorflow:Assets written to: ./models\\NLP_CHAR_PROG\\assets\n"
     ]
    },
    {
     "name": "stdout",
     "output_type": "stream",
     "text": [
      "172/172 [==============================] - 6s 32ms/step - loss: 0.4338 - acc: 0.8565 - lr: 0.0010\n",
      "Epoch 37/500\n",
      "172/172 [==============================] - 4s 17ms/step - loss: 0.4338 - acc: 0.8557 - lr: 0.0010\n",
      "Epoch 38/500\n",
      "171/172 [============================>.] - ETA: 0s - loss: 0.4283 - acc: 0.8574"
     ]
    },
    {
     "name": "stderr",
     "output_type": "stream",
     "text": [
      "WARNING:absl:Found untraced functions such as gru_cell_6_layer_call_fn, gru_cell_6_layer_call_and_return_conditional_losses while saving (showing 2 of 2). These functions will not be directly callable after loading.\n"
     ]
    },
    {
     "name": "stdout",
     "output_type": "stream",
     "text": [
      "INFO:tensorflow:Assets written to: ./models\\NLP_CHAR_PROG\\assets\n"
     ]
    },
    {
     "name": "stderr",
     "output_type": "stream",
     "text": [
      "INFO:tensorflow:Assets written to: ./models\\NLP_CHAR_PROG\\assets\n"
     ]
    },
    {
     "name": "stdout",
     "output_type": "stream",
     "text": [
      "172/172 [==============================] - 6s 32ms/step - loss: 0.4287 - acc: 0.8573 - lr: 0.0010\n",
      "Epoch 39/500\n",
      "171/172 [============================>.] - ETA: 0s - loss: 0.4246 - acc: 0.8586"
     ]
    },
    {
     "name": "stderr",
     "output_type": "stream",
     "text": [
      "WARNING:absl:Found untraced functions such as gru_cell_6_layer_call_fn, gru_cell_6_layer_call_and_return_conditional_losses while saving (showing 2 of 2). These functions will not be directly callable after loading.\n"
     ]
    },
    {
     "name": "stdout",
     "output_type": "stream",
     "text": [
      "INFO:tensorflow:Assets written to: ./models\\NLP_CHAR_PROG\\assets\n"
     ]
    },
    {
     "name": "stderr",
     "output_type": "stream",
     "text": [
      "INFO:tensorflow:Assets written to: ./models\\NLP_CHAR_PROG\\assets\n"
     ]
    },
    {
     "name": "stdout",
     "output_type": "stream",
     "text": [
      "172/172 [==============================] - 6s 32ms/step - loss: 0.4249 - acc: 0.8584 - lr: 0.0010\n",
      "Epoch 40/500\n",
      "172/172 [==============================] - 4s 17ms/step - loss: 0.4246 - acc: 0.8579 - lr: 0.0010\n",
      "Epoch 41/500\n",
      "172/172 [==============================] - 3s 16ms/step - loss: 0.4248 - acc: 0.8579 - lr: 0.0010\n",
      "Epoch 42/500\n",
      "172/172 [==============================] - 3s 16ms/step - loss: 0.4258 - acc: 0.8570 - lr: 0.0010\n",
      "Epoch 43/500\n",
      "172/172 [==============================] - 3s 16ms/step - loss: 0.4268 - acc: 0.8561 - lr: 0.0010\n",
      "Epoch 44/500\n",
      "169/172 [============================>.] - ETA: 0s - loss: 0.4183 - acc: 0.8590"
     ]
    },
    {
     "name": "stderr",
     "output_type": "stream",
     "text": [
      "WARNING:absl:Found untraced functions such as gru_cell_6_layer_call_fn, gru_cell_6_layer_call_and_return_conditional_losses while saving (showing 2 of 2). These functions will not be directly callable after loading.\n"
     ]
    },
    {
     "name": "stdout",
     "output_type": "stream",
     "text": [
      "INFO:tensorflow:Assets written to: ./models\\NLP_CHAR_PROG\\assets\n"
     ]
    },
    {
     "name": "stderr",
     "output_type": "stream",
     "text": [
      "INFO:tensorflow:Assets written to: ./models\\NLP_CHAR_PROG\\assets\n"
     ]
    },
    {
     "name": "stdout",
     "output_type": "stream",
     "text": [
      "172/172 [==============================] - 6s 32ms/step - loss: 0.4193 - acc: 0.8586 - lr: 0.0010\n",
      "Epoch 45/500\n",
      "169/172 [============================>.] - ETA: 0s - loss: 0.4167 - acc: 0.8596"
     ]
    },
    {
     "name": "stderr",
     "output_type": "stream",
     "text": [
      "WARNING:absl:Found untraced functions such as gru_cell_6_layer_call_fn, gru_cell_6_layer_call_and_return_conditional_losses while saving (showing 2 of 2). These functions will not be directly callable after loading.\n"
     ]
    },
    {
     "name": "stdout",
     "output_type": "stream",
     "text": [
      "INFO:tensorflow:Assets written to: ./models\\NLP_CHAR_PROG\\assets\n"
     ]
    },
    {
     "name": "stderr",
     "output_type": "stream",
     "text": [
      "INFO:tensorflow:Assets written to: ./models\\NLP_CHAR_PROG\\assets\n"
     ]
    },
    {
     "name": "stdout",
     "output_type": "stream",
     "text": [
      "172/172 [==============================] - 6s 33ms/step - loss: 0.4178 - acc: 0.8592 - lr: 0.0010\n",
      "Epoch 46/500\n",
      "172/172 [==============================] - 4s 17ms/step - loss: 0.4211 - acc: 0.8579 - lr: 0.0010\n",
      "Epoch 47/500\n",
      "172/172 [==============================] - 3s 16ms/step - loss: 0.4240 - acc: 0.8563 - lr: 0.0010\n",
      "Epoch 48/500\n",
      "172/172 [==============================] - 3s 16ms/step - loss: 0.4237 - acc: 0.8564 - lr: 0.0010\n",
      "Epoch 49/500\n",
      "172/172 [==============================] - 3s 16ms/step - loss: 0.4263 - acc: 0.8551 - lr: 0.0010\n",
      "Epoch 50/500\n",
      "172/172 [==============================] - 3s 16ms/step - loss: 0.4303 - acc: 0.8536 - lr: 0.0010\n",
      "Epoch 51/500\n",
      "172/172 [==============================] - 3s 16ms/step - loss: 0.4328 - acc: 0.8530 - lr: 0.0010\n",
      "Epoch 52/500\n",
      "172/172 [==============================] - 3s 16ms/step - loss: 0.4347 - acc: 0.8524 - lr: 0.0010\n",
      "Epoch 53/500\n",
      "172/172 [==============================] - 3s 16ms/step - loss: 0.4297 - acc: 0.8540 - lr: 0.0010\n",
      "Epoch 54/500\n",
      "172/172 [==============================] - 3s 16ms/step - loss: 0.4357 - acc: 0.8513 - lr: 0.0010\n",
      "Epoch 55/500\n",
      "172/172 [==============================] - 3s 16ms/step - loss: 0.4414 - acc: 0.8495 - lr: 0.0010\n",
      "Epoch 56/500\n",
      "169/172 [============================>.] - ETA: 0s - loss: 0.3261 - acc: 0.8935"
     ]
    },
    {
     "name": "stderr",
     "output_type": "stream",
     "text": [
      "WARNING:absl:Found untraced functions such as gru_cell_6_layer_call_fn, gru_cell_6_layer_call_and_return_conditional_losses while saving (showing 2 of 2). These functions will not be directly callable after loading.\n"
     ]
    },
    {
     "name": "stdout",
     "output_type": "stream",
     "text": [
      "INFO:tensorflow:Assets written to: ./models\\NLP_CHAR_PROG\\assets\n"
     ]
    },
    {
     "name": "stderr",
     "output_type": "stream",
     "text": [
      "INFO:tensorflow:Assets written to: ./models\\NLP_CHAR_PROG\\assets\n"
     ]
    },
    {
     "name": "stdout",
     "output_type": "stream",
     "text": [
      "172/172 [==============================] - 6s 32ms/step - loss: 0.3254 - acc: 0.8938 - lr: 1.0000e-04\n",
      "Epoch 57/500\n",
      "169/172 [============================>.] - ETA: 0s - loss: 0.2352 - acc: 0.9347"
     ]
    },
    {
     "name": "stderr",
     "output_type": "stream",
     "text": [
      "WARNING:absl:Found untraced functions such as gru_cell_6_layer_call_fn, gru_cell_6_layer_call_and_return_conditional_losses while saving (showing 2 of 2). These functions will not be directly callable after loading.\n"
     ]
    },
    {
     "name": "stdout",
     "output_type": "stream",
     "text": [
      "INFO:tensorflow:Assets written to: ./models\\NLP_CHAR_PROG\\assets\n"
     ]
    },
    {
     "name": "stderr",
     "output_type": "stream",
     "text": [
      "INFO:tensorflow:Assets written to: ./models\\NLP_CHAR_PROG\\assets\n"
     ]
    },
    {
     "name": "stdout",
     "output_type": "stream",
     "text": [
      "172/172 [==============================] - 6s 34ms/step - loss: 0.2351 - acc: 0.9346 - lr: 1.0000e-04\n",
      "Epoch 58/500\n",
      "172/172 [==============================] - ETA: 0s - loss: 0.1989 - acc: 0.9522"
     ]
    },
    {
     "name": "stderr",
     "output_type": "stream",
     "text": [
      "WARNING:absl:Found untraced functions such as gru_cell_6_layer_call_fn, gru_cell_6_layer_call_and_return_conditional_losses while saving (showing 2 of 2). These functions will not be directly callable after loading.\n"
     ]
    },
    {
     "name": "stdout",
     "output_type": "stream",
     "text": [
      "INFO:tensorflow:Assets written to: ./models\\NLP_CHAR_PROG\\assets\n"
     ]
    },
    {
     "name": "stderr",
     "output_type": "stream",
     "text": [
      "INFO:tensorflow:Assets written to: ./models\\NLP_CHAR_PROG\\assets\n"
     ]
    },
    {
     "name": "stdout",
     "output_type": "stream",
     "text": [
      "172/172 [==============================] - 6s 32ms/step - loss: 0.1989 - acc: 0.9522 - lr: 1.0000e-04\n",
      "Epoch 59/500\n",
      "172/172 [==============================] - ETA: 0s - loss: 0.1781 - acc: 0.9617"
     ]
    },
    {
     "name": "stderr",
     "output_type": "stream",
     "text": [
      "WARNING:absl:Found untraced functions such as gru_cell_6_layer_call_fn, gru_cell_6_layer_call_and_return_conditional_losses while saving (showing 2 of 2). These functions will not be directly callable after loading.\n"
     ]
    },
    {
     "name": "stdout",
     "output_type": "stream",
     "text": [
      "INFO:tensorflow:Assets written to: ./models\\NLP_CHAR_PROG\\assets\n"
     ]
    },
    {
     "name": "stderr",
     "output_type": "stream",
     "text": [
      "INFO:tensorflow:Assets written to: ./models\\NLP_CHAR_PROG\\assets\n"
     ]
    },
    {
     "name": "stdout",
     "output_type": "stream",
     "text": [
      "172/172 [==============================] - 6s 33ms/step - loss: 0.1781 - acc: 0.9617 - lr: 1.0000e-04\n",
      "Epoch 60/500\n",
      "171/172 [============================>.] - ETA: 0s - loss: 0.1636 - acc: 0.9670"
     ]
    },
    {
     "name": "stderr",
     "output_type": "stream",
     "text": [
      "WARNING:absl:Found untraced functions such as gru_cell_6_layer_call_fn, gru_cell_6_layer_call_and_return_conditional_losses while saving (showing 2 of 2). These functions will not be directly callable after loading.\n"
     ]
    },
    {
     "name": "stdout",
     "output_type": "stream",
     "text": [
      "INFO:tensorflow:Assets written to: ./models\\NLP_CHAR_PROG\\assets\n"
     ]
    },
    {
     "name": "stderr",
     "output_type": "stream",
     "text": [
      "INFO:tensorflow:Assets written to: ./models\\NLP_CHAR_PROG\\assets\n"
     ]
    },
    {
     "name": "stdout",
     "output_type": "stream",
     "text": [
      "172/172 [==============================] - 6s 32ms/step - loss: 0.1636 - acc: 0.9670 - lr: 1.0000e-04\n",
      "Epoch 61/500\n",
      "169/172 [============================>.] - ETA: 0s - loss: 0.1528 - acc: 0.9704"
     ]
    },
    {
     "name": "stderr",
     "output_type": "stream",
     "text": [
      "WARNING:absl:Found untraced functions such as gru_cell_6_layer_call_fn, gru_cell_6_layer_call_and_return_conditional_losses while saving (showing 2 of 2). These functions will not be directly callable after loading.\n"
     ]
    },
    {
     "name": "stdout",
     "output_type": "stream",
     "text": [
      "INFO:tensorflow:Assets written to: ./models\\NLP_CHAR_PROG\\assets\n"
     ]
    },
    {
     "name": "stderr",
     "output_type": "stream",
     "text": [
      "INFO:tensorflow:Assets written to: ./models\\NLP_CHAR_PROG\\assets\n"
     ]
    },
    {
     "name": "stdout",
     "output_type": "stream",
     "text": [
      "172/172 [==============================] - 6s 32ms/step - loss: 0.1529 - acc: 0.9704 - lr: 1.0000e-04\n",
      "Epoch 62/500\n",
      "169/172 [============================>.] - ETA: 0s - loss: 0.1442 - acc: 0.9725"
     ]
    },
    {
     "name": "stderr",
     "output_type": "stream",
     "text": [
      "WARNING:absl:Found untraced functions such as gru_cell_6_layer_call_fn, gru_cell_6_layer_call_and_return_conditional_losses while saving (showing 2 of 2). These functions will not be directly callable after loading.\n"
     ]
    },
    {
     "name": "stdout",
     "output_type": "stream",
     "text": [
      "INFO:tensorflow:Assets written to: ./models\\NLP_CHAR_PROG\\assets\n"
     ]
    },
    {
     "name": "stderr",
     "output_type": "stream",
     "text": [
      "INFO:tensorflow:Assets written to: ./models\\NLP_CHAR_PROG\\assets\n"
     ]
    },
    {
     "name": "stdout",
     "output_type": "stream",
     "text": [
      "172/172 [==============================] - 6s 33ms/step - loss: 0.1443 - acc: 0.9724 - lr: 1.0000e-04\n",
      "Epoch 63/500\n",
      "171/172 [============================>.] - ETA: 0s - loss: 0.1374 - acc: 0.9736"
     ]
    },
    {
     "name": "stderr",
     "output_type": "stream",
     "text": [
      "WARNING:absl:Found untraced functions such as gru_cell_6_layer_call_fn, gru_cell_6_layer_call_and_return_conditional_losses while saving (showing 2 of 2). These functions will not be directly callable after loading.\n"
     ]
    },
    {
     "name": "stdout",
     "output_type": "stream",
     "text": [
      "INFO:tensorflow:Assets written to: ./models\\NLP_CHAR_PROG\\assets\n"
     ]
    },
    {
     "name": "stderr",
     "output_type": "stream",
     "text": [
      "INFO:tensorflow:Assets written to: ./models\\NLP_CHAR_PROG\\assets\n"
     ]
    },
    {
     "name": "stdout",
     "output_type": "stream",
     "text": [
      "172/172 [==============================] - 6s 32ms/step - loss: 0.1374 - acc: 0.9736 - lr: 1.0000e-04\n",
      "Epoch 64/500\n",
      "171/172 [============================>.] - ETA: 0s - loss: 0.1314 - acc: 0.9746"
     ]
    },
    {
     "name": "stderr",
     "output_type": "stream",
     "text": [
      "WARNING:absl:Found untraced functions such as gru_cell_6_layer_call_fn, gru_cell_6_layer_call_and_return_conditional_losses while saving (showing 2 of 2). These functions will not be directly callable after loading.\n"
     ]
    },
    {
     "name": "stdout",
     "output_type": "stream",
     "text": [
      "INFO:tensorflow:Assets written to: ./models\\NLP_CHAR_PROG\\assets\n"
     ]
    },
    {
     "name": "stderr",
     "output_type": "stream",
     "text": [
      "INFO:tensorflow:Assets written to: ./models\\NLP_CHAR_PROG\\assets\n"
     ]
    },
    {
     "name": "stdout",
     "output_type": "stream",
     "text": [
      "172/172 [==============================] - 6s 33ms/step - loss: 0.1314 - acc: 0.9746 - lr: 1.0000e-04\n",
      "Epoch 65/500\n",
      "170/172 [============================>.] - ETA: 0s - loss: 0.1263 - acc: 0.9753"
     ]
    },
    {
     "name": "stderr",
     "output_type": "stream",
     "text": [
      "WARNING:absl:Found untraced functions such as gru_cell_6_layer_call_fn, gru_cell_6_layer_call_and_return_conditional_losses while saving (showing 2 of 2). These functions will not be directly callable after loading.\n"
     ]
    },
    {
     "name": "stdout",
     "output_type": "stream",
     "text": [
      "INFO:tensorflow:Assets written to: ./models\\NLP_CHAR_PROG\\assets\n"
     ]
    },
    {
     "name": "stderr",
     "output_type": "stream",
     "text": [
      "INFO:tensorflow:Assets written to: ./models\\NLP_CHAR_PROG\\assets\n"
     ]
    },
    {
     "name": "stdout",
     "output_type": "stream",
     "text": [
      "172/172 [==============================] - 6s 32ms/step - loss: 0.1263 - acc: 0.9752 - lr: 1.0000e-04\n",
      "Epoch 66/500\n",
      "171/172 [============================>.] - ETA: 0s - loss: 0.1218 - acc: 0.9757"
     ]
    },
    {
     "name": "stderr",
     "output_type": "stream",
     "text": [
      "WARNING:absl:Found untraced functions such as gru_cell_6_layer_call_fn, gru_cell_6_layer_call_and_return_conditional_losses while saving (showing 2 of 2). These functions will not be directly callable after loading.\n"
     ]
    },
    {
     "name": "stdout",
     "output_type": "stream",
     "text": [
      "INFO:tensorflow:Assets written to: ./models\\NLP_CHAR_PROG\\assets\n"
     ]
    },
    {
     "name": "stderr",
     "output_type": "stream",
     "text": [
      "INFO:tensorflow:Assets written to: ./models\\NLP_CHAR_PROG\\assets\n"
     ]
    },
    {
     "name": "stdout",
     "output_type": "stream",
     "text": [
      "172/172 [==============================] - 6s 32ms/step - loss: 0.1219 - acc: 0.9756 - lr: 1.0000e-04\n",
      "Epoch 67/500\n",
      "172/172 [==============================] - ETA: 0s - loss: 0.1179 - acc: 0.9760"
     ]
    },
    {
     "name": "stderr",
     "output_type": "stream",
     "text": [
      "WARNING:absl:Found untraced functions such as gru_cell_6_layer_call_fn, gru_cell_6_layer_call_and_return_conditional_losses while saving (showing 2 of 2). These functions will not be directly callable after loading.\n"
     ]
    },
    {
     "name": "stdout",
     "output_type": "stream",
     "text": [
      "INFO:tensorflow:Assets written to: ./models\\NLP_CHAR_PROG\\assets\n"
     ]
    },
    {
     "name": "stderr",
     "output_type": "stream",
     "text": [
      "INFO:tensorflow:Assets written to: ./models\\NLP_CHAR_PROG\\assets\n"
     ]
    },
    {
     "name": "stdout",
     "output_type": "stream",
     "text": [
      "172/172 [==============================] - 6s 34ms/step - loss: 0.1179 - acc: 0.9760 - lr: 1.0000e-04\n",
      "Epoch 68/500\n",
      "172/172 [==============================] - ETA: 0s - loss: 0.1145 - acc: 0.9762"
     ]
    },
    {
     "name": "stderr",
     "output_type": "stream",
     "text": [
      "WARNING:absl:Found untraced functions such as gru_cell_6_layer_call_fn, gru_cell_6_layer_call_and_return_conditional_losses while saving (showing 2 of 2). These functions will not be directly callable after loading.\n"
     ]
    },
    {
     "name": "stdout",
     "output_type": "stream",
     "text": [
      "INFO:tensorflow:Assets written to: ./models\\NLP_CHAR_PROG\\assets\n"
     ]
    },
    {
     "name": "stderr",
     "output_type": "stream",
     "text": [
      "INFO:tensorflow:Assets written to: ./models\\NLP_CHAR_PROG\\assets\n"
     ]
    },
    {
     "name": "stdout",
     "output_type": "stream",
     "text": [
      "172/172 [==============================] - 6s 32ms/step - loss: 0.1145 - acc: 0.9762 - lr: 1.0000e-04\n",
      "Epoch 69/500\n",
      "169/172 [============================>.] - ETA: 0s - loss: 0.1113 - acc: 0.9764"
     ]
    },
    {
     "name": "stderr",
     "output_type": "stream",
     "text": [
      "WARNING:absl:Found untraced functions such as gru_cell_6_layer_call_fn, gru_cell_6_layer_call_and_return_conditional_losses while saving (showing 2 of 2). These functions will not be directly callable after loading.\n"
     ]
    },
    {
     "name": "stdout",
     "output_type": "stream",
     "text": [
      "INFO:tensorflow:Assets written to: ./models\\NLP_CHAR_PROG\\assets\n"
     ]
    },
    {
     "name": "stderr",
     "output_type": "stream",
     "text": [
      "INFO:tensorflow:Assets written to: ./models\\NLP_CHAR_PROG\\assets\n"
     ]
    },
    {
     "name": "stdout",
     "output_type": "stream",
     "text": [
      "172/172 [==============================] - 6s 34ms/step - loss: 0.1114 - acc: 0.9764 - lr: 1.0000e-04\n",
      "Epoch 70/500\n",
      "172/172 [==============================] - ETA: 0s - loss: 0.1086 - acc: 0.9765"
     ]
    },
    {
     "name": "stderr",
     "output_type": "stream",
     "text": [
      "WARNING:absl:Found untraced functions such as gru_cell_6_layer_call_fn, gru_cell_6_layer_call_and_return_conditional_losses while saving (showing 2 of 2). These functions will not be directly callable after loading.\n"
     ]
    },
    {
     "name": "stdout",
     "output_type": "stream",
     "text": [
      "INFO:tensorflow:Assets written to: ./models\\NLP_CHAR_PROG\\assets\n"
     ]
    },
    {
     "name": "stderr",
     "output_type": "stream",
     "text": [
      "INFO:tensorflow:Assets written to: ./models\\NLP_CHAR_PROG\\assets\n"
     ]
    },
    {
     "name": "stdout",
     "output_type": "stream",
     "text": [
      "172/172 [==============================] - 6s 32ms/step - loss: 0.1086 - acc: 0.9765 - lr: 1.0000e-04\n",
      "Epoch 71/500\n",
      "170/172 [============================>.] - ETA: 0s - loss: 0.1060 - acc: 0.9765"
     ]
    },
    {
     "name": "stderr",
     "output_type": "stream",
     "text": [
      "WARNING:absl:Found untraced functions such as gru_cell_6_layer_call_fn, gru_cell_6_layer_call_and_return_conditional_losses while saving (showing 2 of 2). These functions will not be directly callable after loading.\n"
     ]
    },
    {
     "name": "stdout",
     "output_type": "stream",
     "text": [
      "INFO:tensorflow:Assets written to: ./models\\NLP_CHAR_PROG\\assets\n"
     ]
    },
    {
     "name": "stderr",
     "output_type": "stream",
     "text": [
      "INFO:tensorflow:Assets written to: ./models\\NLP_CHAR_PROG\\assets\n"
     ]
    },
    {
     "name": "stdout",
     "output_type": "stream",
     "text": [
      "172/172 [==============================] - 6s 33ms/step - loss: 0.1061 - acc: 0.9765 - lr: 1.0000e-04\n",
      "Epoch 72/500\n",
      "169/172 [============================>.] - ETA: 0s - loss: 0.1037 - acc: 0.9766"
     ]
    },
    {
     "name": "stderr",
     "output_type": "stream",
     "text": [
      "WARNING:absl:Found untraced functions such as gru_cell_6_layer_call_fn, gru_cell_6_layer_call_and_return_conditional_losses while saving (showing 2 of 2). These functions will not be directly callable after loading.\n"
     ]
    },
    {
     "name": "stdout",
     "output_type": "stream",
     "text": [
      "INFO:tensorflow:Assets written to: ./models\\NLP_CHAR_PROG\\assets\n"
     ]
    },
    {
     "name": "stderr",
     "output_type": "stream",
     "text": [
      "INFO:tensorflow:Assets written to: ./models\\NLP_CHAR_PROG\\assets\n"
     ]
    },
    {
     "name": "stdout",
     "output_type": "stream",
     "text": [
      "172/172 [==============================] - 6s 32ms/step - loss: 0.1037 - acc: 0.9766 - lr: 1.0000e-04\n",
      "Epoch 73/500\n",
      "170/172 [============================>.] - ETA: 0s - loss: 0.1017 - acc: 0.9766"
     ]
    },
    {
     "name": "stderr",
     "output_type": "stream",
     "text": [
      "WARNING:absl:Found untraced functions such as gru_cell_6_layer_call_fn, gru_cell_6_layer_call_and_return_conditional_losses while saving (showing 2 of 2). These functions will not be directly callable after loading.\n"
     ]
    },
    {
     "name": "stdout",
     "output_type": "stream",
     "text": [
      "INFO:tensorflow:Assets written to: ./models\\NLP_CHAR_PROG\\assets\n"
     ]
    },
    {
     "name": "stderr",
     "output_type": "stream",
     "text": [
      "INFO:tensorflow:Assets written to: ./models\\NLP_CHAR_PROG\\assets\n"
     ]
    },
    {
     "name": "stdout",
     "output_type": "stream",
     "text": [
      "172/172 [==============================] - 6s 32ms/step - loss: 0.1017 - acc: 0.9766 - lr: 1.0000e-04\n",
      "Epoch 74/500\n",
      "171/172 [============================>.] - ETA: 0s - loss: 0.0998 - acc: 0.9766"
     ]
    },
    {
     "name": "stderr",
     "output_type": "stream",
     "text": [
      "WARNING:absl:Found untraced functions such as gru_cell_6_layer_call_fn, gru_cell_6_layer_call_and_return_conditional_losses while saving (showing 2 of 2). These functions will not be directly callable after loading.\n"
     ]
    },
    {
     "name": "stdout",
     "output_type": "stream",
     "text": [
      "INFO:tensorflow:Assets written to: ./models\\NLP_CHAR_PROG\\assets\n"
     ]
    },
    {
     "name": "stderr",
     "output_type": "stream",
     "text": [
      "INFO:tensorflow:Assets written to: ./models\\NLP_CHAR_PROG\\assets\n"
     ]
    },
    {
     "name": "stdout",
     "output_type": "stream",
     "text": [
      "172/172 [==============================] - 6s 33ms/step - loss: 0.0999 - acc: 0.9766 - lr: 1.0000e-04\n",
      "Epoch 75/500\n",
      "170/172 [============================>.] - ETA: 0s - loss: 0.0982 - acc: 0.9766"
     ]
    },
    {
     "name": "stderr",
     "output_type": "stream",
     "text": [
      "WARNING:absl:Found untraced functions such as gru_cell_6_layer_call_fn, gru_cell_6_layer_call_and_return_conditional_losses while saving (showing 2 of 2). These functions will not be directly callable after loading.\n"
     ]
    },
    {
     "name": "stdout",
     "output_type": "stream",
     "text": [
      "INFO:tensorflow:Assets written to: ./models\\NLP_CHAR_PROG\\assets\n"
     ]
    },
    {
     "name": "stderr",
     "output_type": "stream",
     "text": [
      "INFO:tensorflow:Assets written to: ./models\\NLP_CHAR_PROG\\assets\n"
     ]
    },
    {
     "name": "stdout",
     "output_type": "stream",
     "text": [
      "172/172 [==============================] - 6s 32ms/step - loss: 0.0982 - acc: 0.9766 - lr: 1.0000e-04\n",
      "Epoch 76/500\n",
      "172/172 [==============================] - 4s 17ms/step - loss: 0.0966 - acc: 0.9766 - lr: 1.0000e-04\n",
      "Epoch 77/500\n",
      "171/172 [============================>.] - ETA: 0s - loss: 0.0952 - acc: 0.9767"
     ]
    },
    {
     "name": "stderr",
     "output_type": "stream",
     "text": [
      "WARNING:absl:Found untraced functions such as gru_cell_6_layer_call_fn, gru_cell_6_layer_call_and_return_conditional_losses while saving (showing 2 of 2). These functions will not be directly callable after loading.\n"
     ]
    },
    {
     "name": "stdout",
     "output_type": "stream",
     "text": [
      "INFO:tensorflow:Assets written to: ./models\\NLP_CHAR_PROG\\assets\n"
     ]
    },
    {
     "name": "stderr",
     "output_type": "stream",
     "text": [
      "INFO:tensorflow:Assets written to: ./models\\NLP_CHAR_PROG\\assets\n"
     ]
    },
    {
     "name": "stdout",
     "output_type": "stream",
     "text": [
      "172/172 [==============================] - 6s 32ms/step - loss: 0.0952 - acc: 0.9767 - lr: 1.0000e-04\n",
      "Epoch 78/500\n",
      "172/172 [==============================] - 4s 17ms/step - loss: 0.0938 - acc: 0.9766 - lr: 1.0000e-04\n",
      "Epoch 79/500\n",
      "172/172 [==============================] - 3s 16ms/step - loss: 0.0926 - acc: 0.9766 - lr: 1.0000e-04\n",
      "Epoch 80/500\n",
      "172/172 [==============================] - 3s 16ms/step - loss: 0.0915 - acc: 0.9766 - lr: 1.0000e-04\n",
      "Epoch 81/500\n",
      "172/172 [==============================] - 3s 16ms/step - loss: 0.0904 - acc: 0.9766 - lr: 1.0000e-04\n",
      "Epoch 82/500\n",
      "172/172 [==============================] - 3s 16ms/step - loss: 0.0895 - acc: 0.9766 - lr: 1.0000e-04\n",
      "Epoch 83/500\n",
      "172/172 [==============================] - 3s 16ms/step - loss: 0.0885 - acc: 0.9765 - lr: 1.0000e-04\n",
      "Epoch 84/500\n",
      "169/172 [============================>.] - ETA: 0s - loss: 0.0843 - acc: 0.9778"
     ]
    },
    {
     "name": "stderr",
     "output_type": "stream",
     "text": [
      "WARNING:absl:Found untraced functions such as gru_cell_6_layer_call_fn, gru_cell_6_layer_call_and_return_conditional_losses while saving (showing 2 of 2). These functions will not be directly callable after loading.\n"
     ]
    },
    {
     "name": "stdout",
     "output_type": "stream",
     "text": [
      "INFO:tensorflow:Assets written to: ./models\\NLP_CHAR_PROG\\assets\n"
     ]
    },
    {
     "name": "stderr",
     "output_type": "stream",
     "text": [
      "INFO:tensorflow:Assets written to: ./models\\NLP_CHAR_PROG\\assets\n"
     ]
    },
    {
     "name": "stdout",
     "output_type": "stream",
     "text": [
      "172/172 [==============================] - 6s 31ms/step - loss: 0.0842 - acc: 0.9778 - lr: 1.0000e-05\n",
      "Epoch 85/500\n",
      "172/172 [==============================] - ETA: 0s - loss: 0.0829 - acc: 0.9778"
     ]
    },
    {
     "name": "stderr",
     "output_type": "stream",
     "text": [
      "WARNING:absl:Found untraced functions such as gru_cell_6_layer_call_fn, gru_cell_6_layer_call_and_return_conditional_losses while saving (showing 2 of 2). These functions will not be directly callable after loading.\n"
     ]
    },
    {
     "name": "stdout",
     "output_type": "stream",
     "text": [
      "INFO:tensorflow:Assets written to: ./models\\NLP_CHAR_PROG\\assets\n"
     ]
    },
    {
     "name": "stderr",
     "output_type": "stream",
     "text": [
      "INFO:tensorflow:Assets written to: ./models\\NLP_CHAR_PROG\\assets\n"
     ]
    },
    {
     "name": "stdout",
     "output_type": "stream",
     "text": [
      "172/172 [==============================] - 6s 32ms/step - loss: 0.0829 - acc: 0.9778 - lr: 1.0000e-05\n",
      "Epoch 86/500\n",
      "172/172 [==============================] - 4s 17ms/step - loss: 0.0823 - acc: 0.9778 - lr: 1.0000e-05\n",
      "Epoch 87/500\n",
      "172/172 [==============================] - 3s 16ms/step - loss: 0.0819 - acc: 0.9777 - lr: 1.0000e-05\n",
      "Epoch 88/500\n",
      "172/172 [==============================] - 4s 17ms/step - loss: 0.0816 - acc: 0.9777 - lr: 1.0000e-05\n",
      "Epoch 89/500\n",
      "172/172 [==============================] - 3s 16ms/step - loss: 0.0814 - acc: 0.9777 - lr: 1.0000e-05\n",
      "Epoch 90/500\n",
      "172/172 [==============================] - 3s 16ms/step - loss: 0.0812 - acc: 0.9776 - lr: 1.0000e-05\n",
      "Epoch 91/500\n",
      "172/172 [==============================] - 3s 16ms/step - loss: 0.0810 - acc: 0.9776 - lr: 1.0000e-05\n",
      "Epoch 92/500\n",
      "172/172 [==============================] - 3s 16ms/step - loss: 0.0809 - acc: 0.9775 - lr: 1.0000e-05\n",
      "Epoch 93/500\n",
      "172/172 [==============================] - 3s 16ms/step - loss: 0.0807 - acc: 0.9775 - lr: 1.0000e-05\n",
      "Epoch 94/500\n",
      "172/172 [==============================] - 3s 16ms/step - loss: 0.0806 - acc: 0.9774 - lr: 1.0000e-05\n",
      "Epoch 95/500\n",
      "172/172 [==============================] - 3s 16ms/step - loss: 0.0804 - acc: 0.9775 - lr: 1.0000e-05\n",
      "Epoch 96/500\n",
      "172/172 [==============================] - 3s 17ms/step - loss: 0.0803 - acc: 0.9774 - lr: 1.0000e-05\n",
      "Epoch 97/500\n",
      "172/172 [==============================] - 3s 17ms/step - loss: 0.0802 - acc: 0.9774 - lr: 1.0000e-05\n",
      "Epoch 98/500\n",
      "172/172 [==============================] - 3s 17ms/step - loss: 0.0800 - acc: 0.9775 - lr: 1.0000e-05\n",
      "Epoch 99/500\n",
      "172/172 [==============================] - 3s 16ms/step - loss: 0.0799 - acc: 0.9774 - lr: 1.0000e-05\n",
      "Epoch 100/500\n",
      "172/172 [==============================] - 3s 16ms/step - loss: 0.0798 - acc: 0.9774 - lr: 1.0000e-05\n",
      "Epoch 101/500\n",
      "172/172 [==============================] - 3s 17ms/step - loss: 0.0796 - acc: 0.9774 - lr: 1.0000e-05\n",
      "Epoch 102/500\n",
      "172/172 [==============================] - 3s 17ms/step - loss: 0.0795 - acc: 0.9774 - lr: 1.0000e-05\n",
      "Epoch 103/500\n",
      "172/172 [==============================] - 4s 17ms/step - loss: 0.0794 - acc: 0.9773 - lr: 1.0000e-05\n",
      "Epoch 104/500\n",
      "172/172 [==============================] - 3s 16ms/step - loss: 0.0793 - acc: 0.9774 - lr: 1.0000e-05\n",
      "Epoch 105/500\n",
      "172/172 [==============================] - 3s 17ms/step - loss: 0.0791 - acc: 0.9774 - lr: 1.0000e-05\n"
     ]
    },
    {
     "data": {
      "image/png": "[encoded data removed]",
      "text/plain": [
       "<Figure size 432x288 with 1 Axes>"
      ]
     },
     "metadata": {
      "needs_background": "light"
     },
     "output_type": "display_data"
    },
    {
     "data": {
      "image/png": "[encoded data removed]",
      "text/plain": [
       "<Figure size 432x288 with 1 Axes>"
      ]
     },
     "metadata": {
      "needs_background": "light"
     },
     "output_type": "display_data"
    }
   ],
   "source": [
    "MODEL_NAME = './models/NLP_CHAR_PROG'\n",
    "\n",
    "callbacks = [tf.keras.callbacks.ReduceLROnPlateau(monitor=MONITOR, factor=0.1, patience=PATIENCE, min_lr=1e-5)]\n",
    "callbacks += [tf.keras.callbacks.ModelCheckpoint( MODEL_NAME, save_format=\"tf\", monitor=MONITOR, save_best_only=True)]\n",
    "callbacks += [tf.keras.callbacks.EarlyStopping(monitor=MONITOR, patience=PATIENCE*2, restore_best_weights=True)]\n",
    "\n",
    "history = model.fit(\n",
    "    train_dataset,\n",
    "    epochs=EPOCHS,\n",
    "    batch_size=BATCH_SIZE,\n",
    "    # validation_data=test_dataset,\n",
    "    callbacks=callbacks\n",
    ")\n",
    "\n",
    "hist = pd.DataFrame(history.history)\n",
    "hist['epoch'] = history.epoch\n",
    "\n",
    "plt.plot(history.history['loss'])\n",
    "# plt.plot(history.history['val_loss'])\n",
    "plt.title('model loss')\n",
    "plt.ylabel('loss')\n",
    "plt.xlabel('epoch')\n",
    "plt.legend(['train', 'test'], loc='upper left')\n",
    "plt.show()\n",
    "\n",
    "plt.plot(history.history['acc'])\n",
    "# plt.plot(history.history['val_acc'])\n",
    "plt.title('model acc')\n",
    "plt.ylabel('loss')\n",
    "plt.xlabel('epoch')\n",
    "plt.legend(['train', 'test'], loc='upper left')\n",
    "plt.show()"
   ]
  },
  {
   "cell_type": "code",
   "execution_count": 70,
   "id": "482a9645-cb72-4eb1-aa2a-2b95a6f1e4df",
   "metadata": {},
   "outputs": [],
   "source": [
    "class OneStep(tf.keras.Model):\n",
    "    def __init__(self, model, chars_from_ids, ids_from_chars, temperature=1.0):\n",
    "        super().__init__()\n",
    "        self.temperature = temperature\n",
    "        self.model = model\n",
    "        self.chars_from_ids = chars_from_ids\n",
    "        self.ids_from_chars = ids_from_chars\n",
    "\n",
    "        # Create a mask to prevent \"[UNK]\" from being generated.\n",
    "        skip_ids = self.ids_from_chars(['[UNK]'])[:, None]\n",
    "        sparse_mask = tf.SparseTensor(\n",
    "            # Put a -inf at each bad index.\n",
    "            values=[-float('inf')]*len(skip_ids),\n",
    "            indices=skip_ids,\n",
    "            # Match the shape to the vocabulary\n",
    "            dense_shape=[len(ids_from_chars.get_vocabulary())])\n",
    "        self.prediction_mask = tf.sparse.to_dense(sparse_mask)\n",
    "\n",
    "    @tf.function\n",
    "    def generate_one_step(self, inputs, states=None):\n",
    "        # Convert strings to token IDs.\n",
    "        input_chars = tf.strings.unicode_split(inputs, 'UTF-8')\n",
    "        input_ids = self.ids_from_chars(input_chars).to_tensor()\n",
    "\n",
    "        # Run the model.\n",
    "        # predicted_logits.shape is [batch, char, next_char_logits]\n",
    "        predicted_logits, states = self.model(inputs=input_ids, states=states,\n",
    "                                              return_state=True)\n",
    "        # Only use the last prediction.\n",
    "        predicted_logits = predicted_logits[:, -1, :]\n",
    "        predicted_logits = predicted_logits/self.temperature\n",
    "        # Apply the prediction mask: prevent \"[UNK]\" from being generated.\n",
    "        predicted_logits = tf.cast(predicted_logits, tf.float16) + tf.cast(self.prediction_mask, tf.float16)\n",
    "\n",
    "        # Sample the output logits to generate token IDs.\n",
    "        predicted_ids = tf.random.categorical(predicted_logits, num_samples=1)\n",
    "        predicted_ids = tf.squeeze(predicted_ids, axis=-1)\n",
    "\n",
    "        # Convert from token ids to characters\n",
    "        predicted_chars = self.chars_from_ids(predicted_ids)\n",
    "\n",
    "        # Return the characters and model state.\n",
    "        return predicted_chars, states\n",
    "one_step_model = OneStep(model, chars_from_ids, ids_from_chars)"
   ]
  },
  {
   "cell_type": "code",
   "execution_count": 71,
   "id": "992e25a7-9309-4f3f-ac14-7653aa634450",
   "metadata": {},
   "outputs": [
    {
     "name": "stdout",
     "output_type": "stream",
     "text": [
      "ROMEO:\n",
      "The exchange of thy love's faithful vow for mine.\n",
      "\n",
      "JULIET:\n",
      "I gave thee mine before thou didst ventur'\n",
      "To have drawn mad with thee from this place.\n",
      "\n",
      "CAMILLO:\n",
      "He that you have done with thee?\n",
      "\n",
      "GRUMIO:\n",
      "Nay, sit down; he that know it not this castle;\n",
      "Where should she bid me make the leave?\n",
      "Is this the foe is mine, and tell my case,\n",
      "For their own victory, captain, who lets\n",
      "express thee. O heavens! Spoke to!\n",
      "And look to bed. What was my blood awding,\n",
      "And let the sufficient cold scraff and Edward's blood:\n",
      "Besides, upon the coronation.\n",
      "\n",
      "POMPEY:\n",
      "No, good father.\n",
      "\n",
      "DUKE VINCENTIO:\n",
      "let the warrant's cousin!\n",
      "Thy mother rather fear of Warwick affords and great\n",
      "As all the climate should entreat Edward's shame,\n",
      "Unless thy suit of mine order lives again,\n",
      "And since thou hast mildled with his king,\n",
      "Was match's nothing like the night of fortune's sea,\n",
      "So ean my ease the adult cheer eports\n",
      "his enemies in my sheep-shall marry success?\n",
      "And forfeit into despair and a holy man.\n",
      "Rays, treason will I would be c \n",
      "\n",
      "________________________________________________________________________________\n",
      "\n",
      "Run time: 2.8916895389556885\n"
     ]
    }
   ],
   "source": [
    "start = time.time()\n",
    "states = None\n",
    "next_char = tf.constant(['ROMEO:'])\n",
    "result = [next_char]\n",
    "\n",
    "for n in range(1000):\n",
    "    next_char, states = one_step_model.generate_one_step(next_char, states=states)\n",
    "    result.append(next_char)\n",
    "\n",
    "result = tf.strings.join(result)\n",
    "end = time.time()\n",
    "print(result[0].numpy().decode('utf-8'), '\\n\\n' + '_'*80)\n",
    "print('\\nRun time:', end - start)"
   ]
  },
  {
   "cell_type": "code",
   "execution_count": 72,
   "id": "15b5ce9c-794d-4d22-b9a0-9f2dccd02e20",
   "metadata": {},
   "outputs": [
    {
     "name": "stdout",
     "output_type": "stream",
     "text": [
      "tf.Tensor(\n",
      "[b\"ROMEO:\\nThe effect of nothing traitor\\nTo bless the sea shed nobleness.\\n\\nCOMINIUS:\\nOnce do this, but Romeo here, here comes and leave you.\\n\\nKING EDWARD IV:\\nHe says so, Tybalt is not a stranger\\nAnd leave the growt shice--'Stand, Kate, come away.\\n\\nPROSPERO:\\nNo, will your guider here writ.\\n\\nJULIET:\\nI saw the wounds that stabb'd dishonour from his face\\nBy any likelihood down their will:\\nWouldst have me weep? why, she will comfort that are\\nnecessity, that we lap to land of\\nWould will afford fly is not whipt under grief,\\nWhich tenderly to the English crown,\\nAnd then dreams here look on note of my sword,\\nThat to the last with thee that lies in with our heads,\\nFor his bond ago I might be son: between\\nAnd shine to pleade your worship dead spirits\\nAnd see home arm: and live was death o'er your latest,\\nWhen I shall all dear according to visiting his.\\n\\nJOHN OF GAUNT:\\nWhat, lovel! and a king, bleed!\\nLook you his thanks that you do crave that plaged my life,\\nAs think usurps and make up and play with a goodl\"\n",
      " b\"ROMEO:\\nThe hung both wrings of water than see them in the common sort\\nTherein my shame; for in heaven metle,\\nIf I did wish me mine change; but yet,\\nI fear you make my heavy bear-for light.\\nLivy is the sun that he removed you,\\nBy dead mad and favour with the carked son his wife;\\nYet which if that I was not for beed!\\n\\nNORTHUMBERLAND:\\nThe commons will not move.\\n\\nHENRY BOLINGBROKE:\\nSo far our faults are like our thoughts, I trow\\nDo through the claim thereof which I have pursuised.\\n\\nPETER:\\nO, do not say 'Tis I that your father's death?\\n\\nYORK:\\nThat show the contry you or your highness' mouth:\\nNor I most wife; lo, all the world,\\nBy you deny a dozen years;\\nHe would not take in her descending to your love\\nThan when these fellows ran about the state;\\nAnd to itrecine upon the stroke of fortune\\nThat you shall be new coatswive that Raison is exclosed\\nIn such a one as he, who being so heighten'd hit.\\n\\nEDWARD:\\nHere comes BEggar: if it be so foul\\ndevice, on the imperial dam of marriage of\\nthe boy of the duk\"\n",
      " b\"ROMEO:\\nThe moiety of the queen receives the sounds,\\nThat efoce full storms to see my son's keens,\\nThine ears against thee both shall be ordened:\\nSo please you, cousin Buckingham,\\nThat does approad a poison, which that remember\\nAgainst the forfeit of thy kindness, that\\nin whose fince hours here in my eye so good.\\nO, but both is give away this kindness below my\\nfaces of dreadful menicolds: these sorrows\\nIs a yed false. But, if I choose,\\nEnough that it may bear it, quite at home,\\nAnd that the Abholder bowels on yond friend?\\n\\nHENRY BOLINGBROKE:\\nI thought you had been willing to resign.\\n\\nKING RICHARD II:\\nMy crown his lecture and the rest were company\\nAt upper end thou shalt tell the people, when he shall\\ngo.\\n\\nBAPTISTA:\\nGentlemen, madam.\\n\\nQUEEN:\\nWho shall hinder me?\\nI will despair, and be his fault, and not a word with him,\\nHe shows our bodies blasp again?\\n\\nSecond Murderer:\\nI'll not meddle with it: it is a dangerous house: thou dost not she:\\nBut I challent know my men,\\nAnd bite a father of a dearl\"\n",
      " b\"ROMEO:\\nThe exchange of thy love's faithful vow for mine.\\n\\nJULIET:\\nI gave thee mine before thou didst vengeance to a woful gentleman,\\nThe least of the Lord Aumerle.\\n\\nHENRY BOLINGBROKE:\\nMine ear that Henry and for murders are not field,\\nWhilst thou never spoke awake be found by me;\\nBut I will walk mine own line with our love,\\nAnd his fright seeing hurt and citizens\\nTo me a widow's daughter to be mutedied.\\nIn Gevil his benefiament, but my dispatch\\nThou canst with more eyes she better hope?\\n\\nCLARENCE:\\nHear you the prisoner?\\n\\nPOMPEY:\\nIf they laid on no, no, not a whit: and that it was report\\nAnd stopp'd you from your grace to part your confined.\\n\\nKING EDWARD IV:\\nI repared him, and be a way here stuff'd\\nThe faults of sooth that would make it as these walls,\\nReighing come in his hand, and on the pride,\\nHave thrice disturb'd the days on many divines.\\n\\nKING EDWARD IV:\\nWhy, so I am: then crave a breath, a beggar,--\\n\\nCURTIS:\\nThe fires i' the offenders of a wonder?\\nI saw her such a device.\\nYou are heard\"\n",
      " b\"ROMEO:\\nThe elder sister usurp'st me of this?\\n\\nNORTHUMBERLAND:\\nMy lord, I will be clear'd to her heaviness,\\nBut let them work. a bloody deed, and so deep years\\nAs he had loved my brother's lung;\\nBut Tranio disposition to be achieved\\nWith her power and the while! Why who's so grave,\\nShould I best deny our brother Montague?\\nWhere is thy power that lives his paintence\\nSuch good fill'd when Romeo bids thy lord.\\n\\nKING RICHARD III:\\nBut thou art takest the meaning man.\\n\\nBAPTISTA:\\nI have a greater deed is al.\\n\\nANGELO:\\nWith silver of his friends as we\\nwhich grief make presure state. Then is old near? Never caggain than you would live\\nHe hark an old man's eyes, and that the queen is slain\\nThe flowers of bloody and give with a leager,\\nThat fair for law! See how thy sovereign\\nBothwark. I'll undertake to Rome\\nHis charter'st behaviors are so still a sin\\nBe leap'd to her heavy fight:\\nAdvise my body to give it thee to the heart,\\nThat we may call their hearts to people;\\nLike to a Roman; and that must be spoke\"], shape=(5,), dtype=string) \n",
      "\n",
      "________________________________________________________________________________\n",
      "\n",
      "Run time: 2.542865753173828\n"
     ]
    }
   ],
   "source": [
    "start = time.time()\n",
    "states = None\n",
    "next_char = tf.constant(['ROMEO:', 'ROMEO:', 'ROMEO:', 'ROMEO:', 'ROMEO:'])\n",
    "result = [next_char]\n",
    "\n",
    "for n in range(1000):\n",
    "    next_char, states = one_step_model.generate_one_step(next_char, states=states)\n",
    "    result.append(next_char)\n",
    "\n",
    "result = tf.strings.join(result)\n",
    "end = time.time()\n",
    "print(result, '\\n\\n' + '_'*80)\n",
    "print('\\nRun time:', end - start)"
   ]
  },
  {
   "cell_type": "code",
   "execution_count": 73,
   "id": "12e7cdeb-3f55-4845-b818-d86d81c54842",
   "metadata": {},
   "outputs": [
    {
     "name": "stdout",
     "output_type": "stream",
     "text": [
      "WARNING:tensorflow:Skipping full serialization of Keras layer <__main__.OneStep object at 0x000001B8054B7F10>, because it is not built.\n"
     ]
    },
    {
     "name": "stderr",
     "output_type": "stream",
     "text": [
      "WARNING:tensorflow:Skipping full serialization of Keras layer <__main__.OneStep object at 0x000001B8054B7F10>, because it is not built.\n",
      "WARNING:absl:Found untraced functions such as gru_cell_6_layer_call_fn, gru_cell_6_layer_call_and_return_conditional_losses while saving (showing 2 of 2). These functions will not be directly callable after loading.\n"
     ]
    },
    {
     "name": "stdout",
     "output_type": "stream",
     "text": [
      "INFO:tensorflow:Assets written to: ./models/NLP_CHAR_PROG_one_step\\assets\n"
     ]
    },
    {
     "name": "stderr",
     "output_type": "stream",
     "text": [
      "INFO:tensorflow:Assets written to: ./models/NLP_CHAR_PROG_one_step\\assets\n"
     ]
    },
    {
     "name": "stdout",
     "output_type": "stream",
     "text": [
      "ROMEO:\n",
      "The exchange of thy love's faithful vow for mine.\n",
      "\n",
      "JULIET:\n",
      "I was; his worthy sedumnusty, and mine.\n",
      "\n"
     ]
    }
   ],
   "source": [
    "tf.saved_model.save(one_step_model, './models/NLP_CHAR_PROG_one_step')\n",
    "one_step_reloaded = tf.saved_model.load('./models/NLP_CHAR_PROG_one_step')\n",
    "\n",
    "states = None\n",
    "next_char = tf.constant(['ROMEO:'])\n",
    "result = [next_char]\n",
    "\n",
    "for n in range(100):\n",
    "    next_char, states = one_step_reloaded.generate_one_step(next_char, states=states)\n",
    "    result.append(next_char)\n",
    "\n",
    "print(tf.strings.join(result)[0].numpy().decode(\"utf-8\"))"
   ]
  },
  {
   "cell_type": "code",
   "execution_count": null,
   "id": "1f967072-54be-474e-b54c-767691a6debc",
   "metadata": {},
   "outputs": [],
   "source": []
  }
 ],
 "metadata": {
  "kernelspec": {
   "display_name": "Python 3 (ipykernel)",
   "language": "python",
   "name": "python3"
  },
  "language_info": {
   "codemirror_mode": {
    "name": "ipython",
    "version": 3
   },
   "file_extension": ".py",
   "mimetype": "text/x-python",
   "name": "python",
   "nbconvert_exporter": "python",
   "pygments_lexer": "ipython3",
   "version": "3.10.5"
  }
 },
 "nbformat": 4,
 "nbformat_minor": 5
}
