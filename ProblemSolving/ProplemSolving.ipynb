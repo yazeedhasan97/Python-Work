{
 "cells": [
  {
   "cell_type": "markdown",
   "metadata": {},
   "source": [
    "1 - Write a Python program to parse a string to Float or Integer. and print the type of them"
   ]
  },
  {
   "cell_type": "code",
   "execution_count": 2,
   "metadata": {},
   "outputs": [
    {
     "name": "stdout",
     "output_type": "stream",
     "text": [
      "Enter a number15\n",
      "15\n",
      "<class 'int'>\n"
     ]
    }
   ],
   "source": [
    "a = int(input('Enter a number'))\n",
    "print(a)\n",
    "print(type(a))"
   ]
  },
  {
   "cell_type": "markdown",
   "metadata": {},
   "source": [
    "2 - Write a Python program to print two values without newline or space."
   ]
  },
  {
   "cell_type": "code",
   "execution_count": 3,
   "metadata": {},
   "outputs": [
    {
     "name": "stdout",
     "output_type": "stream",
     "text": [
      "First:Secand Thired\n"
     ]
    }
   ],
   "source": [
    "print('First:', end='')\n",
    "print('Secand', 'Thired', sep=' ')"
   ]
  },
  {
   "cell_type": "markdown",
   "metadata": {},
   "source": [
    "3 - Write a program that takes an input from the user and checks if it’s divisible by 3 or not."
   ]
  },
  {
   "cell_type": "code",
   "execution_count": 5,
   "metadata": {},
   "outputs": [
    {
     "name": "stdout",
     "output_type": "stream",
     "text": [
      "enter an integer: 2\n",
      "Not Divisible\n"
     ]
    }
   ],
   "source": [
    "a = int(input('enter an integer: '))\n",
    "print('Not Divisible' if a%3 else 'Divisible by 3')"
   ]
  },
  {
   "cell_type": "markdown",
   "metadata": {},
   "source": [
    "4 - Write a program that reads three integers (a, b, and c), computes the following formulas and\n",
    "stores the results in the variables x1, x2 and prints the results of the program.\n",
    "\n",
    "<img src=\"Screenshot_1.png\">"
   ]
  },
  {
   "cell_type": "code",
   "execution_count": 11,
   "metadata": {},
   "outputs": [
    {
     "name": "stdout",
     "output_type": "stream",
     "text": [
      "Enter an integer a: 5\n",
      "Enter an integer b: 4\n",
      "Enter an integer c: 5\n"
     ]
    },
    {
     "ename": "Exception",
     "evalue": "C is equal A",
     "output_type": "error",
     "traceback": [
      "\u001b[1;31m---------------------------------------------------------------------------\u001b[0m",
      "\u001b[1;31mException\u001b[0m                                 Traceback (most recent call last)",
      "\u001b[1;32m<ipython-input-11-0317583c0cc2>\u001b[0m in \u001b[0;36m<module>\u001b[1;34m\u001b[0m\n\u001b[0;32m      4\u001b[0m \u001b[1;33m\u001b[0m\u001b[0m\n\u001b[0;32m      5\u001b[0m \u001b[1;32mif\u001b[0m \u001b[0ma\u001b[0m \u001b[1;33m==\u001b[0m \u001b[0mc\u001b[0m\u001b[1;33m:\u001b[0m\u001b[1;33m\u001b[0m\u001b[1;33m\u001b[0m\u001b[0m\n\u001b[1;32m----> 6\u001b[1;33m     \u001b[1;32mraise\u001b[0m \u001b[0mException\u001b[0m\u001b[1;33m(\u001b[0m\u001b[1;34m'C is equal A'\u001b[0m\u001b[1;33m)\u001b[0m\u001b[1;33m\u001b[0m\u001b[1;33m\u001b[0m\u001b[0m\n\u001b[0m\u001b[0;32m      7\u001b[0m \u001b[1;33m\u001b[0m\u001b[0m\n\u001b[0;32m      8\u001b[0m \u001b[0mx1\u001b[0m \u001b[1;33m=\u001b[0m \u001b[1;33m(\u001b[0m\u001b[1;33m(\u001b[0m\u001b[1;33m-\u001b[0m\u001b[0mb\u001b[0m\u001b[1;33m+\u001b[0m\u001b[0mc\u001b[0m\u001b[1;33m**\u001b[0m\u001b[1;36m4\u001b[0m\u001b[1;33m)\u001b[0m\u001b[1;33m/\u001b[0m\u001b[1;36m2\u001b[0m\u001b[1;33m*\u001b[0m\u001b[0ma\u001b[0m\u001b[1;33m)\u001b[0m \u001b[1;33m-\u001b[0m \u001b[1;33m(\u001b[0m\u001b[1;33m(\u001b[0m\u001b[1;36m3\u001b[0m\u001b[1;33m*\u001b[0m\u001b[1;33m(\u001b[0m\u001b[0ma\u001b[0m\u001b[1;33m+\u001b[0m\u001b[0mb\u001b[0m\u001b[1;33m**\u001b[0m\u001b[1;36m2\u001b[0m\u001b[1;33m)\u001b[0m\u001b[1;33m)\u001b[0m\u001b[1;33m/\u001b[0m\u001b[0mc\u001b[0m\u001b[1;33m)\u001b[0m\u001b[1;33m\u001b[0m\u001b[1;33m\u001b[0m\u001b[0m\n",
      "\u001b[1;31mException\u001b[0m: C is equal A"
     ]
    }
   ],
   "source": [
    "a = int(input('Enter an integer a: '))\n",
    "b = int(input('Enter an integer b: '))\n",
    "c = int(input('Enter an integer c: '))\n",
    "\n",
    "if a == c:\n",
    "    raise Exception('C is equal A')\n",
    "\n",
    "x1 = ((-b+c**4)/2*a) - ((3*(a+b**2))/c)\n",
    "print(f'The first fourmula = {x1}')\n",
    "\n",
    "x2 = (a+b**3)**2/(c-a**2)\n",
    "print(f'The second fourmula = {x2}')"
   ]
  },
  {
   "cell_type": "markdown",
   "metadata": {},
   "source": [
    "5 - Write a program that reads two numbers a and b. Print the maximum value of the two numbers."
   ]
  },
  {
   "cell_type": "code",
   "execution_count": 12,
   "metadata": {},
   "outputs": [
    {
     "name": "stdout",
     "output_type": "stream",
     "text": [
      "Enter an integer a: 88\n",
      "Enter an integer b: 150\n",
      "The maximum value is: 150\n"
     ]
    }
   ],
   "source": [
    "a = int(input('Enter an integer a: '))\n",
    "b = int(input('Enter an integer b: '))\n",
    "\n",
    "print(f'The maximum value is: {max(a,b)}')"
   ]
  },
  {
   "cell_type": "markdown",
   "metadata": {},
   "source": [
    "6 - Write a program that reads three input values. Output the maximum value of the three."
   ]
  },
  {
   "cell_type": "code",
   "execution_count": 14,
   "metadata": {},
   "outputs": [
    {
     "name": "stdout",
     "output_type": "stream",
     "text": [
      "Enter an integer a: 5555\n",
      "Enter an integer b: 20\n",
      "Enter an integer c: 184\n",
      "The maximum value is: 5555\n"
     ]
    }
   ],
   "source": [
    "a = int(input('Enter an integer a: '))\n",
    "b = int(input('Enter an integer b: '))\n",
    "c = int(input('Enter an integer c: '))\n",
    "\n",
    "print(f'The maximum value is: {max(a,b,c)}')"
   ]
  },
  {
   "cell_type": "markdown",
   "metadata": {},
   "source": [
    "7 - Write a program that reads two values a and b. If b is 0, output ”b is 0”. Otherwise output\n",
    "the result of the division of a by b (a/b)."
   ]
  },
  {
   "cell_type": "code",
   "execution_count": 15,
   "metadata": {},
   "outputs": [
    {
     "name": "stdout",
     "output_type": "stream",
     "text": [
      "Enter an integer a: 50\n",
      "Enter an integer b: 10\n"
     ]
    },
    {
     "data": {
      "text/plain": [
       "'The result is 5.0'"
      ]
     },
     "execution_count": 15,
     "metadata": {},
     "output_type": "execute_result"
    }
   ],
   "source": [
    "a = int(input('Enter an integer a: '))\n",
    "b = int(input('Enter an integer b: '))\n",
    "\n",
    "\"b is 0\" if b == a else f'The result is {a/b}'"
   ]
  },
  {
   "cell_type": "markdown",
   "metadata": {},
   "source": [
    "8 - Write a program to convert days into years, weeks and days.\n",
    "\n",
    "SampleInput: 400\n",
    "    \n",
    "SampleOutput: 1 Year 1 Month and 5 Days"
   ]
  },
  {
   "cell_type": "code",
   "execution_count": 17,
   "metadata": {},
   "outputs": [
    {
     "name": "stdout",
     "output_type": "stream",
     "text": [
      "Enter an integer a: 400\n",
      "1 Year 1 Month and 5 Days\n"
     ]
    }
   ],
   "source": [
    "a = int(input('Enter an integer a: '))\n",
    "\n",
    "years = a // 365\n",
    "a = a - years*365\n",
    "\n",
    "months = a // 30\n",
    "a = a - months*30\n",
    "\n",
    "\n",
    "print(f'{years} Year {months} Month and {a} Days')"
   ]
  },
  {
   "cell_type": "markdown",
   "metadata": {},
   "source": [
    "9 - Write a program to read temperature in Celsius and convert it into Fahrenheit."
   ]
  },
  {
   "cell_type": "code",
   "execution_count": 20,
   "metadata": {},
   "outputs": [
    {
     "name": "stdout",
     "output_type": "stream",
     "text": [
      "Enter the  temperature in Celsius: 50\n",
      "The temperature in Fahrenheit: 122.0\n"
     ]
    }
   ],
   "source": [
    "a = float(input('Enter the  temperature in Celsius: '))\n",
    "print('The temperature in Fahrenheit: {}'.format((a * 9/5) + 32))"
   ]
  },
  {
   "cell_type": "markdown",
   "metadata": {},
   "source": [
    "10 - Write a program that reads two float number and stores their values in variable x and y. the program then computes the\n",
    "value (x^2 − y^2)/(x − y), stores the result in a float named z and print the value of z. if the computation division by zero, the program must avoid that by printing an error message and exiting before computing the formula."
   ]
  },
  {
   "cell_type": "code",
   "execution_count": 23,
   "metadata": {},
   "outputs": [
    {
     "name": "stdout",
     "output_type": "stream",
     "text": [
      "Enter an integer A: 5\n",
      "Enter an integer B: 4\n",
      "The first fourmula = 9.0\n"
     ]
    }
   ],
   "source": [
    "a = int(input('Enter an integer A: '))\n",
    "b = int(input('Enter an integer B: '))\n",
    "\n",
    "if a == b:\n",
    "    raise Exception('B is equal A')\n",
    "\n",
    "z = (a**2 - b**2)/ (a-b)\n",
    "print(f'The first fourmula = {z}')"
   ]
  },
  {
   "cell_type": "markdown",
   "metadata": {},
   "source": [
    "11 - As you know Python has no switch statements so, Write a complete Python application that\n",
    "asks the user to enter an integer Q-Range (”deviation IQ”) and output the IQ Classification\n",
    "according to the following table:\n",
    "    \n",
    "Q Range (”deviation IQ”) -> IQ Classification\n",
    "\n",
    "130 and above -> Very Superior\n",
    "\n",
    "120 - 129 -> Superior\n",
    "\n",
    "110 - 119 -> High Average\n",
    "\n",
    "90 - 109 -> Average\n",
    "\n",
    "80 - 89 -> Low Average\n",
    "\n",
    "70 - 79 -> Borderline\n",
    "\n",
    "69 and below -> Extremely Low"
   ]
  },
  {
   "cell_type": "code",
   "execution_count": 27,
   "metadata": {},
   "outputs": [
    {
     "name": "stdout",
     "output_type": "stream",
     "text": [
      "Enter The student IQ: 88\n",
      "Low Average\n"
     ]
    }
   ],
   "source": [
    "iq = float(input('Enter The student IQ: '))\n",
    "\n",
    "if iq >= 130:\n",
    "    print('Very Superior')\n",
    "elif iq >= 120:\n",
    "    print('Superior')\n",
    "elif iq >= 110:\n",
    "    print('High Average')\n",
    "elif iq >= 90:\n",
    "    print('Average')\n",
    "elif iq >= 80:\n",
    "    print('Low Average')\n",
    "elif iq >= 70:\n",
    "    print('Borderline')\n",
    "else:\n",
    "    print('Extremely Low')\n"
   ]
  },
  {
   "cell_type": "markdown",
   "metadata": {},
   "source": [
    "12 - Write a program that classifies a student marks as follows:\n",
    "\n",
    "[90 − 100] : A\n",
    "\n",
    "[80 − 90] : B\n",
    "\n",
    "[70 − 80] : C\n",
    "\n",
    "[60 − 70] : D\n",
    "\n",
    "[50 − 60] : E\n",
    "\n",
    "[0 − 50] : F"
   ]
  },
  {
   "cell_type": "code",
   "execution_count": 34,
   "metadata": {},
   "outputs": [
    {
     "name": "stdout",
     "output_type": "stream",
     "text": [
      "Enter The student mark: 100\n",
      "Grade is A\n"
     ]
    }
   ],
   "source": [
    "marks = {\n",
    "    'A': range(90,101),\n",
    "    'B': range(80,90),\n",
    "    'C': range(70,80),\n",
    "    'D': range(60,70),\n",
    "    'E': range(50,60),\n",
    "    'F': range(50),\n",
    "}\n",
    "iq = float(input('Enter The student mark: '))\n",
    "for key, value in marks.items():\n",
    "    if iq in value:\n",
    "        print('Grade is', key)\n",
    "        break"
   ]
  },
  {
   "cell_type": "markdown",
   "metadata": {},
   "source": [
    "13 - Write a program that tests whether the formula a^2 + b^2 = c^2 is true for three integers entered\n",
    "as input."
   ]
  },
  {
   "cell_type": "code",
   "execution_count": 36,
   "metadata": {},
   "outputs": [
    {
     "name": "stdout",
     "output_type": "stream",
     "text": [
      "Enter an integer a: 4\n",
      "Enter an integer b: 3\n",
      "Enter an integer c: 5\n",
      "True\n"
     ]
    }
   ],
   "source": [
    "a = int(input('Enter an integer a: '))\n",
    "b = int(input('Enter an integer b: '))\n",
    "c = int(input('Enter an integer c: '))\n",
    "\n",
    "print(True if a**2 + b**2 == c**2 else False)"
   ]
  },
  {
   "cell_type": "markdown",
   "metadata": {},
   "source": [
    "14 - Write a Python program to check whether a character of an alphabet is a Vowel, or Consonant."
   ]
  },
  {
   "cell_type": "code",
   "execution_count": 40,
   "metadata": {},
   "outputs": [
    {
     "name": "stdout",
     "output_type": "stream",
     "text": [
      "Enter an integer a: f\n",
      "f is Consonant\n"
     ]
    }
   ],
   "source": [
    "a = input('Enter an integer a: ')\n",
    "if a.lower() in 'ouiea':\n",
    "    print(a, 'is a Vowel')\n",
    "else:\n",
    "    print(a, 'is Consonant')"
   ]
  },
  {
   "cell_type": "markdown",
   "metadata": {},
   "source": [
    "15 - Write a Python program to check whether a number is even or odd."
   ]
  },
  {
   "cell_type": "code",
   "execution_count": 41,
   "metadata": {},
   "outputs": [
    {
     "name": "stdout",
     "output_type": "stream",
     "text": [
      "Enter an integer a: 1\n",
      "Odd\n"
     ]
    }
   ],
   "source": [
    "a = int(input('Enter an integer a: '))\n",
    "print('Odd' if a%2 else 'Even')"
   ]
  },
  {
   "cell_type": "markdown",
   "metadata": {},
   "source": [
    "16 - Write a Python program to display the current date and time. Sample Output :\n",
    "    \n",
    "Current date and time : 2019-07-05 21:25:48"
   ]
  },
  {
   "cell_type": "code",
   "execution_count": 43,
   "metadata": {},
   "outputs": [
    {
     "name": "stdout",
     "output_type": "stream",
     "text": [
      "2019-12-11 13:32:57.554036\n"
     ]
    }
   ],
   "source": [
    "from datetime import datetime\n",
    "print(datetime.now())"
   ]
  },
  {
   "cell_type": "markdown",
   "metadata": {},
   "source": [
    "17 - Write a Python program which accepts the radius of a circle from the user and compute the\n",
    "area; Sample Output :\n",
    "    \n",
    "r = 1.1\n",
    "\n",
    "Area = 3.8013271108436504"
   ]
  },
  {
   "cell_type": "code",
   "execution_count": 44,
   "metadata": {},
   "outputs": [
    {
     "name": "stdout",
     "output_type": "stream",
     "text": [
      "Enter the cercle radios: 1.1\n",
      "The area is: 3.8013271108436504\n"
     ]
    }
   ],
   "source": [
    "r = float(input('Enter the cercle radios: '))\n",
    "import math\n",
    "print(f'The area is: {math.pi * r**2}')"
   ]
  },
  {
   "cell_type": "markdown",
   "metadata": {},
   "source": [
    "18 - Write a Python program which accepts the user’s first and last name and print them in reverse\n",
    "order."
   ]
  },
  {
   "cell_type": "code",
   "execution_count": 45,
   "metadata": {},
   "outputs": [
    {
     "name": "stdout",
     "output_type": "stream",
     "text": [
      "Enter your name: yazeed hamdan\n",
      "hamdan yazeed\n"
     ]
    }
   ],
   "source": [
    "fname, lname = input('Enter your name: ').split()\n",
    "\n",
    "print(lname, fname)"
   ]
  },
  {
   "cell_type": "markdown",
   "metadata": {},
   "source": [
    "19 - Write a Python program to read a three numbers from the user and display them as follow.\n",
    "\n",
    "Sample Input = (11, 12, 2019)\n",
    "\n",
    "Sample Output : The examination will start from : 11 / 12 / 2019"
   ]
  },
  {
   "cell_type": "code",
   "execution_count": 46,
   "metadata": {},
   "outputs": [
    {
     "name": "stdout",
     "output_type": "stream",
     "text": [
      "Enter the date: 11,12,2019\n",
      "11/12/2019\n"
     ]
    }
   ],
   "source": [
    "date = input('Enter the date: ')\n",
    "print(date.replace(',', '/'))"
   ]
  },
  {
   "cell_type": "markdown",
   "metadata": {},
   "source": [
    "20 - Write a Python program that accepts an integer (n) and computes the value of n + nn + nnn.\n",
    "\n",
    "Sample value of n is 5\n",
    "\n",
    "Expected Result : 155"
   ]
  },
  {
   "cell_type": "code",
   "execution_count": 47,
   "metadata": {},
   "outputs": [
    {
     "name": "stdout",
     "output_type": "stream",
     "text": [
      "Enter an integer n: 5\n",
      "155\n"
     ]
    }
   ],
   "source": [
    "n = int(input('Enter an integer n: '))\n",
    "print(n + n**2 + n**3)"
   ]
  },
  {
   "cell_type": "markdown",
   "metadata": {},
   "source": [
    "21 - Write a Python program to print the documentation of a Python built-in function(s)."
   ]
  },
  {
   "cell_type": "code",
   "execution_count": 48,
   "metadata": {},
   "outputs": [
    {
     "name": "stdout",
     "output_type": "stream",
     "text": [
      "Help on built-in function min in module builtins:\n",
      "\n",
      "min(...)\n",
      "    min(iterable, *[, default=obj, key=func]) -> value\n",
      "    min(arg1, arg2, *args, *[, key=func]) -> value\n",
      "    \n",
      "    With a single iterable argument, return its smallest item. The\n",
      "    default keyword-only argument specifies an object to return if\n",
      "    the provided iterable is empty.\n",
      "    With two or more arguments, return the smallest argument.\n",
      "\n"
     ]
    }
   ],
   "source": [
    "help(min)"
   ]
  },
  {
   "cell_type": "markdown",
   "metadata": {},
   "source": [
    "22 - Write a Python program to print the following here document; Sample string :\n",
    "    \n",
    "”a string that you ”don’t” have to escape\n",
    "\n",
    "This\n",
    "\n",
    "is a ....... multi-line\n",
    "\n",
    "heredoc string ——–> example”"
   ]
  },
  {
   "cell_type": "code",
   "execution_count": 55,
   "metadata": {},
   "outputs": [
    {
     "name": "stdout",
     "output_type": "stream",
     "text": [
      "a string that you ”don’t” have to escape\n",
      "\n",
      "This\n",
      "\n",
      "is a ....... multi-line\n",
      "\n",
      "heredoc string ——–> example\n",
      "--------------------------------------------------------------------------------\n",
      "a string that you ”don’t” have to escape\n",
      "\n",
      "This\n",
      "\n",
      "is a ....... multi-line\n",
      "\n",
      "heredoc string ——–> example\n"
     ]
    }
   ],
   "source": [
    "a = \"\"\"a string that you ”don’t” have to escape\n",
    "\n",
    "This\n",
    "\n",
    "is a ....... multi-line\n",
    "\n",
    "heredoc string ——–> example\"\"\"\n",
    "\n",
    "print(a)\n",
    "print('-'*80)\n",
    "a = \"a string that you ”don’t” have to escape\\n\\n\\\n",
    "This\\n\\n\\\n",
    "is a ....... multi-line\\n\\n\\\n",
    "heredoc string ——–> example\"\n",
    "\n",
    "print(a)\n"
   ]
  },
  {
   "cell_type": "markdown",
   "metadata": {},
   "source": [
    "23 - Write a Python program to calculate number of days between two dates;\n",
    "\n",
    "Sample dates : (2014, 7, 2), (2014, 7, 11)\n",
    "\n",
    "Expected output : 9 days"
   ]
  },
  {
   "cell_type": "code",
   "execution_count": 59,
   "metadata": {},
   "outputs": [
    {
     "name": "stdout",
     "output_type": "stream",
     "text": [
      "Enter the start date: 2014,7,1\n",
      "Enter the end date: 2015,7,1\n",
      "365 days\n"
     ]
    }
   ],
   "source": [
    "s_year,s_month,s_day = map(int,input('Enter the start date: ').split(','))\n",
    "e_year,e_month,e_day = map(int,input('Enter the end date: ').split(','))\n",
    "\n",
    "# import math\n",
    "total_year = abs(e_year - s_year)\n",
    "total_month = abs(e_month - s_month)\n",
    "total_day = abs(e_day - s_day)\n",
    "\n",
    "in_total = total_day + total_month*30 + total_year*365\n",
    "print(f'{in_total} days')"
   ]
  },
  {
   "cell_type": "markdown",
   "metadata": {},
   "source": [
    "24 - Write a Python program to get the volume of a sphere with a given radius."
   ]
  },
  {
   "cell_type": "code",
   "execution_count": 60,
   "metadata": {},
   "outputs": [
    {
     "name": "stdout",
     "output_type": "stream",
     "text": [
      "Enter the radios: 5\n",
      "The volume of a sphere is  523.5987755982989\n"
     ]
    }
   ],
   "source": [
    "r = float(input('Enter the radios: '))\n",
    "import math\n",
    "print('The volume of a sphere is ', (4/3)*math.pi * r**3)"
   ]
  },
  {
   "cell_type": "markdown",
   "metadata": {},
   "source": [
    "25 - Write a Python program to get the difference between a given number and 17, if the number\n",
    "is greater than 17 return double the absolute difference."
   ]
  },
  {
   "cell_type": "code",
   "execution_count": 64,
   "metadata": {},
   "outputs": [
    {
     "name": "stdout",
     "output_type": "stream",
     "text": [
      "Enter a numer: 6\n",
      "-11.0\n"
     ]
    }
   ],
   "source": [
    "n = float(input('Enter a numer: '))\n",
    "print(f'{n-17}' if n < 17 else f'{abs(n-17)*2}')"
   ]
  },
  {
   "cell_type": "markdown",
   "metadata": {},
   "source": [
    "26 - Write a Python program to test whether a number is within (less than) 100 or 1000 or 2000\n",
    "and print the value divided by 5 and multiplied by 25."
   ]
  },
  {
   "cell_type": "code",
   "execution_count": 66,
   "metadata": {},
   "outputs": [
    {
     "name": "stdout",
     "output_type": "stream",
     "text": [
      "Enter a numer: 1001\n",
      "less than 2000 5005.0\n"
     ]
    }
   ],
   "source": [
    "n = float(input('Enter a numer: '))\n",
    "\n",
    "if n < 100:\n",
    "    print('less than 100', n/5 * 25)\n",
    "elif n < 1000:\n",
    "    print('less than 1000', n/5 * 25)\n",
    "elif n < 2000:\n",
    "    print('less than 2000', n/5 * 25)"
   ]
  },
  {
   "cell_type": "markdown",
   "metadata": {},
   "source": [
    "44 - Write a Python program to sort five given integers and print them"
   ]
  },
  {
   "cell_type": "code",
   "execution_count": 67,
   "metadata": {},
   "outputs": [
    {
     "name": "stdout",
     "output_type": "stream",
     "text": [
      "Enter 5 numbers: 9 41 5 2 15\n",
      "[2, 5, 9, 15, 41]\n"
     ]
    }
   ],
   "source": [
    "ints = map(int, input('Enter 5 numbers: ').split())\n",
    "print(sorted(ints))"
   ]
  },
  {
   "cell_type": "markdown",
   "metadata": {},
   "source": [
    "45 - Write a Python program to get the details (documentation) of the math module."
   ]
  },
  {
   "cell_type": "code",
   "execution_count": 68,
   "metadata": {},
   "outputs": [
    {
     "name": "stdout",
     "output_type": "stream",
     "text": [
      "Help on built-in module math:\n",
      "\n",
      "NAME\n",
      "    math\n",
      "\n",
      "DESCRIPTION\n",
      "    This module provides access to the mathematical functions\n",
      "    defined by the C standard.\n",
      "\n",
      "FUNCTIONS\n",
      "    acos(x, /)\n",
      "        Return the arc cosine (measured in radians) of x.\n",
      "    \n",
      "    acosh(x, /)\n",
      "        Return the inverse hyperbolic cosine of x.\n",
      "    \n",
      "    asin(x, /)\n",
      "        Return the arc sine (measured in radians) of x.\n",
      "    \n",
      "    asinh(x, /)\n",
      "        Return the inverse hyperbolic sine of x.\n",
      "    \n",
      "    atan(x, /)\n",
      "        Return the arc tangent (measured in radians) of x.\n",
      "    \n",
      "    atan2(y, x, /)\n",
      "        Return the arc tangent (measured in radians) of y/x.\n",
      "        \n",
      "        Unlike atan(y/x), the signs of both x and y are considered.\n",
      "    \n",
      "    atanh(x, /)\n",
      "        Return the inverse hyperbolic tangent of x.\n",
      "    \n",
      "    ceil(x, /)\n",
      "        Return the ceiling of x as an Integral.\n",
      "        \n",
      "        This is the smallest integer >= x.\n",
      "    \n",
      "    copysign(x, y, /)\n",
      "        Return a float with the magnitude (absolute value) of x but the sign of y.\n",
      "        \n",
      "        On platforms that support signed zeros, copysign(1.0, -0.0)\n",
      "        returns -1.0.\n",
      "    \n",
      "    cos(x, /)\n",
      "        Return the cosine of x (measured in radians).\n",
      "    \n",
      "    cosh(x, /)\n",
      "        Return the hyperbolic cosine of x.\n",
      "    \n",
      "    degrees(x, /)\n",
      "        Convert angle x from radians to degrees.\n",
      "    \n",
      "    erf(x, /)\n",
      "        Error function at x.\n",
      "    \n",
      "    erfc(x, /)\n",
      "        Complementary error function at x.\n",
      "    \n",
      "    exp(x, /)\n",
      "        Return e raised to the power of x.\n",
      "    \n",
      "    expm1(x, /)\n",
      "        Return exp(x)-1.\n",
      "        \n",
      "        This function avoids the loss of precision involved in the direct evaluation of exp(x)-1 for small x.\n",
      "    \n",
      "    fabs(x, /)\n",
      "        Return the absolute value of the float x.\n",
      "    \n",
      "    factorial(x, /)\n",
      "        Find x!.\n",
      "        \n",
      "        Raise a ValueError if x is negative or non-integral.\n",
      "    \n",
      "    floor(x, /)\n",
      "        Return the floor of x as an Integral.\n",
      "        \n",
      "        This is the largest integer <= x.\n",
      "    \n",
      "    fmod(x, y, /)\n",
      "        Return fmod(x, y), according to platform C.\n",
      "        \n",
      "        x % y may differ.\n",
      "    \n",
      "    frexp(x, /)\n",
      "        Return the mantissa and exponent of x, as pair (m, e).\n",
      "        \n",
      "        m is a float and e is an int, such that x = m * 2.**e.\n",
      "        If x is 0, m and e are both 0.  Else 0.5 <= abs(m) < 1.0.\n",
      "    \n",
      "    fsum(seq, /)\n",
      "        Return an accurate floating point sum of values in the iterable seq.\n",
      "        \n",
      "        Assumes IEEE-754 floating point arithmetic.\n",
      "    \n",
      "    gamma(x, /)\n",
      "        Gamma function at x.\n",
      "    \n",
      "    gcd(x, y, /)\n",
      "        greatest common divisor of x and y\n",
      "    \n",
      "    hypot(x, y, /)\n",
      "        Return the Euclidean distance, sqrt(x*x + y*y).\n",
      "    \n",
      "    isclose(a, b, *, rel_tol=1e-09, abs_tol=0.0)\n",
      "        Determine whether two floating point numbers are close in value.\n",
      "        \n",
      "          rel_tol\n",
      "            maximum difference for being considered \"close\", relative to the\n",
      "            magnitude of the input values\n",
      "          abs_tol\n",
      "            maximum difference for being considered \"close\", regardless of the\n",
      "            magnitude of the input values\n",
      "        \n",
      "        Return True if a is close in value to b, and False otherwise.\n",
      "        \n",
      "        For the values to be considered close, the difference between them\n",
      "        must be smaller than at least one of the tolerances.\n",
      "        \n",
      "        -inf, inf and NaN behave similarly to the IEEE 754 Standard.  That\n",
      "        is, NaN is not close to anything, even itself.  inf and -inf are\n",
      "        only close to themselves.\n",
      "    \n",
      "    isfinite(x, /)\n",
      "        Return True if x is neither an infinity nor a NaN, and False otherwise.\n",
      "    \n",
      "    isinf(x, /)\n",
      "        Return True if x is a positive or negative infinity, and False otherwise.\n",
      "    \n",
      "    isnan(x, /)\n",
      "        Return True if x is a NaN (not a number), and False otherwise.\n",
      "    \n",
      "    ldexp(x, i, /)\n",
      "        Return x * (2**i).\n",
      "        \n",
      "        This is essentially the inverse of frexp().\n",
      "    \n",
      "    lgamma(x, /)\n",
      "        Natural logarithm of absolute value of Gamma function at x.\n",
      "    \n",
      "    log(...)\n",
      "        log(x, [base=math.e])\n",
      "        Return the logarithm of x to the given base.\n",
      "        \n",
      "        If the base not specified, returns the natural logarithm (base e) of x.\n",
      "    \n",
      "    log10(x, /)\n",
      "        Return the base 10 logarithm of x.\n",
      "    \n",
      "    log1p(x, /)\n",
      "        Return the natural logarithm of 1+x (base e).\n",
      "        \n",
      "        The result is computed in a way which is accurate for x near zero.\n",
      "    \n",
      "    log2(x, /)\n",
      "        Return the base 2 logarithm of x.\n",
      "    \n",
      "    modf(x, /)\n",
      "        Return the fractional and integer parts of x.\n",
      "        \n",
      "        Both results carry the sign of x and are floats.\n",
      "    \n",
      "    pow(x, y, /)\n",
      "        Return x**y (x to the power of y).\n",
      "    \n",
      "    radians(x, /)\n",
      "        Convert angle x from degrees to radians.\n",
      "    \n",
      "    remainder(x, y, /)\n",
      "        Difference between x and the closest integer multiple of y.\n",
      "        \n",
      "        Return x - n*y where n*y is the closest integer multiple of y.\n",
      "        In the case where x is exactly halfway between two multiples of\n",
      "        y, the nearest even value of n is used. The result is always exact.\n",
      "    \n",
      "    sin(x, /)\n",
      "        Return the sine of x (measured in radians).\n",
      "    \n",
      "    sinh(x, /)\n",
      "        Return the hyperbolic sine of x.\n",
      "    \n",
      "    sqrt(x, /)\n",
      "        Return the square root of x.\n",
      "    \n",
      "    tan(x, /)\n",
      "        Return the tangent of x (measured in radians).\n",
      "    \n",
      "    tanh(x, /)\n",
      "        Return the hyperbolic tangent of x.\n",
      "    \n",
      "    trunc(x, /)\n",
      "        Truncates the Real x to the nearest Integral toward 0.\n",
      "        \n",
      "        Uses the __trunc__ magic method.\n",
      "\n",
      "DATA\n",
      "    e = 2.718281828459045\n",
      "    inf = inf\n",
      "    nan = nan\n",
      "    pi = 3.141592653589793\n",
      "    tau = 6.283185307179586\n",
      "\n",
      "FILE\n",
      "    (built-in)\n",
      "\n",
      "\n"
     ]
    }
   ],
   "source": [
    "import math\n",
    "help(math)"
   ]
  },
  {
   "cell_type": "markdown",
   "metadata": {},
   "source": [
    "46 - Write a Python program to get the ASCII code of a given character"
   ]
  },
  {
   "cell_type": "code",
   "execution_count": 69,
   "metadata": {},
   "outputs": [
    {
     "name": "stdout",
     "output_type": "stream",
     "text": [
      "97\n"
     ]
    }
   ],
   "source": [
    "print(ord('a'))"
   ]
  },
  {
   "cell_type": "markdown",
   "metadata": {},
   "source": [
    "47 - Write a Python program to find the available built-in modules. (built-in modules doesn’t\n",
    "require to be PIP’ed install)"
   ]
  },
  {
   "cell_type": "code",
   "execution_count": 2,
   "metadata": {},
   "outputs": [
    {
     "data": {
      "text/plain": [
       "('_abc',\n",
       " '_ast',\n",
       " '_bisect',\n",
       " '_blake2',\n",
       " '_codecs',\n",
       " '_codecs_cn',\n",
       " '_codecs_hk',\n",
       " '_codecs_iso2022',\n",
       " '_codecs_jp',\n",
       " '_codecs_kr',\n",
       " '_codecs_tw',\n",
       " '_collections',\n",
       " '_contextvars',\n",
       " '_csv',\n",
       " '_datetime',\n",
       " '_functools',\n",
       " '_heapq',\n",
       " '_imp',\n",
       " '_io',\n",
       " '_json',\n",
       " '_locale',\n",
       " '_lsprof',\n",
       " '_md5',\n",
       " '_multibytecodec',\n",
       " '_opcode',\n",
       " '_operator',\n",
       " '_pickle',\n",
       " '_random',\n",
       " '_sha1',\n",
       " '_sha256',\n",
       " '_sha3',\n",
       " '_sha512',\n",
       " '_signal',\n",
       " '_sre',\n",
       " '_stat',\n",
       " '_string',\n",
       " '_struct',\n",
       " '_symtable',\n",
       " '_thread',\n",
       " '_tracemalloc',\n",
       " '_warnings',\n",
       " '_weakref',\n",
       " '_winapi',\n",
       " 'array',\n",
       " 'atexit',\n",
       " 'audioop',\n",
       " 'binascii',\n",
       " 'builtins',\n",
       " 'cmath',\n",
       " 'errno',\n",
       " 'faulthandler',\n",
       " 'gc',\n",
       " 'itertools',\n",
       " 'marshal',\n",
       " 'math',\n",
       " 'mmap',\n",
       " 'msvcrt',\n",
       " 'nt',\n",
       " 'parser',\n",
       " 'sys',\n",
       " 'time',\n",
       " 'winreg',\n",
       " 'xxsubtype',\n",
       " 'zipimport',\n",
       " 'zlib')"
      ]
     },
     "execution_count": 2,
     "metadata": {},
     "output_type": "execute_result"
    }
   ],
   "source": [
    "import sys\n",
    "sys.builtin_module_names"
   ]
  },
  {
   "cell_type": "markdown",
   "metadata": {},
   "source": [
    "48 - Write a Python program to get the size of an object in bytes."
   ]
  },
  {
   "cell_type": "code",
   "execution_count": 1,
   "metadata": {},
   "outputs": [
    {
     "data": {
      "text/plain": [
       "59"
      ]
     },
     "execution_count": 1,
     "metadata": {},
     "output_type": "execute_result"
    }
   ],
   "source": [
    "x = 'Mu Hu HAhu'\n",
    "\n",
    "import sys\n",
    "sys.getsizeof(x)"
   ]
  },
  {
   "cell_type": "markdown",
   "metadata": {},
   "source": [
    "49 - Write a Python program to concatenate 4 given strings."
   ]
  },
  {
   "cell_type": "code",
   "execution_count": 72,
   "metadata": {},
   "outputs": [
    {
     "name": "stdout",
     "output_type": "stream",
     "text": [
      "AEED\n"
     ]
    }
   ],
   "source": [
    "print('A' + 'E' + 'E' + 'D')"
   ]
  },
  {
   "cell_type": "markdown",
   "metadata": {},
   "source": [
    "50 - Write a Python program to check if a string is numeric (all it’s values are numeric)."
   ]
  },
  {
   "cell_type": "code",
   "execution_count": 5,
   "metadata": {},
   "outputs": [
    {
     "name": "stdout",
     "output_type": "stream",
     "text": [
      "Enter a string: 15248\n",
      "Is string numeric: True\n"
     ]
    }
   ],
   "source": [
    "a = input('Enter a string: ')\n",
    "\n",
    "print('Is string numeric:', a.isdigit())"
   ]
  },
  {
   "cell_type": "markdown",
   "metadata": {},
   "source": [
    "51 - Write a Python program to clear the screen or terminal."
   ]
  },
  {
   "cell_type": "code",
   "execution_count": 19,
   "metadata": {},
   "outputs": [],
   "source": [
    "def clean():\n",
    "    \"\"\"\n",
    "    Clears the console\n",
    "    \"\"\"\n",
    "    from os import system\n",
    "    import platform\n",
    "    \n",
    "    os_name = platform.system().lower()\n",
    "    if 'windows' in os_name:\n",
    "        system('cls')\n",
    "    else:\n",
    "        system('clear')\n",
    "\n",
    "        \n",
    "        \n",
    "\n",
    "clean()"
   ]
  },
  {
   "cell_type": "markdown",
   "metadata": {},
   "source": [
    "57 - Write a Python program to check if lowercase letters exist in a string."
   ]
  },
  {
   "cell_type": "code",
   "execution_count": 86,
   "metadata": {},
   "outputs": [
    {
     "name": "stdout",
     "output_type": "stream",
     "text": [
      "Enter a string: My Name Is Yazeed\n",
      "Number of lowers: 10\n"
     ]
    }
   ],
   "source": [
    "a = input('Enter a string: ')\n",
    "count = 0\n",
    "for latter in a:\n",
    "    if latter == latter.lower() and latter.isalpha():\n",
    "        count += 1\n",
    "print('Number of lowers:', count)"
   ]
  },
  {
   "cell_type": "markdown",
   "metadata": {},
   "source": [
    "63 - Write a Python function to find the maximum and minimum numbers from a sequence of\n",
    "numbers.\n",
    "\n",
    "Note: Do not use built-in functions."
   ]
  },
  {
   "cell_type": "code",
   "execution_count": 80,
   "metadata": {},
   "outputs": [
    {
     "name": "stdout",
     "output_type": "stream",
     "text": [
      "Enter a list of numbers: 80 910 15 12 45 13 54\n",
      "Max is: 910\n",
      "Min is: 12\n"
     ]
    }
   ],
   "source": [
    "ints = map(int, input('Enter a list of numbers: ').split())\n",
    "minn = float('inf')\n",
    "maxx = -float('inf')\n",
    "for item in ints:\n",
    "    if minn > item:\n",
    "        minn = item\n",
    "    if maxx < item:\n",
    "        maxx = item\n",
    "print('Max is:', maxx)\n",
    "print('Min is:', minn)"
   ]
  },
  {
   "cell_type": "markdown",
   "metadata": {},
   "source": [
    "Write a program to find the hight of a pyramid "
   ]
  },
  {
   "cell_type": "code",
   "execution_count": 10,
   "metadata": {},
   "outputs": [
    {
     "name": "stdout",
     "output_type": "stream",
     "text": [
      "Enter the number of blocks: 1\n",
      "The height of the pyramid: 1\n"
     ]
    }
   ],
   "source": [
    "blocks = int(input(\"Enter the number of blocks: \"))\n",
    "height = 0\n",
    "\n",
    "while blocks:\n",
    "    height += 1\n",
    "    blocks -= height\n",
    "    if blocks < 0:\n",
    "        height -= 1\n",
    "        break\n",
    "    \n",
    "\n",
    "print(\"The height of the pyramid:\", height)"
   ]
  },
  {
   "cell_type": "code",
   "execution_count": 11,
   "metadata": {},
   "outputs": [
    {
     "name": "stdout",
     "output_type": "stream",
     "text": [
      "Enter a natural non-negative number: 46\n",
      "23\n",
      "70\n",
      "35\n",
      "106\n",
      "53\n",
      "160\n",
      "80\n",
      "40\n",
      "20\n",
      "10\n",
      "5\n",
      "16\n",
      "8\n",
      "4\n",
      "2\n",
      "1\n",
      "Steps = 16\n"
     ]
    }
   ],
   "source": [
    "c1 = int(input(\"Enter a natural non-negative number: \"))\n",
    "\n",
    "count = 0\n",
    "\n",
    "while c1 != 1:\n",
    "    count += 1\n",
    "    if c1 % 2:\n",
    "        c1 = 3 * c1 + 1\n",
    "    else:\n",
    "        c1 //= 2\n",
    "    print(c1)\n",
    "\n",
    "print(\"Steps =\", count)"
   ]
  },
  {
   "cell_type": "code",
   "execution_count": 51,
   "metadata": {},
   "outputs": [
    {
     "name": "stdout",
     "output_type": "stream",
     "text": [
      "[2, 4, 6, 8, 10]\n"
     ]
    }
   ],
   "source": [
    "# bubble sort\n",
    "swapped = True\n",
    "myList = [8, 10, 6, 2, 4] # list to sort\n",
    "\n",
    "while swapped:\n",
    "    swapped = False\n",
    "    for i in range(len(myList) - 1):\n",
    "        if myList[i] > myList[i+1]: # change the operator > with < to sort in revarce order\n",
    "            swapped = True\n",
    "            myList[i], myList[i+1] = myList[i+1], myList[i] \n",
    "print(myList)"
   ]
  },
  {
   "cell_type": "code",
   "execution_count": 11,
   "metadata": {},
   "outputs": [
    {
     "name": "stdout",
     "output_type": "stream",
     "text": [
      "1900 ->OK\n",
      "2000 ->OK\n",
      "2016 ->OK\n",
      "1987 ->OK\n"
     ]
    }
   ],
   "source": [
    "def isYearLeap(year):\n",
    "    leap = False\n",
    "    \n",
    "    if year % 4:\n",
    "        pass\n",
    "    elif year % 100:\n",
    "        leap = True\n",
    "    elif year % 400:\n",
    "        pass\n",
    "    else:\n",
    "        leap = True\n",
    "\n",
    "    return leap\n",
    "\n",
    "\n",
    "testData = [1900, 2000, 2016, 1987]\n",
    "testResults = [False, True, True, False]\n",
    "for i in range(len(testData)):\n",
    "    yr = testData[i]\n",
    "    print(yr,\"->\",end=\"\")\n",
    "    result = isYearLeap(yr)\n",
    "    if result == testResults[i]:\n",
    "        print(\"OK\")\n",
    "    else:\n",
    "        print(\"Failed\")"
   ]
  },
  {
   "cell_type": "code",
   "execution_count": null,
   "metadata": {},
   "outputs": [],
   "source": [
    "def ftintom(ft, inch = 0.0):\n",
    "    return ft * 0.3048 + inch * 0.0254\n",
    "\n",
    "\n",
    "def lbstokg(lb):\n",
    "    return lb * 0.45359237\n",
    "\n",
    "\n",
    "def bmi(weight, height):\n",
    "    if height < 1.0 or height > 2.5 or \\\n",
    "    weight < 20 or weight > 200:\n",
    "        return None\n",
    "    \n",
    "    return weight / height ** 2\n",
    "\n",
    "\n",
    "print(bmi(weight = lbstokg(176), height = ftintom(5, 7)))"
   ]
  },
  {
   "cell_type": "code",
   "execution_count": null,
   "metadata": {},
   "outputs": [],
   "source": [
    "schoolClass = {}\n",
    "\n",
    "while True:\n",
    "    name = input(\"Enter the student's name (or type exit to stop): \")\n",
    "    if name == 'exit':\n",
    "        break\n",
    "    \n",
    "    score = int(input(\"Enter the student's score (0-10): \"))\n",
    "    \n",
    "    if name in schoolClass:\n",
    "        schoolClass[name] += (score,)\n",
    "    else:\n",
    "        schoolClass[name] = (score,)\n",
    "        \n",
    "for name in sorted(schoolClass.keys()):\n",
    "    sum = 0\n",
    "    counter = 0\n",
    "    for score in schoolClass[name]:\n",
    "        sum += score\n",
    "        counter += 1\n",
    "    print(name, \":\", sum / counter)"
   ]
  },
  {
   "cell_type": "code",
   "execution_count": null,
   "metadata": {},
   "outputs": [],
   "source": [
    "def readint(prompt, min, max):\n",
    "    while True:\n",
    "        try:\n",
    "            x = int(input())\n",
    "            if x > 10 or x < -10:\n",
    "                print('Error: the value is not within permitted range (min..max)')\n",
    "            else:\n",
    "                return x\n",
    "        except ValueError:\n",
    "            print('Error: wrong input')\n",
    "\n",
    "v = readint(\"Enter a number from -10 to 10: \", -10, 10)\n",
    "\n",
    "print(\"The number is:\", v)"
   ]
  },
  {
   "cell_type": "code",
   "execution_count": null,
   "metadata": {},
   "outputs": [],
   "source": [
    "d1 = {'Adam Smith':'A', 'Judy Paxton':'B+'}\n",
    "d2 = {'Mary Louis':'A', 'Patrick White':'C'}\n",
    "d3 = {}\n",
    "\n",
    "for item in (d1, d2):\n",
    "    d3.update(item)\n",
    "\n",
    "print(d3)"
   ]
  },
  {
   "cell_type": "code",
   "execution_count": null,
   "metadata": {},
   "outputs": [],
   "source": [
    "trip = ' ### '\n",
    "sing = ' #   '\n",
    "sing2 = '   # '\n",
    "doub = ' # # '\n",
    "\n",
    "drow = input('Enter your number: ')\n",
    "count = 0\n",
    "while count < 5:\n",
    "    temp = ''\n",
    "    for i in drow:\n",
    "        if i == '0':\n",
    "            temp += trip if count == 0 or count == 4 else doub\n",
    "        if i == '1':\n",
    "            temp += sing2\n",
    "        if i == '2':\n",
    "            temp += trip if count%2 == 0 else sing2 if count == 1 else sing\n",
    "        if i == '3':\n",
    "            temp += sing2 if count%2 else trip\n",
    "        if i == \"4\":\n",
    "            temp += doub if count < 2 else trip if count == 2 else sing2\n",
    "        if i == '5':\n",
    "            temp += trip if count%2 == 0 else sing if count == 1 else sing2\n",
    "        if i == '6':\n",
    "            temp += trip if count%2 == 0 else sing if count == 1 else doub\n",
    "        if i == '7':\n",
    "            temp += trip if count == 0 else sing2\n",
    "        if i == '8':\n",
    "            temp += doub if count%2 else trip\n",
    "        if i == '9':\n",
    "            temp += trip if count%2 == 0 else doub if count == 1 else sing2\n",
    "    count += 1\n",
    "    print(temp)"
   ]
  },
  {
   "cell_type": "code",
   "execution_count": 96,
   "metadata": {},
   "outputs": [
    {
     "name": "stdout",
     "output_type": "stream",
     "text": [
      "The key were: 2\n",
      "Enter your message: abcxyzABCxyz 123\n",
      "cdezabCDEzab 123"
     ]
    }
   ],
   "source": [
    "key = int(input('The key were: '))\n",
    "\n",
    "upper_alpha = 'ABCDEFGHIJKLMNOPKRSTUVWXYZ'\n",
    "cipher_upper_alpha =  upper_alpha[key:] + upper_alpha[:key]\n",
    "\n",
    "lower_alpha = upper_alpha.lower()\n",
    "cipher_lower_alpha =  lower_alpha[key:] + lower_alpha[:key]\n",
    "\n",
    "text = input(\"Enter your message: \")\n",
    "\n",
    "for char in text:\n",
    "    if not char.isalpha():\n",
    "        print(char, end='')\n",
    "        continue\n",
    "    if char.isupper():\n",
    "        print(cipher_upper_alpha[upper_alpha.find(char)], end='')\n",
    "    else:\n",
    "        print(cipher_lower_alpha[lower_alpha.find(char)], end='')"
   ]
  },
  {
   "cell_type": "code",
   "execution_count": 90,
   "metadata": {},
   "outputs": [
    {
     "name": "stdout",
     "output_type": "stream",
     "text": [
      "The key were: 1\n",
      "Enter your message: BWFDBFTBS\n",
      "AVECAESAR"
     ]
    }
   ],
   "source": [
    "key = int(input('The key were: '))\n",
    "\n",
    "upper_alpha = 'ABCDEFGHIJKLMNOPKRSTUVWXYZ'\n",
    "cipher_upper_alpha =  upper_alpha[key:] + upper_alpha[:key]\n",
    "\n",
    "lower_alpha = upper_alpha.lower()\n",
    "cipher_lower_alpha =  lower_alpha[key:] + lower_alpha[:key]\n",
    "\n",
    "text = input(\"Enter your message: \")\n",
    "\n",
    "for char in text:\n",
    "    if not char.isalpha():\n",
    "        print(char, end='')\n",
    "        continue\n",
    "    if char.isupper():\n",
    "        print(upper_alpha[cipher_upper_alpha.find(char)], end='')\n",
    "    else:\n",
    "        print(lower_alpha[cipher_lower_alpha.find(char)], end='')"
   ]
  },
  {
   "cell_type": "code",
   "execution_count": null,
   "metadata": {},
   "outputs": [],
   "source": [
    "def isLengthValid(iban, min_length_iban = 15, max_length_iban = 31):\n",
    "    if len(iban) < min_length_iban:\n",
    "        print(\"IBAN entered is too short.\")\n",
    "        return False \n",
    "    elif len(iban) > max_length_iban:\n",
    "        print(\"IBAN entered is too long.\")\n",
    "        return False\n",
    "\n",
    "def isIbanValid(iban):\n",
    "    iban = iban.replace(' ','')\n",
    "    if not iban.isalnum() and not isLengthValid(iban):\n",
    "        print(\"You have entered invalid characters.\")\n",
    "        return False\n",
    "    else:\n",
    "        iban = (iban[4:] + iban[0:4]).upper()\n",
    "        iban2 = ''\n",
    "        for ch in iban:\n",
    "            if ch.isdigit():\n",
    "                iban2 += ch\n",
    "            else:\n",
    "                iban2 += str(10 + ord(ch) - ord('A'))\n",
    "        ibann = int(iban2)\n",
    "        if ibann % 97 == 1:\n",
    "            print(\"IBAN entered is valid.\")\n",
    "            return True\n",
    "        else:\n",
    "            print(\"IBAN entered is invalid.\")\n",
    "            return False\n",
    "        \n",
    "iban = input(\"Enter IBAN, please: \")\n",
    "isIbanValid(iban)"
   ]
  },
  {
   "cell_type": "code",
   "execution_count": 101,
   "metadata": {},
   "outputs": [
    {
     "data": {
      "text/plain": [
       "False"
      ]
     },
     "execution_count": 101,
     "metadata": {},
     "output_type": "execute_result"
    }
   ],
   "source": [
    "def isPalendrom(word):\n",
    "    temp = word.replace(' ', '').upper()\n",
    "    return temp == temp[::-1]\n",
    "\n",
    "isPalendrom('Ten animals I slam in a net')\n",
    "isPalendrom('Eleven animals I slam in a net')"
   ]
  },
  {
   "cell_type": "code",
   "execution_count": 102,
   "metadata": {},
   "outputs": [
    {
     "name": "stdout",
     "output_type": "stream",
     "text": [
      "Anagrams\n",
      "Not anagrams\n"
     ]
    },
    {
     "data": {
      "text/plain": [
       "False"
      ]
     },
     "execution_count": 102,
     "metadata": {},
     "output_type": "execute_result"
    }
   ],
   "source": [
    "def isAnagram(word, word2):\n",
    "    temp = word.replace(' ', '').upper()\n",
    "    for char in temp:\n",
    "        if char not in word2.upper():\n",
    "            print('Not anagrams')\n",
    "            return False\n",
    "        \n",
    "    print('Anagrams')\n",
    "    return True\n",
    "\n",
    "isAnagram('Listen', 'Silent')\n",
    "isAnagram('modern', 'norman')"
   ]
  },
  {
   "cell_type": "code",
   "execution_count": null,
   "metadata": {},
   "outputs": [],
   "source": [
    "date = input('Enter you berthday date (YYYY-MM-DD, or YYYY-DD-MM, or MM-DD-YYYY): ').replace('-', '').strip()\n",
    "x = 0\n",
    "while len(date) != 1: \n",
    "    for num in date:\n",
    "        x += int(num)\n",
    "    date = str(x)\n",
    "    x = 0\n",
    "print('Digit of Life is:', date)"
   ]
  },
  {
   "cell_type": "code",
   "execution_count": 123,
   "metadata": {},
   "outputs": [
    {
     "name": "stdout",
     "output_type": "stream",
     "text": [
      "Enter your word: donut\n",
      "Enter your compination text: Nabucodonosor\n",
      "NO\n"
     ]
    }
   ],
   "source": [
    "word = input(\"Enter your word: \")\n",
    "text = input(\"Enter your compination text: \")\n",
    "\n",
    "def isIn(word, text):\n",
    "    if len(word) == 0 or len(text) == 0:\n",
    "        return False\n",
    "    \n",
    "    if word in text:\n",
    "        return True\n",
    "    \n",
    "    for lat in word:\n",
    "        if lat not in text:\n",
    "            return False\n",
    "    return True\n",
    "\n",
    "\n",
    "pos = text.find(word[0])\n",
    "poses = [pos]\n",
    "for i in word[1:]:\n",
    "    pos = text.find(i, pos)\n",
    "    poses.append(pos)\n",
    "    pos += 1\n",
    "\n",
    "\n",
    "if not isIn(word, text):\n",
    "    print('NO')\n",
    "elif poses == list(sorted(poses)):\n",
    "    print('YES')\n",
    "else:\n",
    "    print('NO')"
   ]
  },
  {
   "cell_type": "code",
   "execution_count": null,
   "metadata": {},
   "outputs": [],
   "source": [
    "# x = '''195743862\n",
    "# 431865927\n",
    "# 876192543\n",
    "# 387459216\n",
    "# 612387495\n",
    "# 549216738\n",
    "# 763524189\n",
    "# 928671354\n",
    "# 254938671'''.split('\\n') # false\n",
    "\n",
    "x = '''295743861\n",
    "431865927\n",
    "876192543\n",
    "387459216\n",
    "612387495\n",
    "549216738\n",
    "763524189\n",
    "928671354\n",
    "154938672'''.split('\\n') # true\n",
    "\n",
    "\n",
    "# rows = []\n",
    "# for i in range(9):\n",
    "#     rows.append(input(f'Enter the Sodoko row number {i+1}: '))\n",
    "\n",
    "def rowValdiation(lst, row):\n",
    "    for num in range(1,10):\n",
    "        if lst[row].count(str(num)) != 1:\n",
    "            return False\n",
    "    return True\n",
    "\n",
    "def colValdiation(lst, col):\n",
    "    for num in range(1,10):\n",
    "        count = 0\n",
    "        for row in lst:\n",
    "            if str(num) == row[col]:\n",
    "                count += 1\n",
    "        if count != 1:\n",
    "            return False\n",
    "    return True\n",
    "        \n",
    "# def diagonalValdiation(lst):\n",
    "#     for num in range(1,10):\n",
    "#         count = 0\n",
    "#         for row in lst:\n",
    "#             if num == lst[num-1][num-1]:\n",
    "#                 count += 1\n",
    "#             if count != 1:\n",
    "#                 return False\n",
    "#         return True\n",
    "    \n",
    "# def inverseDiagonalValdiation(lst):\n",
    "#     for num in range(1,10):\n",
    "#         count = 0\n",
    "#         for row in lst:\n",
    "#             if num == lst[9 - num - 1][num-1]:\n",
    "#                 count += 1\n",
    "#             if count != 1:\n",
    "#                 return False\n",
    "#         return True\n",
    "\n",
    "def squareValdiation(lst, square_num):\n",
    "    minn, maxx = square_num*3, square_num*3 + 3\n",
    "    for num in range(1,10):\n",
    "        count = 0\n",
    "        for row in range(minn, maxx):\n",
    "            for col in range(minn, maxx):\n",
    "                if str(num) == lst[row][col]:\n",
    "                    count += 1\n",
    "        if count != 1:\n",
    "            return False\n",
    "    return True\n",
    "\n",
    "\n",
    "\n",
    "\n",
    "valid = rowValdiation(x, 0) and colValdiation(x, 0)\n",
    "\n",
    "for i in range(1, 9):\n",
    "    valid = rowValdiation(x, i) and colValdiation(x, i) and valid\n",
    "    if i % 3 == 0:\n",
    "        valid = valid and squareValdiation(x, i//3)\n",
    "valid"
   ]
  },
  {
   "cell_type": "code",
   "execution_count": null,
   "metadata": {},
   "outputs": [],
   "source": [
    "class Stack:\n",
    "    def __init__(self):\n",
    "        self.__stackList = []\n",
    "\n",
    "    def push(self, val):\n",
    "        self.__stackList.append(val)\n",
    "\n",
    "    def pop(self):\n",
    "        val = self.__stackList[-1]\n",
    "        del self.__stackList[-1]\n",
    "        return val\n",
    "\n",
    "\n",
    "class AddingStack(Stack):\n",
    "    def __init__(self):\n",
    "        Stack.__init__(self)\n",
    "        self.__sum = 0\n",
    "\n",
    "    def getSum(self):\n",
    "        return self.__sum\n",
    "\n",
    "    def push(self, val):\n",
    "        self.__sum += val\n",
    "        Stack.push(self, val)\n",
    "\n",
    "    def pop(self):\n",
    "        val = Stack.pop(self)\n",
    "        self.__sum -= val\n",
    "        return val\n",
    "\n",
    "\n",
    "stackObject = AddingStack()\n",
    "\n",
    "for i in range(5):\n",
    "    stackObject.push(i)\n",
    "print(stackObject.getSum())\n",
    "\n",
    "for i in range(5):\n",
    "    print(stackObject.pop())"
   ]
  },
  {
   "cell_type": "code",
   "execution_count": null,
   "metadata": {},
   "outputs": [],
   "source": [
    "class PizzaError(Exception):\n",
    "    def __init__(self, pizza='uknown', message=''):\n",
    "        Exception.__init__(self, message)\n",
    "        self.pizza = pizza\n",
    "\n",
    "\n",
    "class TooMuchCheeseError(PizzaError):\n",
    "    def __init__(self, pizza='uknown', cheese='> 100', message='\"too much cheese\"'):\n",
    "        PizzaError.__init__(self, pizza, message)\n",
    "        self.cheese = cheese\n",
    "\n",
    "\n",
    "def makePizza(pizza, cheese):\n",
    "    if pizza not in ['margherita', 'capricciosa', 'calzone']:\n",
    "        raise PizzaError(pizza, \"no such pizza on the menu\")\n",
    "    if cheese > 100:\n",
    "        raise TooMuchCheeseError(pizza, cheese)\n",
    "    print(\"Pizza ready!\")\n",
    "\n",
    "\n",
    "for (pz, ch) in [('calzone', 0), ('margherita', 110), ('mafia', 20)]:\n",
    "    try:\n",
    "        makePizza(pz, ch)\n",
    "    except TooMuchCheeseError as tmce:\n",
    "        print(tmce, ':', tmce.pizza, ':', tmce.cheese)\n",
    "    except PizzaError as pe:\n",
    "        print(pe, ':', pe.pizza)"
   ]
  },
  {
   "cell_type": "code",
   "execution_count": null,
   "metadata": {},
   "outputs": [],
   "source": [
    "def printExcTree(thisclass, nest = 0):\n",
    "    if nest > 1:\n",
    "        print(\"   |\" * (nest - 1), end=\"\")\n",
    "    if nest > 0:\n",
    "        print(\"   +---\", end=\"\")\n",
    "\n",
    "    print(thisclass.__name__)\n",
    "\n",
    "    for subclass in thisclass.__subclasses__():\n",
    "        printExcTree(subclass, nest + 1)\n",
    "\n",
    "printExcTree(BaseException)\n"
   ]
  },
  {
   "cell_type": "code",
   "execution_count": 24,
   "metadata": {},
   "outputs": [
    {
     "name": "stdout",
     "output_type": "stream",
     "text": [
      "__init__\n",
      "__iter__\n",
      "__next__\n",
      "1\n",
      "__next__\n",
      "1\n",
      "__next__\n",
      "2\n",
      "__next__\n",
      "3\n",
      "__next__\n",
      "5\n",
      "__next__\n",
      "8\n",
      "__next__\n",
      "13\n",
      "__next__\n",
      "21\n",
      "__next__\n",
      "34\n",
      "__next__\n",
      "55\n",
      "__next__\n"
     ]
    }
   ],
   "source": [
    "class Fib:\n",
    "    def __init__(self, nn):\n",
    "        print(\"__init__\")\n",
    "        self.__n = nn\n",
    "        self.__i = 0\n",
    "        self.__p1 = self.__p2 = 1\n",
    "\n",
    "    def __iter__(self):\n",
    "        print(\"__iter__\")\n",
    "        return self\n",
    "\n",
    "    def __next__(self):\n",
    "        print(\"__next__\")\n",
    "        self.__i += 1\n",
    "        if self.__i > self.__n:\n",
    "            raise StopIteration\n",
    "        if self.__i in [1, 2]:\n",
    "            return 1\n",
    "        ret = self.__p1 + self.__p2\n",
    "        self.__p1, self.__p2 = self.__p2, ret\n",
    "        return ret\n",
    "\n",
    "for i in Fib(10):\n",
    "    print(i)"
   ]
  },
  {
   "cell_type": "code",
   "execution_count": 156,
   "metadata": {},
   "outputs": [],
   "source": [
    "def Fib(n):\n",
    "    p = pp = 1\n",
    "    for i in range(n):\n",
    "        if i in [0, 1]:\n",
    "            yield 1\n",
    "        else:\n",
    "            n = p + pp\n",
    "            pp, p = p, n\n",
    "            yield n\n",
    "\n",
    "fibs = list(Fib(10))\n",
    "\n",
    "print(fibs)\n"
   ]
  },
  {
   "cell_type": "code",
   "execution_count": null,
   "metadata": {},
   "outputs": [],
   "source": [
    "from os import strerror\n",
    "\n",
    "srcname = input(\"Source file name?: \").replace('\\\\','\\\\') # single \\ becomes double \\ ( \\ --> \\\\)\n",
    "try:\n",
    "    src = open(srcname, 'rb')\n",
    "except IOError as e:\n",
    "    print(\"Cannot open source file: \", strerror(e.errno))\n",
    "    exit(e.errno)\n",
    "    \n",
    "    \n",
    "dstname = input(\"Destination file name?: \").replace('\\\\','\\\\')\n",
    "try:\n",
    "    dst = open(dstname, 'wb')\n",
    "except Exception as e:\n",
    "    print(\"Cannot create destination file: \", strerr(e.errno))\n",
    "    src.close()\n",
    "    exit(e.errno)\n",
    "    \n",
    "    \n",
    "\n",
    "buffer = bytearray(65536)\n",
    "total  = 0\n",
    "try:\n",
    "    readin = src.readinto(buffer)\n",
    "    while readin > 0:\n",
    "        written = dst.write(buffer[:readin])\n",
    "        total += written\n",
    "        readin = src.readinto(buffer)\n",
    "except IOError as e:\n",
    "    print(\"Cannot create destination file: \", strerr(e.errno))\n",
    "    exit(e.errno)\n",
    "    \n",
    "    \n",
    "\n",
    "    \n",
    "print(total,'byte(s) succesfully written')\n",
    "src.close()\n",
    "dst.close()"
   ]
  },
  {
   "cell_type": "code",
   "execution_count": 106,
   "metadata": {},
   "outputs": [
    {
     "name": "stdout",
     "output_type": "stream",
     "text": [
      "Source file name?: C:\\Users\\yazee\\Desktop\\PCAP\\HowAreYou\\ab.txt\n",
      "Each char count is: \n",
      " {'o': 48, 'v': 48, 'e': 96, 'r': 96, 'w': 48, 'i': 48, 't': 48, '\\n': 43, 'h': 115, 'a': 115}\n"
     ]
    }
   ],
   "source": [
    "from os import strerror\n",
    "\n",
    "srcname = input(\"Source file name?: \").replace('\\\\','\\\\') # single \\ becomes double \\ ( \\ --> \\\\)\n",
    "try:\n",
    "    src = open(srcname, 'r')\n",
    "    data = src.read().lower()\n",
    "    src.close()\n",
    "except IOError as e:\n",
    "    print(\"Cannot open source file: \", strerror(e.errno))\n",
    "    exit(e.errno)\n",
    "    \n",
    "counts = {}\n",
    "\n",
    "for char in data:\n",
    "    if char in counts:\n",
    "        counts[char] += 1\n",
    "    else:\n",
    "        counts[char] = 1\n",
    "\n",
    "print('Each char count is: \\n', counts)\n",
    "\n",
    "dstname = srcname+'.hist'\n",
    "try:\n",
    "    dst = open(dstname, 'w')\n",
    "except Exception as e:\n",
    "    print(\"Cannot create destination file: \", strerr(e.errno))\n",
    "    src.close()\n",
    "    exit(e.errno)\n",
    "    \n",
    "\n",
    "for char, count in dict(sorted(counts.items(), key=lambda x: x[-1], reverse=True)).items():\n",
    "    dst.write(char + ' ')\n",
    "    dst.write(str(count) + '\\n')\n",
    "\n",
    "src.close()"
   ]
  },
  {
   "cell_type": "code",
   "execution_count": 22,
   "metadata": {},
   "outputs": [
    {
     "name": "stdout",
     "output_type": "stream",
     "text": [
      "[9, 2, -8, -4, 1]\n",
      "[]\n"
     ]
    }
   ],
   "source": [
    "from random import seed, randint\n",
    "\n",
    "seed()\n",
    "data = [ randint(-10,10) for x in range(5) ]\n",
    "filtered = list(filter(lambda x: None, data))\n",
    "print(data)\n",
    "print(filtered)"
   ]
  },
  {
   "cell_type": "code",
   "execution_count": 3,
   "metadata": {},
   "outputs": [
    {
     "name": "stdout",
     "output_type": "stream",
     "text": [
      "{'x': 1, '_ExampleClass__first': 1}\n",
      "{'x': 1, '_ExampleClass__first': 2, '_ExampleClass__second': 3}\n",
      "{'x': 1, '_ExampleClass__first': 4, '__third': 5}\n",
      "5\n",
      "{'x': 1, '_ExampleClass__first': 5}\n"
     ]
    }
   ],
   "source": [
    "class ExampleClass:\n",
    "    def __init__(self, val = 1):\n",
    "        self.x = 1\n",
    "        self.__first = val\n",
    "\n",
    "    def setSecond(self, val = 2):\n",
    "        self.__second = val\n",
    "\n",
    "    def getf(self):\n",
    "        return self.__first\n",
    "\n",
    "\n",
    "exampleObject1 = ExampleClass()\n",
    "exampleObject2 = ExampleClass(2)\n",
    "\n",
    "exampleObject2.setSecond(3)\n",
    "\n",
    "exampleObject3 = ExampleClass(4)\n",
    "exampleObject3.__third = 5\n",
    "\n",
    "\n",
    "print(exampleObject1.__dict__)\n",
    "print(exampleObject2.__dict__)\n",
    "print(exampleObject3.__dict__)\n",
    "exampleObject1._ExampleClass__first = 5\n",
    "print(exampleObject1.getf())\n",
    "print(exampleObject1.__dict__)"
   ]
  },
  {
   "cell_type": "code",
   "execution_count": 17,
   "metadata": {},
   "outputs": [
    {
     "name": "stdout",
     "output_type": "stream",
     "text": [
      "{'_ExampleClass__first': 1} 3\n",
      "{'_ExampleClass__first': 2} 3\n",
      "{'_ExampleClass__first': 4} 3\n"
     ]
    }
   ],
   "source": [
    "class ExampleClass:\n",
    "    counter = 0\n",
    "    def __init__(self, val = 1):\n",
    "        self.__first = val\n",
    "        ExampleClass.counter += 1\n",
    "\n",
    "exampleObject1 = ExampleClass()\n",
    "exampleObject2 = ExampleClass(2)\n",
    "exampleObject3 = ExampleClass(4)\n",
    "print(exampleObject1.__dict__, ExampleClass.counter)\n",
    "print(exampleObject2.__dict__, exampleObject2.counter)\n",
    "print(exampleObject3.__dict__, exampleObject3.counter)"
   ]
  },
  {
   "cell_type": "code",
   "execution_count": 21,
   "metadata": {},
   "outputs": [
    {
     "ename": "AttributeError",
     "evalue": "type object 'ExampleClass' has no attribute '__counter'",
     "output_type": "error",
     "traceback": [
      "\u001b[1;31m---------------------------------------------------------------------------\u001b[0m",
      "\u001b[1;31mAttributeError\u001b[0m                            Traceback (most recent call last)",
      "\u001b[1;32m<ipython-input-21-4cfbebd8acf2>\u001b[0m in \u001b[0;36m<module>\u001b[1;34m\u001b[0m\n\u001b[0;32m      9\u001b[0m \u001b[0mexampleObject3\u001b[0m \u001b[1;33m=\u001b[0m \u001b[0mExampleClass\u001b[0m\u001b[1;33m(\u001b[0m\u001b[1;36m4\u001b[0m\u001b[1;33m)\u001b[0m\u001b[1;33m\u001b[0m\u001b[1;33m\u001b[0m\u001b[0m\n\u001b[0;32m     10\u001b[0m \u001b[1;33m\u001b[0m\u001b[0m\n\u001b[1;32m---> 11\u001b[1;33m \u001b[0mprint\u001b[0m\u001b[1;33m(\u001b[0m\u001b[0mexampleObject1\u001b[0m\u001b[1;33m.\u001b[0m\u001b[0m__dict__\u001b[0m\u001b[1;33m,\u001b[0m \u001b[0mExampleClass\u001b[0m\u001b[1;33m.\u001b[0m\u001b[0m__counter\u001b[0m\u001b[1;33m)\u001b[0m\u001b[1;33m\u001b[0m\u001b[1;33m\u001b[0m\u001b[0m\n\u001b[0m\u001b[0;32m     12\u001b[0m \u001b[0mprint\u001b[0m\u001b[1;33m(\u001b[0m\u001b[0mexampleObject2\u001b[0m\u001b[1;33m.\u001b[0m\u001b[0m__dict__\u001b[0m\u001b[1;33m,\u001b[0m \u001b[0mexampleObject2\u001b[0m\u001b[1;33m.\u001b[0m\u001b[0m__counter\u001b[0m\u001b[1;33m)\u001b[0m\u001b[1;33m\u001b[0m\u001b[1;33m\u001b[0m\u001b[0m\n\u001b[0;32m     13\u001b[0m \u001b[0mprint\u001b[0m\u001b[1;33m(\u001b[0m\u001b[0mexampleObject3\u001b[0m\u001b[1;33m.\u001b[0m\u001b[0m__dict__\u001b[0m\u001b[1;33m,\u001b[0m \u001b[0mexampleObject3\u001b[0m\u001b[1;33m.\u001b[0m\u001b[0m_ExampleClass__counter\u001b[0m\u001b[1;33m)\u001b[0m\u001b[1;33m\u001b[0m\u001b[1;33m\u001b[0m\u001b[0m\n",
      "\u001b[1;31mAttributeError\u001b[0m: type object 'ExampleClass' has no attribute '__counter'"
     ]
    }
   ],
   "source": [
    "class ExampleClass:\n",
    "    __counter = 0\n",
    "    def __init__(self, val = 1):\n",
    "        self.__first = val\n",
    "        ExampleClass.__counter += 1\n",
    "\n",
    "exampleObject1 = ExampleClass()\n",
    "exampleObject2 = ExampleClass(2)\n",
    "exampleObject3 = ExampleClass(4)\n",
    "\n",
    "print(exampleObject1.__dict__, ExampleClass.__counter)\n",
    "print(exampleObject2.__dict__, exampleObject2.__counter)\n",
    "print(exampleObject3.__dict__, exampleObject3._ExampleClass__counter)"
   ]
  },
  {
   "cell_type": "code",
   "execution_count": 19,
   "metadata": {},
   "outputs": [
    {
     "name": "stdout",
     "output_type": "stream",
     "text": [
      "{'var': 2}\n",
      "mappingproxy({'_Classy__hidden': <function Classy.__hidden at 0x0000028F4554E828>,\n",
      "              '__dict__': <attribute '__dict__' of 'Classy' objects>,\n",
      "              '__doc__': None,\n",
      "              '__init__': <function Classy.__init__ at 0x0000028F4554E948>,\n",
      "              '__module__': '__main__',\n",
      "              '__weakref__': <attribute '__weakref__' of 'Classy' objects>,\n",
      "              'method': <function Classy.method at 0x0000028F4554E558>,\n",
      "              'varia': 1})\n"
     ]
    }
   ],
   "source": [
    "from pprint import pprint\n",
    "class Classy:\n",
    "    varia = 1\n",
    "    def __init__(self):\n",
    "        self.var = 2\n",
    "\n",
    "    def method(self):\n",
    "        pass\n",
    "\n",
    "    def __hidden(self):\n",
    "        pass\n",
    "\n",
    "obj = Classy()\n",
    "\n",
    "print(obj.__dict__)\n",
    "pprint(Classy.__dict__)"
   ]
  },
  {
   "cell_type": "code",
   "execution_count": 18,
   "metadata": {},
   "outputs": [
    {
     "name": "stdout",
     "output_type": "stream",
     "text": [
      "( object )\n",
      "( object )\n",
      "( SuperOne SuperTwo )\n"
     ]
    }
   ],
   "source": [
    "class SuperOne:\n",
    "    pass\n",
    "\n",
    "class SuperTwo:\n",
    "    pass\n",
    "\n",
    "class Sub(SuperOne, SuperTwo):\n",
    "    pass\n",
    "\n",
    "\n",
    "def printBases(cls):\n",
    "    print('( ', end='')\n",
    "\n",
    "    for x in cls.__bases__:\n",
    "        print(x.__name__, end=' ')\n",
    "    print(')')\n",
    "\n",
    "\n",
    "printBases(SuperOne)\n",
    "printBases(SuperTwo)\n",
    "printBases(Sub)"
   ]
  },
  {
   "cell_type": "code",
   "execution_count": 17,
   "metadata": {},
   "outputs": [
    {
     "name": "stdout",
     "output_type": "stream",
     "text": [
      "{'_MyClass__abc': 5, 'a': 1, 'b': 2, 'i': 3, 'ireal': 3.5, 'integer': 4, 'z': 5, '__abc': 5}\n",
      "{'_MyClass__abc': 5, 'a': 1, 'b': 2, 'i': 4, 'ireal': 3.5, 'integer': 5, 'z': 5, '__abc': 5}\n"
     ]
    }
   ],
   "source": [
    "class MyClass:\n",
    "    def __init__(self):\n",
    "        self.__abc = 5\n",
    "    \n",
    "obj = MyClass()\n",
    "obj.a = 1\n",
    "obj.b = 2\n",
    "obj.i = 3\n",
    "obj.ireal = 3.5\n",
    "obj.integer = 4\n",
    "obj.z = 5\n",
    "setattr(obj, '__abc', 5)\n",
    "def incIntsI(obj):\n",
    "    for name in obj.__dict__.keys():\n",
    "        if name.startswith('i'):\n",
    "            val = getattr(obj, name)\n",
    "            if isinstance(val, int):\n",
    "                setattr(obj, name, val + 1)\n",
    "\n",
    "print(obj.__dict__)\n",
    "incIntsI(obj)\n",
    "print(obj.__dict__)"
   ]
  },
  {
   "cell_type": "code",
   "execution_count": 16,
   "metadata": {},
   "outputs": [
    {
     "name": "stdout",
     "output_type": "stream",
     "text": [
      "Hi ExampleClass\n",
      "Hi ExampleClass\n",
      "Hi ExampleClass\n"
     ]
    }
   ],
   "source": [
    "class ExampleClass:\n",
    "    counter = 0\n",
    "    def __init__(self, val = 1):\n",
    "        self.__first = val\n",
    "        ExampleClass.counter += 1\n",
    "    \n",
    "    def __str__(self):\n",
    "        return 'Hi ' + ExampleClass.__name__\n",
    "    def __repr__(self):\n",
    "        return {'A': 'a'}\n",
    "    \n",
    "exampleObject1 = ExampleClass()\n",
    "exampleObject2 = ExampleClass(2)\n",
    "exampleObject3 = ExampleClass(4)\n",
    "print(exampleObject1)\n",
    "print(exampleObject2)\n",
    "print(exampleObject3)"
   ]
  },
  {
   "cell_type": "code",
   "execution_count": 13,
   "metadata": {},
   "outputs": [
    {
     "name": "stdout",
     "output_type": "stream",
     "text": [
      "L LL RR Left\n",
      "Really!\n"
     ]
    }
   ],
   "source": [
    "class top:\n",
    "    def hoho(self):\n",
    "        print('Really!')\n",
    "        \n",
    "class Left(top):\n",
    "    var = \"L\"\n",
    "    varLeft = \"LL\"\n",
    "    def fun(self):\n",
    "        return \"Left\"\n",
    "\n",
    "\n",
    "class Right:\n",
    "    var = \"R\"\n",
    "    varRight = \"RR\"\n",
    "    def fun(self):\n",
    "        return \"Right\"\n",
    "    \n",
    "    def hoho(self):\n",
    "        print('WTF!')\n",
    "        \n",
    "        \n",
    "class Sub(Left, Right):\n",
    "    pass\n",
    "\n",
    "\n",
    "obj = Sub()\n",
    "\n",
    "print(obj.var, obj.varLeft, obj.varRight, obj.fun())\n",
    "obj.hoho()"
   ]
  },
  {
   "cell_type": "code",
   "execution_count": 14,
   "metadata": {},
   "outputs": [
    {
     "ename": "TypeError",
     "evalue": "Cannot create a consistent method resolution\norder (MRO) for bases A, B",
     "output_type": "error",
     "traceback": [
      "\u001b[1;31m---------------------------------------------------------------------------\u001b[0m",
      "\u001b[1;31mTypeError\u001b[0m                                 Traceback (most recent call last)",
      "\u001b[1;32m<ipython-input-14-7824d4625e28>\u001b[0m in \u001b[0;36m<module>\u001b[1;34m\u001b[0m\n\u001b[0;32m      8\u001b[0m     \u001b[1;32mpass\u001b[0m\u001b[1;33m\u001b[0m\u001b[1;33m\u001b[0m\u001b[0m\n\u001b[0;32m      9\u001b[0m \u001b[1;33m\u001b[0m\u001b[0m\n\u001b[1;32m---> 10\u001b[1;33m \u001b[1;32mclass\u001b[0m \u001b[0mD\u001b[0m\u001b[1;33m(\u001b[0m\u001b[0mA\u001b[0m\u001b[1;33m,\u001b[0m \u001b[0mB\u001b[0m\u001b[1;33m)\u001b[0m\u001b[1;33m:\u001b[0m\u001b[1;33m\u001b[0m\u001b[1;33m\u001b[0m\u001b[0m\n\u001b[0m\u001b[0;32m     11\u001b[0m     \u001b[1;32mpass\u001b[0m\u001b[1;33m\u001b[0m\u001b[1;33m\u001b[0m\u001b[0m\n\u001b[0;32m     12\u001b[0m \u001b[1;33m\u001b[0m\u001b[0m\n",
      "\u001b[1;31mTypeError\u001b[0m: Cannot create a consistent method resolution\norder (MRO) for bases A, B"
     ]
    }
   ],
   "source": [
    "class A:\n",
    "    pass\n",
    "\n",
    "class B(A):\n",
    "    pass\n",
    "\n",
    "class C(A):\n",
    "    pass\n",
    "\n",
    "class D(A, B):\n",
    "    pass\n",
    "\n",
    "d = D()"
   ]
  },
  {
   "cell_type": "code",
   "execution_count": 13,
   "metadata": {},
   "outputs": [
    {
     "name": "stdout",
     "output_type": "stream",
     "text": [
      "The error number is: 9\n"
     ]
    }
   ],
   "source": [
    "import errno\n",
    "try:\n",
    "    s = open('C:\\\\Users\\\\yazee\\\\Desktop\\\\PCAP\\\\HowAreYou\\\\ab.txt', \"rt\")\n",
    "    raise Exception\n",
    "    # actual processing goes here\n",
    "    s.close()\n",
    "except Exception as exc:\n",
    "    exc.errno = errno.EBADF\n",
    "    if exc.errno == errno.ENOENT:\n",
    "        print(\"The file doesn't exist.\")\n",
    "    elif exc.errno == errno.EMFILE:\n",
    "        print(\"You've opened too many files.\")\n",
    "    else:\n",
    "        print(\"The error number is:\", exc.errno)"
   ]
  },
  {
   "cell_type": "code",
   "execution_count": 11,
   "metadata": {},
   "outputs": [
    {
     "name": "stdout",
     "output_type": "stream",
     "text": [
      "I/O error occurred:  No such file or directory\n"
     ]
    }
   ],
   "source": [
    "import os \n",
    "try:\n",
    "    s = open('C:\\\\Users\\\\yazee\\\\Desktop\\\\PCAP\\\\HowAreYou\\\\ab', \"rt\")\n",
    "    s.seek(0)\n",
    "    ch = s.readline(50)\n",
    "    print(\"\\n\\nCharacters in file:\\n\", ch)\n",
    "    ch = s.readline(5)\n",
    "    print(\"\\n\\nCharacters in file:\\n\", ch)\n",
    "    s.close()\n",
    "except IOError as e:\n",
    "    print(\"I/O error occurred: \", os.strerror(e.errno))"
   ]
  },
  {
   "cell_type": "code",
   "execution_count": 28,
   "metadata": {},
   "outputs": [
    {
     "data": {
      "text/plain": [
       "<__main__.B at 0x125635254c8>"
      ]
     },
     "execution_count": 28,
     "metadata": {},
     "output_type": "execute_result"
    }
   ],
   "source": [
    "class A:\n",
    "    def __init__(self):\n",
    "        self.x = 5\n",
    "\n",
    "class B(A):\n",
    "    def __init__(self):\n",
    "        A.__init__(self)\n",
    "        self.x = self.x + 5\n",
    "\n",
    "B()"
   ]
  },
  {
   "cell_type": "code",
   "execution_count": 44,
   "metadata": {},
   "outputs": [
    {
     "name": "stdout",
     "output_type": "stream",
     "text": [
      "b\n"
     ]
    }
   ],
   "source": [
    "class A:\n",
    "    def a(self):\n",
    "        print('a')\n",
    "    pass\n",
    "\n",
    "class B:\n",
    "    def a(self):\n",
    "        print('b')\n",
    "    pass\n",
    "\n",
    "class C(B,A):\n",
    "    def c(self):\n",
    "        self.a()\n",
    "    pass\n",
    "\n",
    "o = C()\n",
    "o.c()"
   ]
  },
  {
   "cell_type": "code",
   "execution_count": 48,
   "metadata": {},
   "outputs": [
    {
     "name": "stdout",
     "output_type": "stream",
     "text": [
      "++++++"
     ]
    }
   ],
   "source": [
    "def I(n):\n",
    "    s = '+'\n",
    "    for i in range(n):\n",
    "        s += s\n",
    "        yield s\n",
    "\n",
    "for x in I(2):\n",
    "    print(x, end='')"
   ]
  },
  {
   "cell_type": "code",
   "execution_count": 23,
   "metadata": {},
   "outputs": [
    {
     "name": "stdout",
     "output_type": "stream",
     "text": [
      "abc"
     ]
    }
   ],
   "source": [
    "class A:\n",
    "    def __init__(self, v=2):\n",
    "        self.s = 'abc'\n",
    "        self.i = 0\n",
    "    \n",
    "    def __iter__(self):\n",
    "        return self\n",
    "    \n",
    "    def __next__(self):\n",
    "        if self.i == len(self.s):\n",
    "            raise StopIteration\n",
    "        v = self.s[self.i]\n",
    "        self.i += 1\n",
    "        return v\n",
    "        \n",
    "    \n",
    "\n",
    "for x in A():\n",
    "    print(x, end='')"
   ]
  },
  {
   "cell_type": "code",
   "execution_count": 25,
   "metadata": {},
   "outputs": [
    {
     "name": "stdout",
     "output_type": "stream",
     "text": [
      "1 2\n",
      "0\n"
     ]
    }
   ],
   "source": [
    "nums = list(map(int, input().split(' ')))\n",
    "for i in range(nums[1]):\n",
    "    if nums[0] % 10 == 0:\n",
    "        nums[0] //= 10\n",
    "    else:\n",
    "        nums[0] -= 1\n",
    "print(nums[0])"
   ]
  },
  {
   "cell_type": "code",
   "execution_count": null,
   "metadata": {},
   "outputs": [],
   "source": [
    "num_peop = input()\n",
    "nums = list(map(int, input().split(' ')))\n",
    "print('HARD' if 1 in nums else 'EASY')"
   ]
  },
  {
   "cell_type": "code",
   "execution_count": null,
   "metadata": {},
   "outputs": [],
   "source": [
    "p_num = int(input())\n",
    "summ = 0\n",
    "for i in range(p_num):\n",
    "    inp = input()\n",
    "    if 'Tetrahedron' == inp:\n",
    "        summ += 4\n",
    "    elif 'Cube' == inp:\n",
    "        summ += 6\n",
    "    elif 'Octahedron' == inp:\n",
    "        summ += 8\n",
    "    elif 'Dodecahedron' == inp:\n",
    "        summ += 12\n",
    "    else:\n",
    "        summ += 20\n",
    "print(summ)"
   ]
  },
  {
   "cell_type": "code",
   "execution_count": null,
   "metadata": {},
   "outputs": [],
   "source": [
    "num_peop = input()\n",
    "nums = list(map(int, input().split(' ')))\n",
    "\n",
    "def isPrime(x):\n",
    "    for i in range(3, 2, x):\n",
    "        if x % i == 0:\n",
    "            return False\n",
    "    return True\n",
    "\n",
    "for x in nums:\n",
    "    if x == 1 or (x % 2 == 0 and x > 4):\n",
    "        print('NO')\n",
    "    else:\n",
    "        import math\n",
    "        z = math.sqrt(x)\n",
    "        if z != int(z):\n",
    "            print('NO')\n",
    "        else:\n",
    "            if isPrime(int(z)):\n",
    "                print('YES')\n",
    "            else:\n",
    "                print('NO')"
   ]
  },
  {
   "cell_type": "code",
   "execution_count": null,
   "metadata": {},
   "outputs": [],
   "source": [
    "import math\n",
    "def primes_sieve2(limit):\n",
    "    a = [True] * limit                          \n",
    "    a[0] = a[1] = False\n",
    "\n",
    "    for (i, isprime) in enumerate(a):\n",
    "        if isprime:\n",
    "            yield i\n",
    "            for n in range(i*i, limit, i):     \n",
    "                a[n] = False\n",
    "\n",
    "num_peop = input()\n",
    "pri = set(primes_sieve2(10**6))\n",
    "\n",
    "for x in map(int, input().split(' ')):\n",
    "    if x == 1 :\n",
    "        print('NO')\n",
    "    elif (x % 2 == 0 and x != 4):\n",
    "        print('NO')\n",
    "    else:\n",
    "        z = math.sqrt(x)\n",
    "        if not z.is_integer():\n",
    "            print('NO')\n",
    "        else:\n",
    "            if z in pri:\n",
    "                print('YES')\n",
    "            else:\n",
    "                print('NO')"
   ]
  },
  {
   "cell_type": "code",
   "execution_count": null,
   "metadata": {},
   "outputs": [],
   "source": [
    "prop, tim = list(map(int,input().split(' ')))\n",
    "tim = 240 - tim\n",
    "count = 0\n",
    "while True:\n",
    "    if tim < 0 or prop < 0:\n",
    "        count -= 1\n",
    "        break\n",
    "    prop -= 1\n",
    "    count += 1\n",
    "    tim -= 5 * count\n",
    "print(count)"
   ]
  },
  {
   "cell_type": "code",
   "execution_count": null,
   "metadata": {},
   "outputs": [],
   "source": [
    "import functools\n",
    "def timer(func):\n",
    "    @functools.wraps(func)\n",
    "    def wrapper(*args, **kwargs):\n",
    "        import time\n",
    "        start = time.time()\n",
    "        x = func(*args, **kwargs)\n",
    "        end = time.time()\n",
    "        print(f'{func.__name__} Took {end - start} Time to excute')\n",
    "        return x\n",
    "    return wrapper"
   ]
  },
  {
   "cell_type": "code",
   "execution_count": null,
   "metadata": {},
   "outputs": [],
   "source": []
  },
  {
   "cell_type": "code",
   "execution_count": null,
   "metadata": {},
   "outputs": [],
   "source": []
  }
 ],
 "metadata": {
  "kernelspec": {
   "display_name": "Python 3",
   "language": "python",
   "name": "python3"
  },
  "language_info": {
   "codemirror_mode": {
    "name": "ipython",
    "version": 3
   },
   "file_extension": ".py",
   "mimetype": "text/x-python",
   "name": "python",
   "nbconvert_exporter": "python",
   "pygments_lexer": "ipython3",
   "version": "3.7.7"
  }
 },
 "nbformat": 4,
 "nbformat_minor": 2
}
