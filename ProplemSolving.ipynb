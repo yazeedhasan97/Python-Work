{
 "cells": [
  {
   "cell_type": "code",
   "execution_count": 7,
   "metadata": {},
   "outputs": [
    {
     "name": "stdout",
     "output_type": "stream",
     "text": [
      "1000000000 9\n",
      "1\n"
     ]
    }
   ],
   "source": [
    "nums = list(map(int, input().split(' ')))\n",
    "for i in range(nums[1]):\n",
    "    if nums[0] % 10 == 0:\n",
    "        nums[0] //= 10\n",
    "    else:\n",
    "        nums[0] -= 1\n",
    "print(nums[0])"
   ]
  },
  {
   "cell_type": "code",
   "execution_count": 8,
   "metadata": {},
   "outputs": [
    {
     "name": "stdout",
     "output_type": "stream",
     "text": [
      "3\n",
      "0 0 1\n",
      "HARD\n"
     ]
    }
   ],
   "source": [
    "num_peop = input()\n",
    "nums = list(map(int, input().split(' ')))\n",
    "print('HARD' if 1 in nums else 'EASY')"
   ]
  },
  {
   "cell_type": "code",
   "execution_count": 10,
   "metadata": {},
   "outputs": [
    {
     "name": "stdout",
     "output_type": "stream",
     "text": [
      "4\n",
      "Icosahedron\n",
      "Cube\n",
      "Tetrahedron\n",
      "Dodecahedron\n",
      "42\n"
     ]
    }
   ],
   "source": [
    "p_num = int(input())\n",
    "summ = 0\n",
    "for i in range(p_num):\n",
    "    inp = input()\n",
    "    if 'Tetrahedron' == inp:\n",
    "        summ += 4\n",
    "    elif 'Cube' == inp:\n",
    "        summ += 6\n",
    "    elif 'Octahedron' == inp:\n",
    "        summ += 8\n",
    "    elif 'Dodecahedron' == inp:\n",
    "        summ += 12\n",
    "    else:\n",
    "        summ += 20\n",
    "print(summ)"
   ]
  },
  {
   "cell_type": "code",
   "execution_count": 20,
   "metadata": {
    "scrolled": true
   },
   "outputs": [
    {
     "name": "stdout",
     "output_type": "stream",
     "text": [
      "999966000289\n",
      "999966000289\n",
      "YES\n"
     ]
    }
   ],
   "source": [
    "num_peop = input()\n",
    "nums = list(map(int, input().split(' ')))\n",
    "\n",
    "def isPrime(x):\n",
    "    for i in range(3, 2, x):\n",
    "        if x % i == 0:\n",
    "            return False\n",
    "    return True\n",
    "\n",
    "for x in nums:\n",
    "    if x == 1 or (x % 2 == 0 and x > 4):\n",
    "        print('NO')\n",
    "    else:\n",
    "        import math\n",
    "        z = math.sqrt(x)\n",
    "        if z != int(z):\n",
    "            print('NO')\n",
    "        else:\n",
    "            if isPrime(int(z)):\n",
    "                print('YES')\n",
    "            else:\n",
    "                print('NO')"
   ]
  },
  {
   "cell_type": "code",
   "execution_count": null,
   "metadata": {},
   "outputs": [],
   "source": [
    "import math\n",
    "def primes_sieve2(limit):\n",
    "    a = [True] * limit                          \n",
    "    a[0] = a[1] = False\n",
    "\n",
    "    for (i, isprime) in enumerate(a):\n",
    "        if isprime:\n",
    "            yield i\n",
    "            for n in range(i*i, limit, i):     \n",
    "                a[n] = False\n",
    "\n",
    "num_peop = input()\n",
    "pri = set(primes_sieve2(10**6))\n",
    "\n",
    "for x in map(int, input().split(' ')):\n",
    "    if x == 1 :\n",
    "        print('NO')\n",
    "    elif (x % 2 == 0 and x != 4):\n",
    "        print('NO')\n",
    "    else:\n",
    "        z = math.sqrt(x)\n",
    "        if not z.is_integer():\n",
    "            print('NO')\n",
    "        else:\n",
    "            if z in pri:\n",
    "                print('YES')\n",
    "            else:\n",
    "                print('NO')"
   ]
  },
  {
   "cell_type": "code",
   "execution_count": null,
   "metadata": {},
   "outputs": [],
   "source": [
    "prop, tim = list(map(int,input().split(' ')))\n",
    "tim = 240 - tim\n",
    "count = 0\n",
    "while True:\n",
    "    if tim < 0 or prop < 0:\n",
    "        count -= 1\n",
    "        break\n",
    "    prop -= 1\n",
    "    count += 1\n",
    "    tim -= 5 * count\n",
    "print(count)"
   ]
  },
  {
   "cell_type": "code",
   "execution_count": 61,
   "metadata": {},
   "outputs": [
    {
     "name": "stdout",
     "output_type": "stream",
     "text": [
      "sa\n"
     ]
    },
    {
     "ename": "ValueError",
     "evalue": "invalid literal for int() with base 10: 'sa'",
     "output_type": "error",
     "traceback": [
      "\u001b[1;31m---------------------------------------------------------------------------\u001b[0m",
      "\u001b[1;31mValueError\u001b[0m                                Traceback (most recent call last)",
      "\u001b[1;32m<ipython-input-61-6478f98744e3>\u001b[0m in \u001b[0;36m<module>\u001b[1;34m\u001b[0m\n\u001b[1;32m----> 1\u001b[1;33m \u001b[0mnumberOfTrips\u001b[0m\u001b[1;33m,\u001b[0m \u001b[0mspicialTrips\u001b[0m\u001b[1;33m,\u001b[0m \u001b[0mtripCost\u001b[0m\u001b[1;33m,\u001b[0m \u001b[0mspicialTripCost\u001b[0m \u001b[1;33m=\u001b[0m \u001b[0mlist\u001b[0m\u001b[1;33m(\u001b[0m\u001b[0mmap\u001b[0m\u001b[1;33m(\u001b[0m\u001b[0mint\u001b[0m\u001b[1;33m,\u001b[0m\u001b[0minput\u001b[0m\u001b[1;33m(\u001b[0m\u001b[1;33m)\u001b[0m\u001b[1;33m.\u001b[0m\u001b[0msplit\u001b[0m\u001b[1;33m(\u001b[0m\u001b[1;34m' '\u001b[0m\u001b[1;33m)\u001b[0m\u001b[1;33m)\u001b[0m\u001b[1;33m)\u001b[0m\u001b[1;33m\u001b[0m\u001b[1;33m\u001b[0m\u001b[0m\n\u001b[0m\u001b[0;32m      2\u001b[0m \u001b[0misSpical\u001b[0m \u001b[1;33m=\u001b[0m \u001b[1;33m(\u001b[0m\u001b[0mspicialTripCost\u001b[0m \u001b[1;33m//\u001b[0m \u001b[0mspicialTrips\u001b[0m\u001b[1;33m)\u001b[0m \u001b[1;33m<\u001b[0m \u001b[0mtripCost\u001b[0m\u001b[1;33m\u001b[0m\u001b[1;33m\u001b[0m\u001b[0m\n\u001b[0;32m      3\u001b[0m \u001b[0mextraSpical\u001b[0m \u001b[1;33m=\u001b[0m \u001b[0misSpical\u001b[0m \u001b[1;32mand\u001b[0m \u001b[1;33m(\u001b[0m\u001b[0mnumberOfTrips\u001b[0m \u001b[1;33m<\u001b[0m \u001b[0mspicialTrips\u001b[0m\u001b[1;33m)\u001b[0m\u001b[1;33m\u001b[0m\u001b[1;33m\u001b[0m\u001b[0m\n\u001b[0;32m      4\u001b[0m \u001b[0mfinalCost\u001b[0m \u001b[1;33m=\u001b[0m \u001b[1;36m0\u001b[0m\u001b[1;33m\u001b[0m\u001b[1;33m\u001b[0m\u001b[0m\n\u001b[0;32m      5\u001b[0m \u001b[1;33m\u001b[0m\u001b[0m\n",
      "\u001b[1;31mValueError\u001b[0m: invalid literal for int() with base 10: 'sa'"
     ]
    }
   ],
   "source": [
    "################ NOT SOLVED ###################\n",
    "## cheap travel\n",
    "## cheap travel\n",
    "\n",
    "x = ['6 2 1 2', '5 2 2 3', '10 3 5 1', '995 1 2 1', '101 110 1 100', '1 1000 1 2']\n",
    "z = 6, 8, 4, 995, 100, 1\n",
    "for item, res in zip(x, z):\n",
    "    numberOfTrips, spicialTrips, tripCost, spicialTripCost = list(map(int, item.split(' '))) # input()\n",
    "    \n",
    "    isSpical = (spicialTripCost // spicialTrips) < tripCost \n",
    "    isBigger = (numberOfTrips < spicialTrips)\n",
    "    isTripMin = min(tripCost, spicialTripCost) == tripCost\n",
    "    \n",
    "    finalCost = 0\n",
    "\n",
    "    if (spicialTrips * tripCost <= spicialTripCost) or isSpical:\n",
    "        finalCost += numberOfTrips//spicialTrips * spicialTripCost\n",
    "        \n",
    "    else:\n",
    "        finalCost += numberOfTrips * tripCost\n",
    "        \n",
    "\n",
    "    print(finalCost)\n",
    "    print(finalCost == res)"
   ]
  },
  {
   "cell_type": "code",
   "execution_count": null,
   "metadata": {},
   "outputs": [],
   "source": [
    "a = int(input())\n",
    "b = int(input())\n",
    "\n",
    "print(a+b)"
   ]
  },
  {
   "cell_type": "code",
   "execution_count": null,
   "metadata": {},
   "outputs": [],
   "source": []
  },
  {
   "cell_type": "code",
   "execution_count": null,
   "metadata": {},
   "outputs": [],
   "source": []
  },
  {
   "cell_type": "code",
   "execution_count": null,
   "metadata": {},
   "outputs": [],
   "source": []
  },
  {
   "cell_type": "code",
   "execution_count": null,
   "metadata": {},
   "outputs": [],
   "source": []
  },
  {
   "cell_type": "code",
   "execution_count": null,
   "metadata": {},
   "outputs": [],
   "source": []
  },
  {
   "cell_type": "code",
   "execution_count": null,
   "metadata": {},
   "outputs": [],
   "source": []
  },
  {
   "cell_type": "code",
   "execution_count": null,
   "metadata": {},
   "outputs": [],
   "source": []
  },
  {
   "cell_type": "code",
   "execution_count": null,
   "metadata": {},
   "outputs": [],
   "source": []
  },
  {
   "cell_type": "code",
   "execution_count": null,
   "metadata": {},
   "outputs": [],
   "source": []
  }
 ],
 "metadata": {
  "kernelspec": {
   "display_name": "Python 3",
   "language": "python",
   "name": "python3"
  },
  "language_info": {
   "codemirror_mode": {
    "name": "ipython",
    "version": 3
   },
   "file_extension": ".py",
   "mimetype": "text/x-python",
   "name": "python",
   "nbconvert_exporter": "python",
   "pygments_lexer": "ipython3",
   "version": "3.7.6"
  }
 },
 "nbformat": 4,
 "nbformat_minor": 2
}
